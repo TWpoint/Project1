{
 "cells": [
  {
   "cell_type": "markdown",
   "id": "4f2dfcac-3e77-4386-a09f-a6ca8f77350c",
   "metadata": {
    "pycharm": {
     "name": "#%% md\n"
    }
   },
   "source": [
    "# Task 2: Understand body language by gesture recognition with convolutional neural network"
   ]
  },
  {
   "cell_type": "markdown",
   "id": "0e9b2526-0909-476e-82ca-f688785da04d",
   "metadata": {
    "pycharm": {
     "name": "#%% md\n"
    }
   },
   "source": [
    "## 1. Do literature search on Convolution Neural Network. Learn how to build a convolutional layer in PyTorch."
   ]
  },
  {
   "cell_type": "markdown",
   "id": "7fc76db6-4a78-42d2-b6e7-8835a48df88c",
   "metadata": {
    "pycharm": {
     "name": "#%% md\n"
    }
   },
   "source": [
    "## 2. Referring to the guide in Task 1, build your own network for gesture classification using convolutional layers. Please see the references 4 in the manual to learn how to build convolutional layers in PyTorch."
   ]
  },
  {
   "cell_type": "markdown",
   "id": "01b39684-c416-4dcc-b380-27d86876dbea",
   "metadata": {
    "pycharm": {
     "name": "#%% md\n"
    }
   },
   "source": [
    "## 3. Analyse and comment on the performance of the model. Make a comparison between the fully connected based and convolutional based models and comment on it."
   ]
  },
  {
   "cell_type": "code",
   "execution_count": 81,
   "outputs": [],
   "source": [
    "import cv2\n",
    "import numpy as np\n",
    "import os\n",
    "import itertools\n",
    "import torch.utils.data as utils_data\n",
    "import torch.nn as nn\n",
    "import torch"
   ],
   "metadata": {
    "collapsed": false,
    "pycharm": {
     "name": "#%%\n"
    }
   }
  },
  {
   "cell_type": "code",
   "execution_count": 82,
   "outputs": [],
   "source": [
    "path = './dataset/images'\n",
    "\n",
    "label_path = './dataset/labels'\n",
    "if not os.path.exists(label_path):\n",
    "    os.makedirs(label_path)\n",
    "\n",
    "files = os.listdir(path)\n",
    "index = 0\n",
    "for i, file in enumerate(files):\n",
    "    if file != '.DS_Store':\n",
    "        subclass_label_path = os.path.join(label_path, file + '.txt')\n",
    "        with open(subclass_label_path, 'w') as f:\n",
    "            f.write('#label\\n')\n",
    "        for _ in range(len(os.listdir(os.path.join(path, file)))):\n",
    "            with open(subclass_label_path, 'a') as f:\n",
    "                f.write('{:d}\\n'.format(index))\n",
    "        index = index + 1\n",
    "    f.close()"
   ],
   "metadata": {
    "collapsed": false,
    "pycharm": {
     "name": "#%%\n"
    }
   }
  },
  {
   "cell_type": "code",
   "execution_count": 83,
   "outputs": [],
   "source": [
    "Image = []\n",
    "path_images = './dataset/images'\n",
    "for mainDir, subDir, fileList in os.walk(path_images):\n",
    "    for file in fileList:\n",
    "        if file != '.DS_Store':\n",
    "            currentPath = os.path.join(mainDir, file)\n",
    "            Image.append(cv2.resize(cv2.imread(currentPath), (32, 32)))\n",
    "Image = np.array(Image)\n",
    "Image = np.transpose(Image, (0, 3, 1, 2))\n",
    "dataset_size, C, H, W = Image.shape\n",
    "\n",
    "Label = []\n",
    "path_labels = './dataset/labels'\n",
    "for file in os.listdir(path_labels):\n",
    "    Label.append(np.loadtxt(os.path.join(path_labels, file)))\n",
    "Label = np.array(list(itertools.chain.from_iterable(Label)))\n",
    "num_classes = int(np.max(Label)) + 1"
   ],
   "metadata": {
    "collapsed": false,
    "pycharm": {
     "name": "#%%\n"
    }
   }
  },
  {
   "cell_type": "code",
   "execution_count": 84,
   "outputs": [],
   "source": [
    "class CNNModel(nn.Module):\n",
    "    def __init__(self):\n",
    "        super(CNNModel, self).__init__()\n",
    "        self.module1 = nn.Sequential(\n",
    "            nn.Conv2d(3, 32, 5, padding=2),\n",
    "            nn.MaxPool2d(2),\n",
    "            nn.Conv2d(32, 32, 5, padding=2),\n",
    "            nn.MaxPool2d(2),\n",
    "            nn.Conv2d(32, 64, 5, padding=2),\n",
    "            nn.MaxPool2d(2),\n",
    "            nn.Flatten(),\n",
    "            nn.Linear(32*32,256),\n",
    "            nn.Linear(256,64),\n",
    "            nn.Linear(64,4)\n",
    "        )\n",
    "\n",
    "    def forward(self, x):\n",
    "        output = self.module1(x)\n",
    "        return output"
   ],
   "metadata": {
    "collapsed": false,
    "pycharm": {
     "name": "#%%\n"
    }
   }
  },
  {
   "cell_type": "code",
   "execution_count": 85,
   "outputs": [],
   "source": [
    "model = CNNModel()\n",
    "# if torch.cuda.is_available():\n",
    "#     model = model.cuda()\n",
    "optimizer = torch.optim.Adam(model.parameters(), lr=0.001, weight_decay=0.0001)\n",
    "loss_func = nn.CrossEntropyLoss()"
   ],
   "metadata": {
    "collapsed": false,
    "pycharm": {
     "name": "#%%\n"
    }
   }
  },
  {
   "cell_type": "markdown",
   "source": [
    "Encapsulate data"
   ],
   "metadata": {
    "collapsed": false,
    "pycharm": {
     "name": "#%% md\n"
    }
   }
  },
  {
   "cell_type": "code",
   "execution_count": 86,
   "outputs": [
    {
     "name": "stdout",
     "output_type": "stream",
     "text": [
      "Data is ready!\n"
     ]
    }
   ],
   "source": [
    "dataset = utils_data.TensorDataset(torch.Tensor(Image), torch.LongTensor(Label))\n",
    "split_ratio = 0.8\n",
    "train_size = int(split_ratio * dataset_size)\n",
    "test_size = dataset_size - train_size\n",
    "train_set, test_set = utils_data.random_split(dataset, [train_size, test_size])\n",
    "\n",
    "train_loader = utils_data.DataLoader(dataset=train_set, batch_size=8, shuffle=True)\n",
    "test_loader = utils_data.DataLoader(dataset=test_set, batch_size=8, shuffle=True)\n",
    "\n",
    "print('Data is ready!')"
   ],
   "metadata": {
    "collapsed": false,
    "pycharm": {
     "name": "#%%\n"
    }
   }
  },
  {
   "cell_type": "code",
   "execution_count": null,
   "outputs": [
    {
     "name": "stdout",
     "output_type": "stream",
     "text": [
      "epoch=0\ttrain loss=50.435311\ttrain accuracy=0.177\ttest accuracy=0.500\n",
      "epoch=1\ttrain loss=7.963439\ttrain accuracy=0.323\ttest accuracy=0.375\n",
      "epoch=2\ttrain loss=4.588622\ttrain accuracy=0.452\ttest accuracy=0.438\n",
      "epoch=3\ttrain loss=1.235682\ttrain accuracy=0.645\ttest accuracy=1.000\n",
      "epoch=4\ttrain loss=0.800054\ttrain accuracy=0.758\ttest accuracy=0.750\n",
      "epoch=5\ttrain loss=0.422171\ttrain accuracy=0.839\ttest accuracy=1.000\n",
      "epoch=6\ttrain loss=0.351777\ttrain accuracy=0.855\ttest accuracy=1.000\n",
      "epoch=7\ttrain loss=0.305334\ttrain accuracy=0.855\ttest accuracy=0.875\n",
      "epoch=8\ttrain loss=0.212323\ttrain accuracy=0.903\ttest accuracy=1.000\n",
      "epoch=9\ttrain loss=0.199271\ttrain accuracy=0.919\ttest accuracy=1.000\n",
      "epoch=10\ttrain loss=0.184218\ttrain accuracy=0.935\ttest accuracy=0.938\n",
      "epoch=11\ttrain loss=0.110598\ttrain accuracy=0.984\ttest accuracy=1.000\n",
      "epoch=12\ttrain loss=0.072438\ttrain accuracy=1.000\ttest accuracy=0.938\n",
      "epoch=13\ttrain loss=0.071819\ttrain accuracy=0.984\ttest accuracy=1.000\n",
      "epoch=14\ttrain loss=0.067455\ttrain accuracy=0.968\ttest accuracy=1.000\n",
      "epoch=15\ttrain loss=0.054694\ttrain accuracy=1.000\ttest accuracy=0.938\n",
      "epoch=16\ttrain loss=0.042995\ttrain accuracy=1.000\ttest accuracy=1.000\n",
      "epoch=17\ttrain loss=0.052316\ttrain accuracy=1.000\ttest accuracy=0.938\n",
      "epoch=18\ttrain loss=0.035177\ttrain accuracy=1.000\ttest accuracy=1.000\n",
      "epoch=19\ttrain loss=0.031843\ttrain accuracy=1.000\ttest accuracy=1.000\n",
      "epoch=20\ttrain loss=0.029693\ttrain accuracy=1.000\ttest accuracy=1.000\n",
      "epoch=21\ttrain loss=0.023225\ttrain accuracy=1.000\ttest accuracy=1.000\n",
      "epoch=22\ttrain loss=0.028216\ttrain accuracy=1.000\ttest accuracy=1.000\n",
      "epoch=23\ttrain loss=0.029282\ttrain accuracy=1.000\ttest accuracy=0.938\n",
      "epoch=24\ttrain loss=0.028710\ttrain accuracy=1.000\ttest accuracy=1.000\n",
      "epoch=25\ttrain loss=0.024531\ttrain accuracy=1.000\ttest accuracy=0.938\n",
      "epoch=26\ttrain loss=0.017674\ttrain accuracy=1.000\ttest accuracy=1.000\n",
      "epoch=27\ttrain loss=0.015192\ttrain accuracy=1.000\ttest accuracy=1.000\n",
      "epoch=28\ttrain loss=0.012852\ttrain accuracy=1.000\ttest accuracy=1.000\n",
      "epoch=29\ttrain loss=0.012024\ttrain accuracy=1.000\ttest accuracy=1.000\n",
      "epoch=30\ttrain loss=0.011159\ttrain accuracy=1.000\ttest accuracy=1.000\n",
      "epoch=31\ttrain loss=0.010545\ttrain accuracy=1.000\ttest accuracy=1.000\n",
      "epoch=32\ttrain loss=0.010222\ttrain accuracy=1.000\ttest accuracy=1.000\n",
      "epoch=33\ttrain loss=0.010109\ttrain accuracy=1.000\ttest accuracy=1.000\n",
      "epoch=34\ttrain loss=0.009077\ttrain accuracy=1.000\ttest accuracy=1.000\n",
      "epoch=35\ttrain loss=0.008717\ttrain accuracy=1.000\ttest accuracy=1.000\n",
      "epoch=36\ttrain loss=0.007382\ttrain accuracy=1.000\ttest accuracy=1.000\n",
      "epoch=37\ttrain loss=0.007541\ttrain accuracy=1.000\ttest accuracy=1.000\n",
      "epoch=38\ttrain loss=0.006689\ttrain accuracy=1.000\ttest accuracy=1.000\n",
      "epoch=39\ttrain loss=0.006465\ttrain accuracy=1.000\ttest accuracy=1.000\n",
      "epoch=40\ttrain loss=0.006493\ttrain accuracy=1.000\ttest accuracy=1.000\n",
      "epoch=41\ttrain loss=0.006006\ttrain accuracy=1.000\ttest accuracy=1.000\n",
      "epoch=42\ttrain loss=0.005589\ttrain accuracy=1.000\ttest accuracy=1.000\n",
      "epoch=43\ttrain loss=0.005239\ttrain accuracy=1.000\ttest accuracy=1.000\n",
      "epoch=44\ttrain loss=0.004969\ttrain accuracy=1.000\ttest accuracy=1.000\n",
      "epoch=45\ttrain loss=0.005354\ttrain accuracy=1.000\ttest accuracy=1.000\n",
      "epoch=46\ttrain loss=0.005092\ttrain accuracy=1.000\ttest accuracy=1.000\n",
      "epoch=47\ttrain loss=0.004451\ttrain accuracy=1.000\ttest accuracy=1.000\n",
      "epoch=48\ttrain loss=0.004418\ttrain accuracy=1.000\ttest accuracy=1.000\n",
      "epoch=49\ttrain loss=0.004331\ttrain accuracy=1.000\ttest accuracy=1.000\n",
      "epoch=50\ttrain loss=0.004058\ttrain accuracy=1.000\ttest accuracy=1.000\n",
      "epoch=51\ttrain loss=0.004052\ttrain accuracy=1.000\ttest accuracy=1.000\n",
      "epoch=52\ttrain loss=0.003780\ttrain accuracy=1.000\ttest accuracy=1.000\n",
      "epoch=53\ttrain loss=0.003496\ttrain accuracy=1.000\ttest accuracy=1.000\n",
      "epoch=54\ttrain loss=0.003332\ttrain accuracy=1.000\ttest accuracy=1.000\n",
      "epoch=55\ttrain loss=0.003204\ttrain accuracy=1.000\ttest accuracy=1.000\n",
      "epoch=56\ttrain loss=0.003179\ttrain accuracy=1.000\ttest accuracy=1.000\n",
      "epoch=57\ttrain loss=0.003003\ttrain accuracy=1.000\ttest accuracy=1.000\n",
      "epoch=58\ttrain loss=0.002992\ttrain accuracy=1.000\ttest accuracy=1.000\n",
      "epoch=59\ttrain loss=0.002823\ttrain accuracy=1.000\ttest accuracy=1.000\n",
      "epoch=60\ttrain loss=0.002779\ttrain accuracy=1.000\ttest accuracy=1.000\n",
      "epoch=61\ttrain loss=0.002596\ttrain accuracy=1.000\ttest accuracy=1.000\n",
      "epoch=62\ttrain loss=0.002529\ttrain accuracy=1.000\ttest accuracy=1.000\n",
      "epoch=63\ttrain loss=0.002479\ttrain accuracy=1.000\ttest accuracy=1.000\n",
      "epoch=64\ttrain loss=0.002415\ttrain accuracy=1.000\ttest accuracy=1.000\n",
      "epoch=65\ttrain loss=0.002284\ttrain accuracy=1.000\ttest accuracy=1.000\n",
      "epoch=66\ttrain loss=0.002196\ttrain accuracy=1.000\ttest accuracy=1.000\n",
      "epoch=67\ttrain loss=0.002190\ttrain accuracy=1.000\ttest accuracy=1.000\n",
      "epoch=68\ttrain loss=0.002122\ttrain accuracy=1.000\ttest accuracy=1.000\n",
      "epoch=69\ttrain loss=0.002050\ttrain accuracy=1.000\ttest accuracy=1.000\n",
      "epoch=70\ttrain loss=0.002013\ttrain accuracy=1.000\ttest accuracy=1.000\n",
      "epoch=71\ttrain loss=0.001937\ttrain accuracy=1.000\ttest accuracy=1.000\n",
      "epoch=72\ttrain loss=0.001855\ttrain accuracy=1.000\ttest accuracy=1.000\n",
      "epoch=73\ttrain loss=0.001826\ttrain accuracy=1.000\ttest accuracy=1.000\n",
      "epoch=74\ttrain loss=0.001762\ttrain accuracy=1.000\ttest accuracy=1.000\n",
      "epoch=75\ttrain loss=0.001730\ttrain accuracy=1.000\ttest accuracy=1.000\n",
      "epoch=76\ttrain loss=0.001637\ttrain accuracy=1.000\ttest accuracy=1.000\n",
      "epoch=77\ttrain loss=0.001658\ttrain accuracy=1.000\ttest accuracy=1.000\n",
      "epoch=78\ttrain loss=0.001580\ttrain accuracy=1.000\ttest accuracy=1.000\n",
      "epoch=79\ttrain loss=0.001559\ttrain accuracy=1.000\ttest accuracy=1.000\n",
      "epoch=80\ttrain loss=0.001492\ttrain accuracy=1.000\ttest accuracy=1.000\n",
      "epoch=81\ttrain loss=0.001435\ttrain accuracy=1.000\ttest accuracy=1.000\n",
      "epoch=82\ttrain loss=0.001436\ttrain accuracy=1.000\ttest accuracy=1.000\n",
      "epoch=83\ttrain loss=0.001426\ttrain accuracy=1.000\ttest accuracy=1.000\n",
      "epoch=84\ttrain loss=0.001357\ttrain accuracy=1.000\ttest accuracy=1.000\n",
      "epoch=85\ttrain loss=0.001322\ttrain accuracy=1.000\ttest accuracy=1.000\n",
      "epoch=86\ttrain loss=0.001333\ttrain accuracy=1.000\ttest accuracy=1.000\n",
      "epoch=87\ttrain loss=0.001244\ttrain accuracy=1.000\ttest accuracy=1.000\n",
      "epoch=88\ttrain loss=0.001230\ttrain accuracy=1.000\ttest accuracy=1.000\n",
      "epoch=89\ttrain loss=0.001204\ttrain accuracy=1.000\ttest accuracy=1.000\n",
      "epoch=90\ttrain loss=0.001194\ttrain accuracy=1.000\ttest accuracy=1.000\n",
      "epoch=91\ttrain loss=0.001146\ttrain accuracy=1.000\ttest accuracy=1.000\n",
      "epoch=92\ttrain loss=0.001149\ttrain accuracy=1.000\ttest accuracy=1.000\n",
      "epoch=93\ttrain loss=0.001100\ttrain accuracy=1.000\ttest accuracy=1.000\n",
      "epoch=94\ttrain loss=0.001092\ttrain accuracy=1.000\ttest accuracy=1.000\n",
      "epoch=95\ttrain loss=0.001071\ttrain accuracy=1.000\ttest accuracy=1.000\n",
      "epoch=96\ttrain loss=0.001026\ttrain accuracy=1.000\ttest accuracy=1.000\n",
      "epoch=97\ttrain loss=0.001001\ttrain accuracy=1.000\ttest accuracy=1.000\n",
      "epoch=98\ttrain loss=0.001026\ttrain accuracy=1.000\ttest accuracy=1.000\n",
      "epoch=99\ttrain loss=0.000985\ttrain accuracy=1.000\ttest accuracy=1.000\n",
      "epoch=100\ttrain loss=0.000998\ttrain accuracy=1.000\ttest accuracy=1.000\n",
      "epoch=101\ttrain loss=0.000954\ttrain accuracy=1.000\ttest accuracy=1.000\n",
      "epoch=102\ttrain loss=0.000946\ttrain accuracy=1.000\ttest accuracy=1.000\n",
      "epoch=103\ttrain loss=0.000910\ttrain accuracy=1.000\ttest accuracy=1.000\n",
      "epoch=104\ttrain loss=0.000869\ttrain accuracy=1.000\ttest accuracy=1.000\n",
      "epoch=105\ttrain loss=0.000864\ttrain accuracy=1.000\ttest accuracy=1.000\n",
      "epoch=106\ttrain loss=0.000884\ttrain accuracy=1.000\ttest accuracy=1.000\n",
      "epoch=107\ttrain loss=0.000828\ttrain accuracy=1.000\ttest accuracy=1.000\n",
      "epoch=108\ttrain loss=0.000831\ttrain accuracy=1.000\ttest accuracy=1.000\n",
      "epoch=109\ttrain loss=0.000799\ttrain accuracy=1.000\ttest accuracy=1.000\n",
      "epoch=110\ttrain loss=0.000775\ttrain accuracy=1.000\ttest accuracy=1.000\n",
      "epoch=111\ttrain loss=0.000775\ttrain accuracy=1.000\ttest accuracy=1.000\n",
      "epoch=112\ttrain loss=0.000753\ttrain accuracy=1.000\ttest accuracy=1.000\n",
      "epoch=113\ttrain loss=0.000745\ttrain accuracy=1.000\ttest accuracy=1.000\n",
      "epoch=114\ttrain loss=0.000769\ttrain accuracy=1.000\ttest accuracy=1.000\n",
      "epoch=115\ttrain loss=0.000728\ttrain accuracy=1.000\ttest accuracy=1.000\n",
      "epoch=116\ttrain loss=0.000701\ttrain accuracy=1.000\ttest accuracy=1.000\n",
      "epoch=117\ttrain loss=0.000708\ttrain accuracy=1.000\ttest accuracy=1.000\n",
      "epoch=118\ttrain loss=0.000674\ttrain accuracy=1.000\ttest accuracy=1.000\n",
      "epoch=119\ttrain loss=0.000654\ttrain accuracy=1.000\ttest accuracy=1.000\n",
      "epoch=120\ttrain loss=0.000660\ttrain accuracy=1.000\ttest accuracy=1.000\n",
      "epoch=121\ttrain loss=0.000663\ttrain accuracy=1.000\ttest accuracy=1.000\n",
      "epoch=122\ttrain loss=0.000665\ttrain accuracy=1.000\ttest accuracy=1.000\n",
      "epoch=123\ttrain loss=0.000623\ttrain accuracy=1.000\ttest accuracy=1.000\n",
      "epoch=124\ttrain loss=0.000605\ttrain accuracy=1.000\ttest accuracy=1.000\n",
      "epoch=125\ttrain loss=0.000609\ttrain accuracy=1.000\ttest accuracy=1.000\n",
      "epoch=126\ttrain loss=0.000609\ttrain accuracy=1.000\ttest accuracy=1.000\n",
      "epoch=127\ttrain loss=0.000582\ttrain accuracy=1.000\ttest accuracy=1.000\n",
      "epoch=128\ttrain loss=0.000575\ttrain accuracy=1.000\ttest accuracy=1.000\n",
      "epoch=129\ttrain loss=0.000576\ttrain accuracy=1.000\ttest accuracy=1.000\n",
      "epoch=130\ttrain loss=0.000571\ttrain accuracy=1.000\ttest accuracy=1.000\n",
      "epoch=131\ttrain loss=0.000561\ttrain accuracy=1.000\ttest accuracy=1.000\n",
      "epoch=132\ttrain loss=0.000564\ttrain accuracy=1.000\ttest accuracy=1.000\n",
      "epoch=133\ttrain loss=0.000540\ttrain accuracy=1.000\ttest accuracy=1.000\n",
      "epoch=134\ttrain loss=0.000522\ttrain accuracy=1.000\ttest accuracy=1.000\n",
      "epoch=135\ttrain loss=0.000520\ttrain accuracy=1.000\ttest accuracy=1.000\n",
      "epoch=136\ttrain loss=0.000503\ttrain accuracy=1.000\ttest accuracy=1.000\n",
      "epoch=137\ttrain loss=0.000509\ttrain accuracy=1.000\ttest accuracy=1.000\n",
      "epoch=138\ttrain loss=0.000493\ttrain accuracy=1.000\ttest accuracy=1.000\n",
      "epoch=139\ttrain loss=0.000494\ttrain accuracy=1.000\ttest accuracy=1.000\n",
      "epoch=140\ttrain loss=0.000487\ttrain accuracy=1.000\ttest accuracy=1.000\n",
      "epoch=141\ttrain loss=0.000462\ttrain accuracy=1.000\ttest accuracy=1.000\n",
      "epoch=142\ttrain loss=0.000464\ttrain accuracy=1.000\ttest accuracy=1.000\n",
      "epoch=143\ttrain loss=0.000454\ttrain accuracy=1.000\ttest accuracy=1.000\n",
      "epoch=144\ttrain loss=0.000443\ttrain accuracy=1.000\ttest accuracy=1.000\n",
      "epoch=145\ttrain loss=0.000449\ttrain accuracy=1.000\ttest accuracy=1.000\n",
      "epoch=146\ttrain loss=0.000451\ttrain accuracy=1.000\ttest accuracy=1.000\n",
      "epoch=147\ttrain loss=0.000449\ttrain accuracy=1.000\ttest accuracy=1.000\n",
      "epoch=148\ttrain loss=0.000437\ttrain accuracy=1.000\ttest accuracy=1.000\n",
      "epoch=149\ttrain loss=0.000418\ttrain accuracy=1.000\ttest accuracy=1.000\n",
      "epoch=150\ttrain loss=0.000408\ttrain accuracy=1.000\ttest accuracy=1.000\n",
      "epoch=151\ttrain loss=0.000411\ttrain accuracy=1.000\ttest accuracy=1.000\n",
      "epoch=152\ttrain loss=0.000406\ttrain accuracy=1.000\ttest accuracy=1.000\n",
      "epoch=153\ttrain loss=0.000397\ttrain accuracy=1.000\ttest accuracy=1.000\n",
      "epoch=154\ttrain loss=0.000402\ttrain accuracy=1.000\ttest accuracy=1.000\n",
      "epoch=155\ttrain loss=0.000390\ttrain accuracy=1.000\ttest accuracy=1.000\n",
      "epoch=156\ttrain loss=0.000387\ttrain accuracy=1.000\ttest accuracy=1.000\n",
      "epoch=157\ttrain loss=0.000385\ttrain accuracy=1.000\ttest accuracy=1.000\n",
      "epoch=158\ttrain loss=0.000375\ttrain accuracy=1.000\ttest accuracy=1.000\n",
      "epoch=159\ttrain loss=0.000381\ttrain accuracy=1.000\ttest accuracy=1.000\n",
      "epoch=160\ttrain loss=0.000365\ttrain accuracy=1.000\ttest accuracy=1.000\n",
      "epoch=161\ttrain loss=0.000349\ttrain accuracy=1.000\ttest accuracy=1.000\n",
      "epoch=162\ttrain loss=0.000351\ttrain accuracy=1.000\ttest accuracy=1.000\n",
      "epoch=163\ttrain loss=0.000347\ttrain accuracy=1.000\ttest accuracy=1.000\n",
      "epoch=164\ttrain loss=0.000340\ttrain accuracy=1.000\ttest accuracy=1.000\n",
      "epoch=165\ttrain loss=0.000345\ttrain accuracy=1.000\ttest accuracy=1.000\n",
      "epoch=166\ttrain loss=0.000336\ttrain accuracy=1.000\ttest accuracy=1.000\n",
      "epoch=167\ttrain loss=0.000334\ttrain accuracy=1.000\ttest accuracy=1.000\n",
      "epoch=168\ttrain loss=0.000333\ttrain accuracy=1.000\ttest accuracy=1.000\n",
      "epoch=169\ttrain loss=0.000318\ttrain accuracy=1.000\ttest accuracy=1.000\n",
      "epoch=170\ttrain loss=0.000331\ttrain accuracy=1.000\ttest accuracy=1.000\n",
      "epoch=171\ttrain loss=0.000316\ttrain accuracy=1.000\ttest accuracy=1.000\n",
      "epoch=172\ttrain loss=0.000310\ttrain accuracy=1.000\ttest accuracy=1.000\n",
      "epoch=173\ttrain loss=0.000304\ttrain accuracy=1.000\ttest accuracy=1.000\n",
      "epoch=174\ttrain loss=0.000301\ttrain accuracy=1.000\ttest accuracy=1.000\n",
      "epoch=175\ttrain loss=0.000298\ttrain accuracy=1.000\ttest accuracy=1.000\n",
      "epoch=176\ttrain loss=0.000296\ttrain accuracy=1.000\ttest accuracy=1.000\n",
      "epoch=177\ttrain loss=0.000303\ttrain accuracy=1.000\ttest accuracy=1.000\n",
      "epoch=178\ttrain loss=0.000294\ttrain accuracy=1.000\ttest accuracy=1.000\n",
      "epoch=179\ttrain loss=0.000287\ttrain accuracy=1.000\ttest accuracy=1.000\n",
      "epoch=180\ttrain loss=0.000282\ttrain accuracy=1.000\ttest accuracy=1.000\n",
      "epoch=181\ttrain loss=0.000278\ttrain accuracy=1.000\ttest accuracy=1.000\n",
      "epoch=182\ttrain loss=0.000283\ttrain accuracy=1.000\ttest accuracy=1.000\n",
      "epoch=183\ttrain loss=0.000270\ttrain accuracy=1.000\ttest accuracy=1.000\n",
      "epoch=184\ttrain loss=0.000267\ttrain accuracy=1.000\ttest accuracy=1.000\n",
      "epoch=185\ttrain loss=0.000269\ttrain accuracy=1.000\ttest accuracy=1.000\n",
      "epoch=186\ttrain loss=0.000272\ttrain accuracy=1.000\ttest accuracy=1.000\n",
      "epoch=187\ttrain loss=0.000267\ttrain accuracy=1.000\ttest accuracy=1.000\n",
      "epoch=188\ttrain loss=0.000254\ttrain accuracy=1.000\ttest accuracy=1.000\n",
      "epoch=189\ttrain loss=0.000255\ttrain accuracy=1.000\ttest accuracy=1.000\n",
      "epoch=190\ttrain loss=0.000256\ttrain accuracy=1.000\ttest accuracy=1.000\n",
      "epoch=191\ttrain loss=0.000250\ttrain accuracy=1.000\ttest accuracy=1.000\n",
      "epoch=192\ttrain loss=0.000247\ttrain accuracy=1.000\ttest accuracy=1.000\n",
      "epoch=193\ttrain loss=0.000243\ttrain accuracy=1.000\ttest accuracy=1.000\n",
      "epoch=194\ttrain loss=0.000243\ttrain accuracy=1.000\ttest accuracy=1.000\n",
      "epoch=195\ttrain loss=0.000234\ttrain accuracy=1.000\ttest accuracy=1.000\n",
      "epoch=196\ttrain loss=0.000246\ttrain accuracy=1.000\ttest accuracy=1.000\n",
      "epoch=197\ttrain loss=0.000235\ttrain accuracy=1.000\ttest accuracy=1.000\n",
      "epoch=198\ttrain loss=0.000237\ttrain accuracy=1.000\ttest accuracy=1.000\n",
      "epoch=199\ttrain loss=0.000225\ttrain accuracy=1.000\ttest accuracy=1.000\n",
      "epoch=200\ttrain loss=0.000229\ttrain accuracy=1.000\ttest accuracy=1.000\n",
      "epoch=201\ttrain loss=0.000223\ttrain accuracy=1.000\ttest accuracy=1.000\n",
      "epoch=202\ttrain loss=0.000223\ttrain accuracy=1.000\ttest accuracy=1.000\n",
      "epoch=203\ttrain loss=0.000219\ttrain accuracy=1.000\ttest accuracy=1.000\n",
      "epoch=204\ttrain loss=0.000215\ttrain accuracy=1.000\ttest accuracy=1.000\n",
      "epoch=205\ttrain loss=0.000220\ttrain accuracy=1.000\ttest accuracy=1.000\n",
      "epoch=206\ttrain loss=0.000206\ttrain accuracy=1.000\ttest accuracy=1.000\n",
      "epoch=207\ttrain loss=0.000215\ttrain accuracy=1.000\ttest accuracy=1.000\n",
      "epoch=208\ttrain loss=0.000213\ttrain accuracy=1.000\ttest accuracy=1.000\n",
      "epoch=209\ttrain loss=0.000208\ttrain accuracy=1.000\ttest accuracy=1.000\n",
      "epoch=210\ttrain loss=0.000204\ttrain accuracy=1.000\ttest accuracy=1.000\n",
      "epoch=211\ttrain loss=0.000199\ttrain accuracy=1.000\ttest accuracy=1.000\n",
      "epoch=212\ttrain loss=0.000202\ttrain accuracy=1.000\ttest accuracy=1.000\n",
      "epoch=213\ttrain loss=0.000202\ttrain accuracy=1.000\ttest accuracy=1.000\n",
      "epoch=214\ttrain loss=0.000194\ttrain accuracy=1.000\ttest accuracy=1.000\n",
      "epoch=215\ttrain loss=0.000193\ttrain accuracy=1.000\ttest accuracy=1.000\n",
      "epoch=216\ttrain loss=0.000190\ttrain accuracy=1.000\ttest accuracy=1.000\n",
      "epoch=217\ttrain loss=0.000188\ttrain accuracy=1.000\ttest accuracy=1.000\n",
      "epoch=218\ttrain loss=0.000194\ttrain accuracy=1.000\ttest accuracy=1.000\n",
      "epoch=219\ttrain loss=0.000189\ttrain accuracy=1.000\ttest accuracy=1.000\n",
      "epoch=220\ttrain loss=0.000186\ttrain accuracy=1.000\ttest accuracy=1.000\n",
      "epoch=221\ttrain loss=0.000179\ttrain accuracy=1.000\ttest accuracy=1.000\n",
      "epoch=222\ttrain loss=0.000186\ttrain accuracy=1.000\ttest accuracy=1.000\n",
      "epoch=223\ttrain loss=0.000182\ttrain accuracy=1.000\ttest accuracy=1.000\n",
      "epoch=224\ttrain loss=0.000179\ttrain accuracy=1.000\ttest accuracy=1.000\n",
      "epoch=225\ttrain loss=0.000176\ttrain accuracy=1.000\ttest accuracy=1.000\n",
      "epoch=226\ttrain loss=0.000172\ttrain accuracy=1.000\ttest accuracy=1.000\n",
      "epoch=227\ttrain loss=0.000170\ttrain accuracy=1.000\ttest accuracy=1.000\n",
      "epoch=228\ttrain loss=0.000169\ttrain accuracy=1.000\ttest accuracy=1.000\n",
      "epoch=229\ttrain loss=0.000171\ttrain accuracy=1.000\ttest accuracy=1.000\n",
      "epoch=230\ttrain loss=0.000168\ttrain accuracy=1.000\ttest accuracy=1.000\n",
      "epoch=231\ttrain loss=0.000163\ttrain accuracy=1.000\ttest accuracy=1.000\n",
      "epoch=232\ttrain loss=0.000162\ttrain accuracy=1.000\ttest accuracy=1.000\n",
      "epoch=233\ttrain loss=0.000163\ttrain accuracy=1.000\ttest accuracy=1.000\n",
      "epoch=234\ttrain loss=0.000169\ttrain accuracy=1.000\ttest accuracy=1.000\n",
      "epoch=235\ttrain loss=0.000159\ttrain accuracy=1.000\ttest accuracy=1.000\n",
      "epoch=236\ttrain loss=0.000161\ttrain accuracy=1.000\ttest accuracy=1.000\n",
      "epoch=237\ttrain loss=0.000159\ttrain accuracy=1.000\ttest accuracy=1.000\n",
      "epoch=238\ttrain loss=0.000158\ttrain accuracy=1.000\ttest accuracy=1.000\n",
      "epoch=239\ttrain loss=0.000157\ttrain accuracy=1.000\ttest accuracy=1.000\n",
      "epoch=240\ttrain loss=0.000154\ttrain accuracy=1.000\ttest accuracy=1.000\n",
      "epoch=241\ttrain loss=0.000152\ttrain accuracy=1.000\ttest accuracy=1.000\n",
      "epoch=242\ttrain loss=0.000150\ttrain accuracy=1.000\ttest accuracy=1.000\n",
      "epoch=243\ttrain loss=0.000150\ttrain accuracy=1.000\ttest accuracy=1.000\n",
      "epoch=244\ttrain loss=0.000149\ttrain accuracy=1.000\ttest accuracy=1.000\n",
      "epoch=245\ttrain loss=0.000145\ttrain accuracy=1.000\ttest accuracy=1.000\n",
      "epoch=246\ttrain loss=0.000148\ttrain accuracy=1.000\ttest accuracy=1.000\n",
      "epoch=247\ttrain loss=0.000145\ttrain accuracy=1.000\ttest accuracy=1.000\n",
      "epoch=248\ttrain loss=0.000142\ttrain accuracy=1.000\ttest accuracy=1.000\n",
      "epoch=249\ttrain loss=0.000143\ttrain accuracy=1.000\ttest accuracy=1.000\n",
      "epoch=250\ttrain loss=0.000141\ttrain accuracy=1.000\ttest accuracy=1.000\n",
      "epoch=251\ttrain loss=0.000140\ttrain accuracy=1.000\ttest accuracy=1.000\n",
      "epoch=252\ttrain loss=0.000136\ttrain accuracy=1.000\ttest accuracy=1.000\n",
      "epoch=253\ttrain loss=0.000139\ttrain accuracy=1.000\ttest accuracy=1.000\n",
      "epoch=254\ttrain loss=0.000134\ttrain accuracy=1.000\ttest accuracy=1.000\n",
      "epoch=255\ttrain loss=0.000133\ttrain accuracy=1.000\ttest accuracy=1.000\n",
      "epoch=256\ttrain loss=0.000135\ttrain accuracy=1.000\ttest accuracy=1.000\n",
      "epoch=257\ttrain loss=0.000131\ttrain accuracy=1.000\ttest accuracy=1.000\n",
      "epoch=258\ttrain loss=0.000133\ttrain accuracy=1.000\ttest accuracy=1.000\n",
      "epoch=259\ttrain loss=0.000127\ttrain accuracy=1.000\ttest accuracy=1.000\n",
      "epoch=260\ttrain loss=0.000127\ttrain accuracy=1.000\ttest accuracy=1.000\n",
      "epoch=261\ttrain loss=0.000128\ttrain accuracy=1.000\ttest accuracy=1.000\n",
      "epoch=262\ttrain loss=0.000126\ttrain accuracy=1.000\ttest accuracy=1.000\n",
      "epoch=263\ttrain loss=0.000126\ttrain accuracy=1.000\ttest accuracy=1.000\n",
      "epoch=264\ttrain loss=0.000125\ttrain accuracy=1.000\ttest accuracy=1.000\n",
      "epoch=265\ttrain loss=0.000125\ttrain accuracy=1.000\ttest accuracy=1.000\n",
      "epoch=266\ttrain loss=0.000125\ttrain accuracy=1.000\ttest accuracy=1.000\n",
      "epoch=267\ttrain loss=0.000121\ttrain accuracy=1.000\ttest accuracy=1.000\n",
      "epoch=268\ttrain loss=0.000118\ttrain accuracy=1.000\ttest accuracy=1.000\n",
      "epoch=269\ttrain loss=0.000120\ttrain accuracy=1.000\ttest accuracy=1.000\n",
      "epoch=270\ttrain loss=0.000121\ttrain accuracy=1.000\ttest accuracy=1.000\n",
      "epoch=271\ttrain loss=0.000118\ttrain accuracy=1.000\ttest accuracy=1.000\n",
      "epoch=272\ttrain loss=0.000117\ttrain accuracy=1.000\ttest accuracy=1.000\n",
      "epoch=273\ttrain loss=0.000118\ttrain accuracy=1.000\ttest accuracy=1.000\n",
      "epoch=274\ttrain loss=0.000114\ttrain accuracy=1.000\ttest accuracy=1.000\n",
      "epoch=275\ttrain loss=0.000113\ttrain accuracy=1.000\ttest accuracy=1.000\n",
      "epoch=276\ttrain loss=0.000113\ttrain accuracy=1.000\ttest accuracy=1.000\n",
      "epoch=277\ttrain loss=0.000111\ttrain accuracy=1.000\ttest accuracy=1.000\n",
      "epoch=278\ttrain loss=0.000113\ttrain accuracy=1.000\ttest accuracy=1.000\n",
      "epoch=279\ttrain loss=0.000112\ttrain accuracy=1.000\ttest accuracy=1.000\n",
      "epoch=280\ttrain loss=0.000107\ttrain accuracy=1.000\ttest accuracy=1.000\n",
      "epoch=281\ttrain loss=0.000111\ttrain accuracy=1.000\ttest accuracy=1.000\n",
      "epoch=282\ttrain loss=0.000107\ttrain accuracy=1.000\ttest accuracy=1.000\n",
      "epoch=283\ttrain loss=0.000106\ttrain accuracy=1.000\ttest accuracy=1.000\n",
      "epoch=284\ttrain loss=0.000106\ttrain accuracy=1.000\ttest accuracy=1.000\n",
      "epoch=285\ttrain loss=0.000107\ttrain accuracy=1.000\ttest accuracy=1.000\n",
      "epoch=286\ttrain loss=0.000105\ttrain accuracy=1.000\ttest accuracy=1.000\n",
      "epoch=287\ttrain loss=0.000103\ttrain accuracy=1.000\ttest accuracy=1.000\n",
      "epoch=288\ttrain loss=0.000104\ttrain accuracy=1.000\ttest accuracy=1.000\n",
      "epoch=289\ttrain loss=0.000102\ttrain accuracy=1.000\ttest accuracy=1.000\n",
      "epoch=290\ttrain loss=0.000100\ttrain accuracy=1.000\ttest accuracy=1.000\n",
      "epoch=291\ttrain loss=0.000101\ttrain accuracy=1.000\ttest accuracy=1.000\n",
      "epoch=292\ttrain loss=0.000102\ttrain accuracy=1.000\ttest accuracy=1.000\n",
      "epoch=293\ttrain loss=0.000099\ttrain accuracy=1.000\ttest accuracy=1.000\n",
      "epoch=294\ttrain loss=0.000097\ttrain accuracy=1.000\ttest accuracy=1.000\n",
      "epoch=295\ttrain loss=0.000099\ttrain accuracy=1.000\ttest accuracy=1.000\n",
      "epoch=296\ttrain loss=0.000099\ttrain accuracy=1.000\ttest accuracy=1.000\n",
      "epoch=297\ttrain loss=0.000099\ttrain accuracy=1.000\ttest accuracy=1.000\n",
      "epoch=298\ttrain loss=0.000095\ttrain accuracy=1.000\ttest accuracy=1.000\n"
     ]
    }
   ],
   "source": [
    "best_accuracy = 0\n",
    "for epoch in range(500):\n",
    "    running_loss = 0.0\n",
    "    train_acc = 0.0\n",
    "    for step, (batch_image, batch_label) in enumerate(train_loader):\n",
    "        model.train()\n",
    "        # if torch.cuda.is_available():\n",
    "        #     batch_image, batch_label = batch_image.cuda(), batch_label.cuda()\n",
    "        batch_output = model(batch_image)\n",
    "        batch_loss = loss_func(batch_output, batch_label)\n",
    "\n",
    "        optimizer.zero_grad()\n",
    "        batch_loss.backward()\n",
    "        optimizer.step()\n",
    "\n",
    "        running_loss += batch_loss.item()\n",
    "\n",
    "        # train accuracy\n",
    "        _, train_predicted = torch.max(batch_output.data, 1)\n",
    "        train_acc += (train_predicted == batch_label).sum().item()\n",
    "\n",
    "    train_acc /= train_size\n",
    "    running_loss /= (step + 1)\n",
    "\n",
    "    # ----------test----------\n",
    "    model.eval()\n",
    "    test_acc = 0.0\n",
    "    for test_image, test_label in test_loader:\n",
    "        test_output = model(test_image)\n",
    "        _, predicted = torch.max(test_output.data, 1)\n",
    "        test_acc += (predicted == test_label).sum().item()\n",
    "    test_acc /= test_size\n",
    "\n",
    "    print('epoch={:d}\\ttrain loss={:.6f}\\ttrain accuracy={:.3f}\\ttest accuracy={:.3f}'.format(\n",
    "        epoch, running_loss, train_acc, test_acc))\n",
    "\n",
    "    if test_acc >= best_accuracy:\n",
    "        torch.save(model.state_dict(), './trained_models/FCNN_model.pkl')\n",
    "        best_accuracy = test_acc"
   ],
   "metadata": {
    "collapsed": false,
    "pycharm": {
     "name": "#%%\n",
     "is_executing": true
    }
   }
  },
  {
   "cell_type": "code",
   "execution_count": null,
   "outputs": [],
   "source": [],
   "metadata": {
    "collapsed": false,
    "pycharm": {
     "name": "#%%\n"
    }
   }
  }
 ],
 "metadata": {
  "kernelspec": {
   "display_name": "Python 3",
   "language": "python",
   "name": "python3"
  },
  "language_info": {
   "codemirror_mode": {
    "name": "ipython",
    "version": 3
   },
   "file_extension": ".py",
   "mimetype": "text/x-python",
   "name": "python",
   "nbconvert_exporter": "python",
   "pygments_lexer": "ipython3",
   "version": "3.6.7"
  }
 },
 "nbformat": 4,
 "nbformat_minor": 5
}