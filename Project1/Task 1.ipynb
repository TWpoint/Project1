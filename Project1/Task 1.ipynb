{
 "cells": [
  {
   "cell_type": "markdown",
   "id": "88bf6bd0-3dd2-4711-9cce-b6dbb463e05d",
   "metadata": {
    "pycharm": {
     "name": "#%% md\n"
    }
   },
   "source": [
    "# Task 1: Understand body language by gesture recognition with fully connected neural network"
   ]
  },
  {
   "cell_type": "markdown",
   "id": "bdebc998-13f5-4195-a67b-df152735d5b9",
   "metadata": {
    "pycharm": {
     "name": "#%% md\n"
    }
   },
   "source": [
    "## 1. Do literature search on gesture recognition and its application in Human-Robot Interaction. Summarize what you have learned."
   ]
  },
  {
   "cell_type": "markdown",
   "id": "c75d7314-8adc-4e9e-878f-1cf6b6d98a2d",
   "metadata": {
    "pycharm": {
     "name": "#%% md\n"
    }
   },
   "source": [
    "## 2. Referring to the previous example about building a neural network based classifier, use what you have learned to read the code for gesture classification below and design your own network architecture using fully connected layers."
   ]
  },
  {
   "cell_type": "markdown",
   "id": "7337f2e1-9947-4985-a97b-c807c311e28f",
   "metadata": {
    "pycharm": {
     "name": "#%% md\n"
    }
   },
   "source": [
    "## 3. Run the model. Analyse and comment on the performance of your model based on fully connected layers."
   ]
  },
  {
   "cell_type": "code",
   "execution_count": 1,
   "id": "188f9266-fc0b-4001-84ba-73e7804606e6",
   "metadata": {
    "pycharm": {
     "name": "#%%\n"
    }
   },
   "outputs": [],
   "source": [
    "import cv2\n",
    "import numpy as np\n",
    "import os\n",
    "import torch\n",
    "import itertools\n",
    "import torch.utils.data as utils_data\n",
    "import torch.nn as nn"
   ]
  },
  {
   "cell_type": "markdown",
   "id": "e9d0830f-0431-4d27-aed5-5fa3156d6091",
   "metadata": {
    "pycharm": {
     "name": "#%% md\n"
    }
   },
   "source": [
    "## 1) data preprocessing"
   ]
  },
  {
   "cell_type": "markdown",
   "id": "926df832-9898-4e91-8beb-d0790da1bf0c",
   "metadata": {
    "pycharm": {
     "name": "#%% md\n"
    }
   },
   "source": [
    "Define a function to preprocess the images including resizing and binaryzation"
   ]
  },
  {
   "cell_type": "code",
   "execution_count": 2,
   "id": "dd1d99d8-da0f-4305-8fbd-1e346abc560b",
   "metadata": {
    "pycharm": {
     "name": "#%%\n"
    }
   },
   "outputs": [],
   "source": [
    "def processSkinImage(filePath, resize_HW=48):\n",
    "    # step 1\n",
    "    # read the image\n",
    "    original = cv2.imread(filename=filePath)\n",
    "\n",
    "    # step 2\n",
    "    # resize the image to\n",
    "    image_resized = cv2.resize(original, (resize_HW, resize_HW))\n",
    "\n",
    "    # step 3\n",
    "    # convert the image from rgb to YCbCr\n",
    "    image_ycbcr = cv2.cvtColor(image_resized, cv2.COLOR_BGR2YCR_CB)\n",
    "\n",
    "    # step 4\n",
    "    # get the central color of the image\n",
    "    # expected the hand to be in the central of the image\n",
    "    Cb_center_color = image_ycbcr[int(resize_HW/2), int(resize_HW/2), 1]\n",
    "    Cr_center_color = image_ycbcr[int(resize_HW/2), int(resize_HW/2), 2]\n",
    "    # set the range\n",
    "    Cb_Difference = 15\n",
    "    Cr_Difference = 10\n",
    "\n",
    "    # step 5\n",
    "    # detect skin pixels\n",
    "    Cb = image_ycbcr[:, :, 1]\n",
    "    Cr = image_ycbcr[:, :, 2]\n",
    "    index = np.where((Cb >= Cb_center_color-Cb_Difference) & (Cb <= Cb_center_color+Cb_Difference)\n",
    "                     & (Cr >= Cr_center_color-Cr_Difference) & (Cr <= Cr_center_color+Cr_Difference))\n",
    "\n",
    "    # Mark detected pixels and output\n",
    "    image_output = np.zeros((resize_HW, resize_HW))\n",
    "    image_output[index] = 255\n",
    "\n",
    "    # show image\n",
    "    # cv2.imshow(\"\", image_output)\n",
    "    # cv2.waitKey(0)\n",
    "    return image_output"
   ]
  },
  {
   "cell_type": "markdown",
   "id": "bcf454b1-4248-4a3e-9bf8-9304d64131c4",
   "metadata": {
    "pycharm": {
     "name": "#%% md\n"
    }
   },
   "source": [
    "Deal with all the images using the function defined above.\n",
    "The processed data is stored in a new folder 'dataset_processed'.\n",
    "\n",
    "Generate labels for each class. (class 0, 1, ..., num_classes)\n"
   ]
  },
  {
   "cell_type": "code",
   "execution_count": 3,
   "id": "a67e88cb-3dc7-4bfe-935f-5cba75a782d3",
   "metadata": {
    "pycharm": {
     "name": "#%%\n"
    }
   },
   "outputs": [],
   "source": [
    "path = './dataset/dataset/images'\n",
    "path_processed = './dataset_processed/images'\n",
    "\n",
    "# -------------------images processing--------------\n",
    "for mainDir, subDir, fileList in os.walk(path):\n",
    "    for file in fileList:\n",
    "        currentPath = os.path.join(mainDir, file)\n",
    "        processedImage = processSkinImage(currentPath)\n",
    "\n",
    "        new_mainDir = path_processed + mainDir.split(path)[-1]\n",
    "        if not os.path.exists(new_mainDir):\n",
    "            os.makedirs(new_mainDir)\n",
    "        cv2.imwrite(os.path.join(new_mainDir, file), processedImage)\n",
    "\n",
    "# -----------------label generation----------------\n",
    "label_path = './dataset_processed/labels'\n",
    "if not os.path.exists(label_path):\n",
    "    os.makedirs(label_path)\n",
    "\n",
    "files = os.listdir(path)\n",
    "for i, file in enumerate(files):\n",
    "    subclass_label_path = os.path.join(label_path, file+'.txt')\n",
    "    with open(subclass_label_path, 'w') as f:\n",
    "        f.write('#label\\n')\n",
    "    for _ in range(len(os.listdir(os.path.join(path_processed, file)))):\n",
    "        with open(subclass_label_path, 'a') as f:\n",
    "            f.write('{:d}\\n'.format(i))\n",
    "    f.close()"
   ]
  },
  {
   "cell_type": "markdown",
   "id": "5fac1d92-e269-4297-8b52-6be08c37e503",
   "metadata": {
    "pycharm": {
     "name": "#%% md\n"
    }
   },
   "source": [
    "## 2) load data"
   ]
  },
  {
   "cell_type": "code",
   "execution_count": 4,
   "id": "6e44415d-726c-401c-9a78-5dcd2c140ae2",
   "metadata": {
    "pycharm": {
     "name": "#%%\n"
    }
   },
   "outputs": [],
   "source": [
    "Image = []\n",
    "path_images = './dataset_processed/images'\n",
    "for mainDir, subDir, fileList in os.walk(path_images):\n",
    "    for file in fileList:\n",
    "        currentPath = os.path.join(mainDir, file)\n",
    "        Image.append(cv2.imread(currentPath)[:, :, 0])\n",
    "Image = np.array(Image)\n",
    "dataset_size, H, W = Image.shape\n",
    "# for FCNN model, the image need to be stretched into one dimension: (b, h, w)->(b, h*w)\n",
    "Image = Image.reshape(dataset_size, -1)\n",
    "\n",
    "\n",
    "Label = []\n",
    "path_labels = './dataset_processed/labels'\n",
    "for file in os.listdir(path_labels):\n",
    "    Label.append(np.loadtxt(os.path.join(path_labels, file)))\n",
    "Label = np.array(list(itertools.chain.from_iterable(Label)))\n",
    "num_classes = int(np.max(Label))+1"
   ]
  },
  {
   "cell_type": "markdown",
   "id": "03e71e6c-b618-4a68-90da-64ab0720edab",
   "metadata": {
    "pycharm": {
     "name": "#%% md\n"
    }
   },
   "source": [
    "## 3) build your own neural network based on fully connected layers."
   ]
  },
  {
   "cell_type": "markdown",
   "id": "d9c77568-a973-444d-95c8-b9fb70190a6f",
   "metadata": {
    "pycharm": {
     "name": "#%% md\n"
    }
   },
   "source": [
    "Design the neural network architecture"
   ]
  },
  {
   "cell_type": "code",
   "execution_count": 5,
   "id": "dbbd1a27-4d24-4511-8577-1737a8238616",
   "metadata": {
    "pycharm": {
     "name": "#%%\n"
    }
   },
   "outputs": [],
   "source": [
    "class FCNNModel(nn.Module):\n",
    "    def __init__(self, input_layer_size, hidden_layer_size, num_classes):\n",
    "        super(FCNNModel, self).__init__()\n",
    "        self.fc1 = nn.Sequential(\n",
    "            nn.Linear(input_layer_size, hidden_layer_size),\n",
    "            nn.BatchNorm1d(hidden_layer_size),\n",
    "            nn.ReLU(),\n",
    "        )\n",
    "        self.fc2 = nn.Sequential(\n",
    "            nn.Linear(hidden_layer_size, num_classes),\n",
    "        )\n",
    "    \n",
    "    def forward(self, x):\n",
    "        x = self.fc1(x)\n",
    "        out = self.fc2(x)\n",
    "        return out"
   ]
  },
  {
   "cell_type": "markdown",
   "id": "0662eb3b-c72d-4331-8c4f-8190805692c0",
   "metadata": {
    "pycharm": {
     "name": "#%% md\n"
    }
   },
   "source": [
    "instantiate your model, set a optimizer and define a loss function."
   ]
  },
  {
   "cell_type": "code",
   "execution_count": 6,
   "id": "c1354717-c8e5-4160-a15a-cba6d2669912",
   "metadata": {
    "pycharm": {
     "name": "#%%\n"
    }
   },
   "outputs": [],
   "source": [
    "model = FCNNModel(input_layer_size=H*W, hidden_layer_size=int(H*W/2), num_classes=num_classes)\n",
    "# if torch.cuda.is_available():\n",
    "#     model = model.cuda()\n",
    "optimizer = torch.optim.Adam(model.parameters(), lr=0.001, weight_decay=0.0001)\n",
    "loss_func = nn.CrossEntropyLoss()"
   ]
  },
  {
   "cell_type": "markdown",
   "id": "44fd1f77-bf0f-43be-bbfd-dfc3dfca6d57",
   "metadata": {
    "pycharm": {
     "name": "#%% md\n"
    }
   },
   "source": [
    "## 4) train and test"
   ]
  },
  {
   "cell_type": "markdown",
   "id": "8f57afac-7916-4851-89be-3e6f54c4e34d",
   "metadata": {
    "pycharm": {
     "name": "#%% md\n"
    }
   },
   "source": [
    "Encapsulate data"
   ]
  },
  {
   "cell_type": "code",
   "execution_count": 7,
   "id": "637ac95d-107a-4f69-b570-2d38352d3cfc",
   "metadata": {
    "pycharm": {
     "name": "#%%\n"
    }
   },
   "outputs": [
    {
     "name": "stdout",
     "output_type": "stream",
     "text": [
      "Data is ready!\n"
     ]
    }
   ],
   "source": [
    "dataset = utils_data.TensorDataset(torch.Tensor(Image), torch.LongTensor(Label))\n",
    "split_ratio = 0.8\n",
    "train_size = int(split_ratio * dataset_size)\n",
    "test_size = dataset_size - train_size\n",
    "train_set, test_set = utils_data.random_split(dataset, [train_size, test_size])\n",
    "train_loader = utils_data.DataLoader(dataset=train_set, batch_size=8, shuffle=True)\n",
    "test_loader = utils_data.DataLoader(dataset=test_set, batch_size=8, shuffle=True)\n",
    "print('Data is ready!')"
   ]
  },
  {
   "cell_type": "markdown",
   "id": "0dea0608-ff4d-4da7-94b1-c1d62061d87b",
   "metadata": {
    "pycharm": {
     "name": "#%% md\n"
    }
   },
   "source": [
    "The following is the training and testing process in detail."
   ]
  },
  {
   "cell_type": "code",
   "execution_count": 8,
   "id": "4b32aa71-a1cc-4398-8d37-e17acd424534",
   "metadata": {
    "pycharm": {
     "name": "#%%\n"
    }
   },
   "outputs": [
    {
     "name": "stdout",
     "output_type": "stream",
     "text": [
      "epoch=0\ttrain loss=0.714810\ttrain accuracy=0.726\ttest accuracy=0.875\n",
      "epoch=1\ttrain loss=0.142066\ttrain accuracy=0.935\ttest accuracy=0.875\n",
      "epoch=2\ttrain loss=0.129968\ttrain accuracy=0.952\ttest accuracy=0.875\n",
      "epoch=3\ttrain loss=0.044182\ttrain accuracy=1.000\ttest accuracy=0.875\n",
      "epoch=4\ttrain loss=0.086553\ttrain accuracy=0.984\ttest accuracy=0.875\n",
      "epoch=5\ttrain loss=0.093673\ttrain accuracy=0.935\ttest accuracy=0.875\n",
      "epoch=6\ttrain loss=0.045520\ttrain accuracy=1.000\ttest accuracy=0.938\n",
      "epoch=7\ttrain loss=0.034437\ttrain accuracy=1.000\ttest accuracy=0.938\n",
      "epoch=8\ttrain loss=0.017676\ttrain accuracy=1.000\ttest accuracy=0.938\n",
      "epoch=9\ttrain loss=0.029094\ttrain accuracy=0.984\ttest accuracy=0.938\n",
      "epoch=10\ttrain loss=0.006916\ttrain accuracy=1.000\ttest accuracy=0.875\n",
      "epoch=11\ttrain loss=0.007500\ttrain accuracy=1.000\ttest accuracy=0.875\n",
      "epoch=12\ttrain loss=0.006211\ttrain accuracy=1.000\ttest accuracy=0.938\n",
      "epoch=13\ttrain loss=0.006717\ttrain accuracy=1.000\ttest accuracy=0.938\n",
      "epoch=14\ttrain loss=0.036795\ttrain accuracy=0.984\ttest accuracy=0.875\n",
      "epoch=15\ttrain loss=0.013812\ttrain accuracy=1.000\ttest accuracy=0.875\n",
      "epoch=16\ttrain loss=0.010484\ttrain accuracy=1.000\ttest accuracy=0.875\n",
      "epoch=17\ttrain loss=0.005048\ttrain accuracy=1.000\ttest accuracy=0.875\n",
      "epoch=18\ttrain loss=0.003687\ttrain accuracy=1.000\ttest accuracy=0.875\n",
      "epoch=19\ttrain loss=0.002566\ttrain accuracy=1.000\ttest accuracy=0.875\n",
      "epoch=20\ttrain loss=0.002302\ttrain accuracy=1.000\ttest accuracy=0.938\n",
      "epoch=21\ttrain loss=0.017657\ttrain accuracy=1.000\ttest accuracy=0.938\n",
      "epoch=22\ttrain loss=0.008966\ttrain accuracy=1.000\ttest accuracy=0.938\n",
      "epoch=23\ttrain loss=0.003820\ttrain accuracy=1.000\ttest accuracy=0.875\n",
      "epoch=24\ttrain loss=0.001673\ttrain accuracy=1.000\ttest accuracy=0.875\n",
      "epoch=25\ttrain loss=0.006674\ttrain accuracy=1.000\ttest accuracy=0.875\n",
      "epoch=26\ttrain loss=0.002046\ttrain accuracy=1.000\ttest accuracy=0.875\n",
      "epoch=27\ttrain loss=0.005262\ttrain accuracy=1.000\ttest accuracy=0.875\n",
      "epoch=28\ttrain loss=0.001671\ttrain accuracy=1.000\ttest accuracy=0.875\n",
      "epoch=29\ttrain loss=0.001608\ttrain accuracy=1.000\ttest accuracy=0.875\n",
      "epoch=30\ttrain loss=0.005437\ttrain accuracy=1.000\ttest accuracy=0.875\n",
      "epoch=31\ttrain loss=0.000744\ttrain accuracy=1.000\ttest accuracy=0.875\n",
      "epoch=32\ttrain loss=0.013859\ttrain accuracy=1.000\ttest accuracy=0.938\n",
      "epoch=33\ttrain loss=0.036922\ttrain accuracy=0.984\ttest accuracy=0.938\n",
      "epoch=34\ttrain loss=0.005689\ttrain accuracy=1.000\ttest accuracy=0.938\n",
      "epoch=35\ttrain loss=0.006479\ttrain accuracy=1.000\ttest accuracy=0.875\n",
      "epoch=36\ttrain loss=0.003183\ttrain accuracy=1.000\ttest accuracy=0.875\n",
      "epoch=37\ttrain loss=0.008495\ttrain accuracy=1.000\ttest accuracy=0.875\n",
      "epoch=38\ttrain loss=0.002481\ttrain accuracy=1.000\ttest accuracy=0.875\n",
      "epoch=39\ttrain loss=0.017990\ttrain accuracy=0.984\ttest accuracy=0.875\n",
      "epoch=40\ttrain loss=0.003627\ttrain accuracy=1.000\ttest accuracy=0.875\n",
      "epoch=41\ttrain loss=0.008549\ttrain accuracy=1.000\ttest accuracy=0.938\n",
      "epoch=42\ttrain loss=0.019601\ttrain accuracy=1.000\ttest accuracy=0.938\n",
      "epoch=43\ttrain loss=0.006844\ttrain accuracy=1.000\ttest accuracy=0.938\n",
      "epoch=44\ttrain loss=0.004123\ttrain accuracy=1.000\ttest accuracy=0.875\n",
      "epoch=45\ttrain loss=0.008690\ttrain accuracy=1.000\ttest accuracy=0.938\n",
      "epoch=46\ttrain loss=0.006682\ttrain accuracy=1.000\ttest accuracy=0.938\n",
      "epoch=47\ttrain loss=0.004773\ttrain accuracy=1.000\ttest accuracy=0.875\n",
      "epoch=48\ttrain loss=0.000824\ttrain accuracy=1.000\ttest accuracy=0.875\n",
      "epoch=49\ttrain loss=0.001918\ttrain accuracy=1.000\ttest accuracy=0.875\n",
      "epoch=50\ttrain loss=0.003555\ttrain accuracy=1.000\ttest accuracy=0.875\n",
      "epoch=51\ttrain loss=0.001415\ttrain accuracy=1.000\ttest accuracy=0.875\n",
      "epoch=52\ttrain loss=0.002866\ttrain accuracy=1.000\ttest accuracy=0.875\n",
      "epoch=53\ttrain loss=0.002105\ttrain accuracy=1.000\ttest accuracy=0.875\n",
      "epoch=54\ttrain loss=0.003309\ttrain accuracy=1.000\ttest accuracy=0.875\n",
      "epoch=55\ttrain loss=0.000564\ttrain accuracy=1.000\ttest accuracy=0.875\n",
      "epoch=56\ttrain loss=0.001558\ttrain accuracy=1.000\ttest accuracy=0.875\n",
      "epoch=57\ttrain loss=0.000650\ttrain accuracy=1.000\ttest accuracy=0.875\n",
      "epoch=58\ttrain loss=0.012757\ttrain accuracy=1.000\ttest accuracy=0.938\n",
      "epoch=59\ttrain loss=0.000365\ttrain accuracy=1.000\ttest accuracy=0.938\n",
      "epoch=60\ttrain loss=0.000807\ttrain accuracy=1.000\ttest accuracy=0.938\n",
      "epoch=61\ttrain loss=0.002273\ttrain accuracy=1.000\ttest accuracy=0.938\n",
      "epoch=62\ttrain loss=0.002527\ttrain accuracy=1.000\ttest accuracy=0.938\n",
      "epoch=63\ttrain loss=0.017715\ttrain accuracy=1.000\ttest accuracy=0.938\n",
      "epoch=64\ttrain loss=0.000465\ttrain accuracy=1.000\ttest accuracy=0.938\n",
      "epoch=65\ttrain loss=0.000351\ttrain accuracy=1.000\ttest accuracy=0.938\n",
      "epoch=66\ttrain loss=0.009801\ttrain accuracy=1.000\ttest accuracy=0.938\n",
      "epoch=67\ttrain loss=0.001895\ttrain accuracy=1.000\ttest accuracy=0.938\n",
      "epoch=68\ttrain loss=0.001217\ttrain accuracy=1.000\ttest accuracy=0.875\n",
      "epoch=69\ttrain loss=0.000668\ttrain accuracy=1.000\ttest accuracy=0.875\n",
      "epoch=70\ttrain loss=0.001290\ttrain accuracy=1.000\ttest accuracy=0.875\n",
      "epoch=71\ttrain loss=0.002051\ttrain accuracy=1.000\ttest accuracy=0.875\n",
      "epoch=72\ttrain loss=0.001495\ttrain accuracy=1.000\ttest accuracy=0.875\n",
      "epoch=73\ttrain loss=0.001677\ttrain accuracy=1.000\ttest accuracy=0.875\n",
      "epoch=74\ttrain loss=0.005995\ttrain accuracy=1.000\ttest accuracy=0.938\n",
      "epoch=75\ttrain loss=0.000614\ttrain accuracy=1.000\ttest accuracy=0.938\n",
      "epoch=76\ttrain loss=0.000421\ttrain accuracy=1.000\ttest accuracy=0.875\n",
      "epoch=77\ttrain loss=0.004093\ttrain accuracy=1.000\ttest accuracy=0.875\n",
      "epoch=78\ttrain loss=0.003274\ttrain accuracy=1.000\ttest accuracy=0.875\n",
      "epoch=79\ttrain loss=0.000270\ttrain accuracy=1.000\ttest accuracy=0.875\n",
      "epoch=80\ttrain loss=0.012394\ttrain accuracy=1.000\ttest accuracy=0.875\n",
      "epoch=81\ttrain loss=0.000739\ttrain accuracy=1.000\ttest accuracy=0.875\n",
      "epoch=82\ttrain loss=0.000869\ttrain accuracy=1.000\ttest accuracy=0.875\n",
      "epoch=83\ttrain loss=0.006708\ttrain accuracy=1.000\ttest accuracy=0.875\n",
      "epoch=84\ttrain loss=0.001604\ttrain accuracy=1.000\ttest accuracy=0.875\n",
      "epoch=85\ttrain loss=0.000735\ttrain accuracy=1.000\ttest accuracy=0.875\n",
      "epoch=86\ttrain loss=0.001955\ttrain accuracy=1.000\ttest accuracy=0.938\n",
      "epoch=87\ttrain loss=0.004308\ttrain accuracy=1.000\ttest accuracy=0.938\n",
      "epoch=88\ttrain loss=0.002700\ttrain accuracy=1.000\ttest accuracy=0.938\n",
      "epoch=89\ttrain loss=0.000252\ttrain accuracy=1.000\ttest accuracy=0.938\n",
      "epoch=90\ttrain loss=0.002512\ttrain accuracy=1.000\ttest accuracy=0.938\n",
      "epoch=91\ttrain loss=0.000269\ttrain accuracy=1.000\ttest accuracy=0.938\n",
      "epoch=92\ttrain loss=0.021037\ttrain accuracy=1.000\ttest accuracy=0.875\n",
      "epoch=93\ttrain loss=0.000655\ttrain accuracy=1.000\ttest accuracy=0.875\n",
      "epoch=94\ttrain loss=0.014254\ttrain accuracy=1.000\ttest accuracy=0.875\n",
      "epoch=95\ttrain loss=0.005486\ttrain accuracy=1.000\ttest accuracy=0.938\n",
      "epoch=96\ttrain loss=0.004795\ttrain accuracy=1.000\ttest accuracy=0.875\n",
      "epoch=97\ttrain loss=0.001539\ttrain accuracy=1.000\ttest accuracy=0.875\n",
      "epoch=98\ttrain loss=0.007343\ttrain accuracy=1.000\ttest accuracy=0.875\n",
      "epoch=99\ttrain loss=0.002402\ttrain accuracy=1.000\ttest accuracy=0.875\n",
      "epoch=100\ttrain loss=0.000906\ttrain accuracy=1.000\ttest accuracy=0.875\n",
      "epoch=101\ttrain loss=0.014010\ttrain accuracy=1.000\ttest accuracy=0.875\n",
      "epoch=102\ttrain loss=0.002993\ttrain accuracy=1.000\ttest accuracy=0.875\n",
      "epoch=103\ttrain loss=0.001161\ttrain accuracy=1.000\ttest accuracy=0.875\n",
      "epoch=104\ttrain loss=0.005813\ttrain accuracy=1.000\ttest accuracy=0.875\n",
      "epoch=105\ttrain loss=0.005955\ttrain accuracy=1.000\ttest accuracy=0.938\n",
      "epoch=106\ttrain loss=0.001116\ttrain accuracy=1.000\ttest accuracy=0.938\n",
      "epoch=107\ttrain loss=0.001981\ttrain accuracy=1.000\ttest accuracy=0.938\n",
      "epoch=108\ttrain loss=0.005176\ttrain accuracy=1.000\ttest accuracy=0.875\n",
      "epoch=109\ttrain loss=0.013621\ttrain accuracy=1.000\ttest accuracy=0.875\n",
      "epoch=110\ttrain loss=0.000920\ttrain accuracy=1.000\ttest accuracy=0.875\n",
      "epoch=111\ttrain loss=0.012413\ttrain accuracy=1.000\ttest accuracy=0.875\n",
      "epoch=112\ttrain loss=0.002402\ttrain accuracy=1.000\ttest accuracy=0.875\n",
      "epoch=113\ttrain loss=0.000596\ttrain accuracy=1.000\ttest accuracy=0.875\n",
      "epoch=114\ttrain loss=0.001302\ttrain accuracy=1.000\ttest accuracy=0.875\n",
      "epoch=115\ttrain loss=0.001263\ttrain accuracy=1.000\ttest accuracy=0.875\n",
      "epoch=116\ttrain loss=0.002340\ttrain accuracy=1.000\ttest accuracy=0.875\n",
      "epoch=117\ttrain loss=0.007283\ttrain accuracy=1.000\ttest accuracy=0.938\n",
      "epoch=118\ttrain loss=0.002615\ttrain accuracy=1.000\ttest accuracy=0.938\n",
      "epoch=119\ttrain loss=0.007642\ttrain accuracy=1.000\ttest accuracy=0.875\n",
      "epoch=120\ttrain loss=0.000966\ttrain accuracy=1.000\ttest accuracy=0.875\n",
      "epoch=121\ttrain loss=0.003138\ttrain accuracy=1.000\ttest accuracy=0.875\n",
      "epoch=122\ttrain loss=0.001169\ttrain accuracy=1.000\ttest accuracy=0.875\n",
      "epoch=123\ttrain loss=0.010393\ttrain accuracy=1.000\ttest accuracy=0.875\n",
      "epoch=124\ttrain loss=0.002085\ttrain accuracy=1.000\ttest accuracy=0.938\n",
      "epoch=125\ttrain loss=0.001503\ttrain accuracy=1.000\ttest accuracy=0.938\n",
      "epoch=126\ttrain loss=0.015982\ttrain accuracy=1.000\ttest accuracy=0.875\n",
      "epoch=127\ttrain loss=0.006351\ttrain accuracy=1.000\ttest accuracy=0.938\n",
      "epoch=128\ttrain loss=0.004020\ttrain accuracy=1.000\ttest accuracy=0.875\n",
      "epoch=129\ttrain loss=0.067909\ttrain accuracy=0.984\ttest accuracy=0.812\n",
      "epoch=130\ttrain loss=0.017342\ttrain accuracy=0.984\ttest accuracy=0.875\n",
      "epoch=131\ttrain loss=0.036973\ttrain accuracy=0.984\ttest accuracy=0.812\n",
      "epoch=132\ttrain loss=0.004417\ttrain accuracy=1.000\ttest accuracy=0.875\n",
      "epoch=133\ttrain loss=0.024200\ttrain accuracy=0.984\ttest accuracy=0.875\n",
      "epoch=134\ttrain loss=0.012254\ttrain accuracy=1.000\ttest accuracy=0.875\n",
      "epoch=135\ttrain loss=0.212061\ttrain accuracy=0.952\ttest accuracy=0.875\n",
      "epoch=136\ttrain loss=0.013715\ttrain accuracy=1.000\ttest accuracy=0.938\n",
      "epoch=137\ttrain loss=0.028995\ttrain accuracy=1.000\ttest accuracy=0.875\n",
      "epoch=138\ttrain loss=0.005531\ttrain accuracy=1.000\ttest accuracy=0.938\n",
      "epoch=139\ttrain loss=0.002126\ttrain accuracy=1.000\ttest accuracy=0.938\n",
      "epoch=140\ttrain loss=0.003512\ttrain accuracy=1.000\ttest accuracy=0.938\n",
      "epoch=141\ttrain loss=0.010170\ttrain accuracy=1.000\ttest accuracy=0.938\n",
      "epoch=142\ttrain loss=0.000878\ttrain accuracy=1.000\ttest accuracy=0.938\n",
      "epoch=143\ttrain loss=0.006694\ttrain accuracy=1.000\ttest accuracy=0.938\n",
      "epoch=144\ttrain loss=0.005977\ttrain accuracy=1.000\ttest accuracy=0.938\n",
      "epoch=145\ttrain loss=0.003676\ttrain accuracy=1.000\ttest accuracy=0.938\n",
      "epoch=146\ttrain loss=0.000532\ttrain accuracy=1.000\ttest accuracy=0.938\n",
      "epoch=147\ttrain loss=0.000698\ttrain accuracy=1.000\ttest accuracy=0.938\n",
      "epoch=148\ttrain loss=0.004224\ttrain accuracy=1.000\ttest accuracy=0.938\n",
      "epoch=149\ttrain loss=0.007550\ttrain accuracy=1.000\ttest accuracy=0.938\n",
      "epoch=150\ttrain loss=0.000579\ttrain accuracy=1.000\ttest accuracy=0.938\n",
      "epoch=151\ttrain loss=0.002740\ttrain accuracy=1.000\ttest accuracy=0.938\n",
      "epoch=152\ttrain loss=0.001093\ttrain accuracy=1.000\ttest accuracy=0.938\n",
      "epoch=153\ttrain loss=0.000983\ttrain accuracy=1.000\ttest accuracy=0.938\n",
      "epoch=154\ttrain loss=0.143047\ttrain accuracy=0.935\ttest accuracy=0.875\n",
      "epoch=155\ttrain loss=0.003123\ttrain accuracy=1.000\ttest accuracy=0.875\n",
      "epoch=156\ttrain loss=0.023154\ttrain accuracy=1.000\ttest accuracy=0.875\n",
      "epoch=157\ttrain loss=0.035799\ttrain accuracy=0.984\ttest accuracy=0.875\n",
      "epoch=158\ttrain loss=0.035912\ttrain accuracy=0.984\ttest accuracy=0.875\n",
      "epoch=159\ttrain loss=0.001816\ttrain accuracy=1.000\ttest accuracy=0.875\n",
      "epoch=160\ttrain loss=0.049222\ttrain accuracy=0.984\ttest accuracy=0.875\n",
      "epoch=161\ttrain loss=0.005340\ttrain accuracy=1.000\ttest accuracy=0.875\n",
      "epoch=162\ttrain loss=0.018260\ttrain accuracy=1.000\ttest accuracy=0.875\n",
      "epoch=163\ttrain loss=0.007831\ttrain accuracy=1.000\ttest accuracy=0.875\n",
      "epoch=164\ttrain loss=0.007804\ttrain accuracy=1.000\ttest accuracy=0.875\n",
      "epoch=165\ttrain loss=0.003583\ttrain accuracy=1.000\ttest accuracy=0.875\n",
      "epoch=166\ttrain loss=0.028238\ttrain accuracy=0.984\ttest accuracy=0.875\n",
      "epoch=167\ttrain loss=0.007399\ttrain accuracy=1.000\ttest accuracy=0.875\n",
      "epoch=168\ttrain loss=0.006270\ttrain accuracy=1.000\ttest accuracy=0.875\n",
      "epoch=169\ttrain loss=0.007598\ttrain accuracy=1.000\ttest accuracy=0.875\n",
      "epoch=170\ttrain loss=0.000262\ttrain accuracy=1.000\ttest accuracy=0.875\n",
      "epoch=171\ttrain loss=0.000218\ttrain accuracy=1.000\ttest accuracy=0.875\n",
      "epoch=172\ttrain loss=0.000624\ttrain accuracy=1.000\ttest accuracy=0.875\n",
      "epoch=173\ttrain loss=0.001239\ttrain accuracy=1.000\ttest accuracy=0.875\n",
      "epoch=174\ttrain loss=0.003992\ttrain accuracy=1.000\ttest accuracy=0.875\n",
      "epoch=175\ttrain loss=0.041446\ttrain accuracy=0.984\ttest accuracy=0.875\n",
      "epoch=176\ttrain loss=0.035593\ttrain accuracy=0.968\ttest accuracy=0.875\n",
      "epoch=177\ttrain loss=0.006495\ttrain accuracy=1.000\ttest accuracy=0.875\n",
      "epoch=178\ttrain loss=0.002393\ttrain accuracy=1.000\ttest accuracy=0.875\n",
      "epoch=179\ttrain loss=0.006460\ttrain accuracy=1.000\ttest accuracy=0.875\n",
      "epoch=180\ttrain loss=0.005341\ttrain accuracy=1.000\ttest accuracy=0.875\n",
      "epoch=181\ttrain loss=0.001518\ttrain accuracy=1.000\ttest accuracy=0.875\n",
      "epoch=182\ttrain loss=0.001566\ttrain accuracy=1.000\ttest accuracy=0.875\n",
      "epoch=183\ttrain loss=0.001682\ttrain accuracy=1.000\ttest accuracy=0.875\n",
      "epoch=184\ttrain loss=0.002414\ttrain accuracy=1.000\ttest accuracy=0.875\n",
      "epoch=185\ttrain loss=0.000257\ttrain accuracy=1.000\ttest accuracy=0.875\n",
      "epoch=186\ttrain loss=0.000230\ttrain accuracy=1.000\ttest accuracy=0.875\n",
      "epoch=187\ttrain loss=0.002229\ttrain accuracy=1.000\ttest accuracy=0.875\n",
      "epoch=188\ttrain loss=0.000163\ttrain accuracy=1.000\ttest accuracy=0.875\n",
      "epoch=189\ttrain loss=0.072530\ttrain accuracy=0.968\ttest accuracy=0.938\n",
      "epoch=190\ttrain loss=0.012889\ttrain accuracy=1.000\ttest accuracy=0.938\n",
      "epoch=191\ttrain loss=0.011790\ttrain accuracy=0.984\ttest accuracy=0.938\n",
      "epoch=192\ttrain loss=0.001567\ttrain accuracy=1.000\ttest accuracy=0.938\n",
      "epoch=193\ttrain loss=0.000282\ttrain accuracy=1.000\ttest accuracy=0.938\n",
      "epoch=194\ttrain loss=0.000363\ttrain accuracy=1.000\ttest accuracy=0.875\n",
      "epoch=195\ttrain loss=0.000226\ttrain accuracy=1.000\ttest accuracy=0.875\n",
      "epoch=196\ttrain loss=0.000132\ttrain accuracy=1.000\ttest accuracy=0.875\n",
      "epoch=197\ttrain loss=0.000191\ttrain accuracy=1.000\ttest accuracy=0.875\n",
      "epoch=198\ttrain loss=0.000566\ttrain accuracy=1.000\ttest accuracy=0.875\n",
      "epoch=199\ttrain loss=0.000511\ttrain accuracy=1.000\ttest accuracy=0.875\n",
      "epoch=200\ttrain loss=0.000192\ttrain accuracy=1.000\ttest accuracy=0.875\n",
      "epoch=201\ttrain loss=0.001876\ttrain accuracy=1.000\ttest accuracy=0.875\n",
      "epoch=202\ttrain loss=0.000585\ttrain accuracy=1.000\ttest accuracy=0.875\n",
      "epoch=203\ttrain loss=0.000730\ttrain accuracy=1.000\ttest accuracy=0.875\n",
      "epoch=204\ttrain loss=0.021158\ttrain accuracy=0.984\ttest accuracy=0.938\n",
      "epoch=205\ttrain loss=0.001834\ttrain accuracy=1.000\ttest accuracy=0.938\n",
      "epoch=206\ttrain loss=0.005779\ttrain accuracy=1.000\ttest accuracy=0.938\n",
      "epoch=207\ttrain loss=0.001089\ttrain accuracy=1.000\ttest accuracy=0.938\n",
      "epoch=208\ttrain loss=0.002507\ttrain accuracy=1.000\ttest accuracy=0.938\n",
      "epoch=209\ttrain loss=0.000134\ttrain accuracy=1.000\ttest accuracy=0.875\n",
      "epoch=210\ttrain loss=0.000376\ttrain accuracy=1.000\ttest accuracy=0.875\n",
      "epoch=211\ttrain loss=0.001027\ttrain accuracy=1.000\ttest accuracy=0.875\n",
      "epoch=212\ttrain loss=0.001678\ttrain accuracy=1.000\ttest accuracy=0.875\n",
      "epoch=213\ttrain loss=0.000089\ttrain accuracy=1.000\ttest accuracy=0.875\n",
      "epoch=214\ttrain loss=0.000178\ttrain accuracy=1.000\ttest accuracy=0.875\n",
      "epoch=215\ttrain loss=0.000484\ttrain accuracy=1.000\ttest accuracy=0.875\n",
      "epoch=216\ttrain loss=0.000455\ttrain accuracy=1.000\ttest accuracy=0.875\n",
      "epoch=217\ttrain loss=0.000512\ttrain accuracy=1.000\ttest accuracy=0.875\n",
      "epoch=218\ttrain loss=0.001999\ttrain accuracy=1.000\ttest accuracy=0.875\n",
      "epoch=219\ttrain loss=0.005463\ttrain accuracy=1.000\ttest accuracy=0.875\n",
      "epoch=220\ttrain loss=0.003011\ttrain accuracy=1.000\ttest accuracy=0.875\n",
      "epoch=221\ttrain loss=0.000965\ttrain accuracy=1.000\ttest accuracy=0.875\n",
      "epoch=222\ttrain loss=0.000573\ttrain accuracy=1.000\ttest accuracy=0.875\n",
      "epoch=223\ttrain loss=0.018023\ttrain accuracy=0.984\ttest accuracy=0.938\n",
      "epoch=224\ttrain loss=0.001646\ttrain accuracy=1.000\ttest accuracy=0.938\n",
      "epoch=225\ttrain loss=0.000580\ttrain accuracy=1.000\ttest accuracy=0.938\n",
      "epoch=226\ttrain loss=0.003686\ttrain accuracy=1.000\ttest accuracy=0.938\n",
      "epoch=227\ttrain loss=0.000422\ttrain accuracy=1.000\ttest accuracy=0.938\n",
      "epoch=228\ttrain loss=0.001829\ttrain accuracy=1.000\ttest accuracy=0.875\n",
      "epoch=229\ttrain loss=0.000864\ttrain accuracy=1.000\ttest accuracy=0.875\n",
      "epoch=230\ttrain loss=0.007713\ttrain accuracy=1.000\ttest accuracy=0.875\n",
      "epoch=231\ttrain loss=0.000188\ttrain accuracy=1.000\ttest accuracy=0.875\n",
      "epoch=232\ttrain loss=0.000692\ttrain accuracy=1.000\ttest accuracy=0.875\n",
      "epoch=233\ttrain loss=0.003698\ttrain accuracy=1.000\ttest accuracy=0.875\n",
      "epoch=234\ttrain loss=0.000518\ttrain accuracy=1.000\ttest accuracy=0.875\n",
      "epoch=235\ttrain loss=0.000249\ttrain accuracy=1.000\ttest accuracy=0.875\n",
      "epoch=236\ttrain loss=0.000314\ttrain accuracy=1.000\ttest accuracy=0.875\n",
      "epoch=237\ttrain loss=0.000188\ttrain accuracy=1.000\ttest accuracy=0.875\n",
      "epoch=238\ttrain loss=0.000199\ttrain accuracy=1.000\ttest accuracy=0.875\n",
      "epoch=239\ttrain loss=0.000134\ttrain accuracy=1.000\ttest accuracy=0.875\n",
      "epoch=240\ttrain loss=0.000188\ttrain accuracy=1.000\ttest accuracy=0.875\n",
      "epoch=241\ttrain loss=0.000131\ttrain accuracy=1.000\ttest accuracy=0.875\n",
      "epoch=242\ttrain loss=0.000336\ttrain accuracy=1.000\ttest accuracy=0.875\n",
      "epoch=243\ttrain loss=0.000197\ttrain accuracy=1.000\ttest accuracy=0.875\n",
      "epoch=244\ttrain loss=0.000081\ttrain accuracy=1.000\ttest accuracy=0.875\n",
      "epoch=245\ttrain loss=0.000093\ttrain accuracy=1.000\ttest accuracy=0.875\n",
      "epoch=246\ttrain loss=0.000306\ttrain accuracy=1.000\ttest accuracy=0.875\n",
      "epoch=247\ttrain loss=0.000197\ttrain accuracy=1.000\ttest accuracy=0.875\n",
      "epoch=248\ttrain loss=0.000155\ttrain accuracy=1.000\ttest accuracy=0.875\n",
      "epoch=249\ttrain loss=0.000127\ttrain accuracy=1.000\ttest accuracy=0.875\n",
      "epoch=250\ttrain loss=0.000259\ttrain accuracy=1.000\ttest accuracy=0.875\n",
      "epoch=251\ttrain loss=0.000261\ttrain accuracy=1.000\ttest accuracy=0.875\n",
      "epoch=252\ttrain loss=0.000870\ttrain accuracy=1.000\ttest accuracy=0.875\n",
      "epoch=253\ttrain loss=0.000128\ttrain accuracy=1.000\ttest accuracy=0.875\n",
      "epoch=254\ttrain loss=0.000777\ttrain accuracy=1.000\ttest accuracy=0.875\n",
      "epoch=255\ttrain loss=0.000554\ttrain accuracy=1.000\ttest accuracy=0.875\n",
      "epoch=256\ttrain loss=0.002068\ttrain accuracy=1.000\ttest accuracy=0.938\n",
      "epoch=257\ttrain loss=0.000217\ttrain accuracy=1.000\ttest accuracy=0.938\n",
      "epoch=258\ttrain loss=0.000173\ttrain accuracy=1.000\ttest accuracy=0.938\n",
      "epoch=259\ttrain loss=0.000471\ttrain accuracy=1.000\ttest accuracy=0.875\n",
      "epoch=260\ttrain loss=0.000243\ttrain accuracy=1.000\ttest accuracy=0.938\n",
      "epoch=261\ttrain loss=0.000059\ttrain accuracy=1.000\ttest accuracy=0.938\n",
      "epoch=262\ttrain loss=0.000500\ttrain accuracy=1.000\ttest accuracy=0.938\n",
      "epoch=263\ttrain loss=0.000227\ttrain accuracy=1.000\ttest accuracy=0.938\n",
      "epoch=264\ttrain loss=0.000098\ttrain accuracy=1.000\ttest accuracy=0.938\n",
      "epoch=265\ttrain loss=0.000162\ttrain accuracy=1.000\ttest accuracy=0.938\n",
      "epoch=266\ttrain loss=0.000128\ttrain accuracy=1.000\ttest accuracy=0.938\n",
      "epoch=267\ttrain loss=0.000509\ttrain accuracy=1.000\ttest accuracy=0.938\n",
      "epoch=268\ttrain loss=0.000168\ttrain accuracy=1.000\ttest accuracy=0.938\n",
      "epoch=269\ttrain loss=0.001326\ttrain accuracy=1.000\ttest accuracy=0.938\n",
      "epoch=270\ttrain loss=0.000249\ttrain accuracy=1.000\ttest accuracy=0.938\n",
      "epoch=271\ttrain loss=0.000220\ttrain accuracy=1.000\ttest accuracy=0.875\n",
      "epoch=272\ttrain loss=0.000626\ttrain accuracy=1.000\ttest accuracy=0.875\n",
      "epoch=273\ttrain loss=0.000334\ttrain accuracy=1.000\ttest accuracy=0.875\n",
      "epoch=274\ttrain loss=0.000210\ttrain accuracy=1.000\ttest accuracy=0.875\n",
      "epoch=275\ttrain loss=0.000203\ttrain accuracy=1.000\ttest accuracy=0.875\n",
      "epoch=276\ttrain loss=0.000147\ttrain accuracy=1.000\ttest accuracy=0.875\n",
      "epoch=277\ttrain loss=0.000259\ttrain accuracy=1.000\ttest accuracy=0.875\n",
      "epoch=278\ttrain loss=0.000952\ttrain accuracy=1.000\ttest accuracy=0.875\n",
      "epoch=279\ttrain loss=0.000460\ttrain accuracy=1.000\ttest accuracy=0.938\n",
      "epoch=280\ttrain loss=0.000314\ttrain accuracy=1.000\ttest accuracy=0.938\n",
      "epoch=281\ttrain loss=0.000115\ttrain accuracy=1.000\ttest accuracy=0.938\n",
      "epoch=282\ttrain loss=0.000516\ttrain accuracy=1.000\ttest accuracy=0.875\n",
      "epoch=283\ttrain loss=0.000270\ttrain accuracy=1.000\ttest accuracy=0.875\n",
      "epoch=284\ttrain loss=0.000356\ttrain accuracy=1.000\ttest accuracy=0.875\n",
      "epoch=285\ttrain loss=0.000267\ttrain accuracy=1.000\ttest accuracy=0.875\n",
      "epoch=286\ttrain loss=0.000188\ttrain accuracy=1.000\ttest accuracy=0.875\n",
      "epoch=287\ttrain loss=0.009749\ttrain accuracy=1.000\ttest accuracy=0.938\n",
      "epoch=288\ttrain loss=0.018512\ttrain accuracy=0.984\ttest accuracy=0.875\n",
      "epoch=289\ttrain loss=0.011001\ttrain accuracy=1.000\ttest accuracy=0.875\n",
      "epoch=290\ttrain loss=0.004365\ttrain accuracy=1.000\ttest accuracy=0.875\n",
      "epoch=291\ttrain loss=0.008233\ttrain accuracy=1.000\ttest accuracy=0.875\n",
      "epoch=292\ttrain loss=0.010936\ttrain accuracy=1.000\ttest accuracy=0.875\n",
      "epoch=293\ttrain loss=0.006596\ttrain accuracy=1.000\ttest accuracy=0.875\n",
      "epoch=294\ttrain loss=0.002838\ttrain accuracy=1.000\ttest accuracy=0.875\n",
      "epoch=295\ttrain loss=0.000541\ttrain accuracy=1.000\ttest accuracy=0.875\n",
      "epoch=296\ttrain loss=0.001061\ttrain accuracy=1.000\ttest accuracy=0.875\n",
      "epoch=297\ttrain loss=0.000327\ttrain accuracy=1.000\ttest accuracy=0.875\n",
      "epoch=298\ttrain loss=0.000611\ttrain accuracy=1.000\ttest accuracy=0.875\n",
      "epoch=299\ttrain loss=0.000968\ttrain accuracy=1.000\ttest accuracy=0.875\n",
      "epoch=300\ttrain loss=0.001020\ttrain accuracy=1.000\ttest accuracy=0.875\n",
      "epoch=301\ttrain loss=0.000467\ttrain accuracy=1.000\ttest accuracy=0.875\n",
      "epoch=302\ttrain loss=0.000752\ttrain accuracy=1.000\ttest accuracy=0.875\n",
      "epoch=303\ttrain loss=0.000303\ttrain accuracy=1.000\ttest accuracy=0.875\n",
      "epoch=304\ttrain loss=0.000183\ttrain accuracy=1.000\ttest accuracy=0.875\n",
      "epoch=305\ttrain loss=0.000759\ttrain accuracy=1.000\ttest accuracy=0.875\n",
      "epoch=306\ttrain loss=0.000316\ttrain accuracy=1.000\ttest accuracy=0.875\n",
      "epoch=307\ttrain loss=0.000664\ttrain accuracy=1.000\ttest accuracy=0.875\n",
      "epoch=308\ttrain loss=0.001350\ttrain accuracy=1.000\ttest accuracy=0.875\n",
      "epoch=309\ttrain loss=0.000155\ttrain accuracy=1.000\ttest accuracy=0.875\n",
      "epoch=310\ttrain loss=0.000991\ttrain accuracy=1.000\ttest accuracy=0.875\n",
      "epoch=311\ttrain loss=0.000624\ttrain accuracy=1.000\ttest accuracy=0.875\n",
      "epoch=312\ttrain loss=0.002296\ttrain accuracy=1.000\ttest accuracy=0.875\n",
      "epoch=313\ttrain loss=0.000116\ttrain accuracy=1.000\ttest accuracy=0.875\n",
      "epoch=314\ttrain loss=0.000524\ttrain accuracy=1.000\ttest accuracy=0.875\n",
      "epoch=315\ttrain loss=0.000837\ttrain accuracy=1.000\ttest accuracy=0.875\n",
      "epoch=316\ttrain loss=0.000166\ttrain accuracy=1.000\ttest accuracy=0.875\n",
      "epoch=317\ttrain loss=0.005715\ttrain accuracy=1.000\ttest accuracy=0.938\n",
      "epoch=318\ttrain loss=0.000303\ttrain accuracy=1.000\ttest accuracy=0.875\n",
      "epoch=319\ttrain loss=0.007953\ttrain accuracy=1.000\ttest accuracy=0.875\n",
      "epoch=320\ttrain loss=0.003501\ttrain accuracy=1.000\ttest accuracy=0.875\n",
      "epoch=321\ttrain loss=0.001712\ttrain accuracy=1.000\ttest accuracy=0.875\n",
      "epoch=322\ttrain loss=0.000531\ttrain accuracy=1.000\ttest accuracy=0.875\n",
      "epoch=323\ttrain loss=0.049556\ttrain accuracy=0.984\ttest accuracy=0.875\n",
      "epoch=324\ttrain loss=0.020212\ttrain accuracy=0.984\ttest accuracy=0.938\n",
      "epoch=325\ttrain loss=0.028944\ttrain accuracy=0.984\ttest accuracy=0.938\n",
      "epoch=326\ttrain loss=0.005348\ttrain accuracy=1.000\ttest accuracy=0.938\n",
      "epoch=327\ttrain loss=0.066828\ttrain accuracy=0.968\ttest accuracy=0.938\n",
      "epoch=328\ttrain loss=0.044384\ttrain accuracy=0.984\ttest accuracy=0.875\n",
      "epoch=329\ttrain loss=0.089604\ttrain accuracy=0.984\ttest accuracy=0.875\n",
      "epoch=330\ttrain loss=0.025352\ttrain accuracy=0.984\ttest accuracy=0.875\n",
      "epoch=331\ttrain loss=0.007912\ttrain accuracy=1.000\ttest accuracy=0.875\n",
      "epoch=332\ttrain loss=0.005621\ttrain accuracy=1.000\ttest accuracy=0.875\n",
      "epoch=333\ttrain loss=0.004953\ttrain accuracy=1.000\ttest accuracy=0.875\n",
      "epoch=334\ttrain loss=0.019748\ttrain accuracy=0.984\ttest accuracy=0.875\n",
      "epoch=335\ttrain loss=0.000815\ttrain accuracy=1.000\ttest accuracy=0.875\n",
      "epoch=336\ttrain loss=0.036010\ttrain accuracy=0.984\ttest accuracy=0.875\n",
      "epoch=337\ttrain loss=0.009570\ttrain accuracy=1.000\ttest accuracy=0.875\n",
      "epoch=338\ttrain loss=0.010161\ttrain accuracy=1.000\ttest accuracy=0.875\n",
      "epoch=339\ttrain loss=0.005638\ttrain accuracy=1.000\ttest accuracy=0.875\n",
      "epoch=340\ttrain loss=0.005078\ttrain accuracy=1.000\ttest accuracy=0.875\n",
      "epoch=341\ttrain loss=0.024076\ttrain accuracy=1.000\ttest accuracy=0.875\n",
      "epoch=342\ttrain loss=0.012221\ttrain accuracy=0.984\ttest accuracy=0.875\n",
      "epoch=343\ttrain loss=0.000479\ttrain accuracy=1.000\ttest accuracy=0.875\n",
      "epoch=344\ttrain loss=0.000286\ttrain accuracy=1.000\ttest accuracy=0.875\n",
      "epoch=345\ttrain loss=0.003708\ttrain accuracy=1.000\ttest accuracy=0.875\n",
      "epoch=346\ttrain loss=0.001556\ttrain accuracy=1.000\ttest accuracy=0.875\n",
      "epoch=347\ttrain loss=0.005433\ttrain accuracy=1.000\ttest accuracy=0.875\n",
      "epoch=348\ttrain loss=0.009261\ttrain accuracy=1.000\ttest accuracy=0.875\n",
      "epoch=349\ttrain loss=0.001697\ttrain accuracy=1.000\ttest accuracy=0.938\n",
      "epoch=350\ttrain loss=0.001779\ttrain accuracy=1.000\ttest accuracy=0.938\n",
      "epoch=351\ttrain loss=0.000248\ttrain accuracy=1.000\ttest accuracy=0.938\n",
      "epoch=352\ttrain loss=0.000281\ttrain accuracy=1.000\ttest accuracy=0.938\n",
      "epoch=353\ttrain loss=0.000713\ttrain accuracy=1.000\ttest accuracy=0.938\n",
      "epoch=354\ttrain loss=0.006481\ttrain accuracy=1.000\ttest accuracy=0.875\n",
      "epoch=355\ttrain loss=0.000107\ttrain accuracy=1.000\ttest accuracy=0.938\n",
      "epoch=356\ttrain loss=0.000197\ttrain accuracy=1.000\ttest accuracy=0.938\n",
      "epoch=357\ttrain loss=0.000284\ttrain accuracy=1.000\ttest accuracy=0.938\n",
      "epoch=358\ttrain loss=0.003371\ttrain accuracy=1.000\ttest accuracy=0.938\n",
      "epoch=359\ttrain loss=0.000064\ttrain accuracy=1.000\ttest accuracy=0.938\n",
      "epoch=360\ttrain loss=0.000278\ttrain accuracy=1.000\ttest accuracy=0.875\n",
      "epoch=361\ttrain loss=0.001604\ttrain accuracy=1.000\ttest accuracy=0.875\n",
      "epoch=362\ttrain loss=0.000121\ttrain accuracy=1.000\ttest accuracy=0.875\n",
      "epoch=363\ttrain loss=0.070116\ttrain accuracy=0.984\ttest accuracy=0.875\n",
      "epoch=364\ttrain loss=0.000511\ttrain accuracy=1.000\ttest accuracy=0.938\n",
      "epoch=365\ttrain loss=0.023604\ttrain accuracy=0.984\ttest accuracy=0.938\n",
      "epoch=366\ttrain loss=0.004231\ttrain accuracy=1.000\ttest accuracy=0.938\n",
      "epoch=367\ttrain loss=0.030089\ttrain accuracy=0.984\ttest accuracy=0.938\n",
      "epoch=368\ttrain loss=0.023141\ttrain accuracy=0.984\ttest accuracy=0.938\n",
      "epoch=369\ttrain loss=0.003943\ttrain accuracy=1.000\ttest accuracy=0.875\n",
      "epoch=370\ttrain loss=0.044040\ttrain accuracy=0.968\ttest accuracy=0.938\n",
      "epoch=371\ttrain loss=0.017977\ttrain accuracy=1.000\ttest accuracy=0.875\n",
      "epoch=372\ttrain loss=0.001546\ttrain accuracy=1.000\ttest accuracy=0.875\n",
      "epoch=373\ttrain loss=0.001586\ttrain accuracy=1.000\ttest accuracy=0.875\n",
      "epoch=374\ttrain loss=0.005694\ttrain accuracy=1.000\ttest accuracy=0.875\n",
      "epoch=375\ttrain loss=0.008362\ttrain accuracy=1.000\ttest accuracy=0.875\n",
      "epoch=376\ttrain loss=0.030034\ttrain accuracy=0.984\ttest accuracy=0.875\n",
      "epoch=377\ttrain loss=0.002662\ttrain accuracy=1.000\ttest accuracy=0.875\n",
      "epoch=378\ttrain loss=0.030267\ttrain accuracy=0.984\ttest accuracy=0.875\n",
      "epoch=379\ttrain loss=0.001920\ttrain accuracy=1.000\ttest accuracy=0.875\n",
      "epoch=380\ttrain loss=0.001728\ttrain accuracy=1.000\ttest accuracy=0.875\n",
      "epoch=381\ttrain loss=0.063292\ttrain accuracy=0.984\ttest accuracy=0.875\n",
      "epoch=382\ttrain loss=0.008375\ttrain accuracy=1.000\ttest accuracy=0.875\n",
      "epoch=383\ttrain loss=0.001442\ttrain accuracy=1.000\ttest accuracy=0.875\n",
      "epoch=384\ttrain loss=0.003171\ttrain accuracy=1.000\ttest accuracy=0.875\n",
      "epoch=385\ttrain loss=0.030963\ttrain accuracy=0.984\ttest accuracy=0.875\n",
      "epoch=386\ttrain loss=0.068500\ttrain accuracy=0.984\ttest accuracy=0.812\n",
      "epoch=387\ttrain loss=0.140021\ttrain accuracy=0.968\ttest accuracy=0.875\n",
      "epoch=388\ttrain loss=0.008784\ttrain accuracy=1.000\ttest accuracy=0.938\n",
      "epoch=389\ttrain loss=0.000099\ttrain accuracy=1.000\ttest accuracy=0.938\n",
      "epoch=390\ttrain loss=0.000389\ttrain accuracy=1.000\ttest accuracy=0.938\n",
      "epoch=391\ttrain loss=0.000562\ttrain accuracy=1.000\ttest accuracy=0.938\n",
      "epoch=392\ttrain loss=0.012358\ttrain accuracy=1.000\ttest accuracy=0.938\n",
      "epoch=393\ttrain loss=0.002131\ttrain accuracy=1.000\ttest accuracy=0.938\n",
      "epoch=394\ttrain loss=0.000664\ttrain accuracy=1.000\ttest accuracy=0.938\n",
      "epoch=395\ttrain loss=0.000365\ttrain accuracy=1.000\ttest accuracy=0.938\n",
      "epoch=396\ttrain loss=0.000449\ttrain accuracy=1.000\ttest accuracy=0.938\n",
      "epoch=397\ttrain loss=0.001035\ttrain accuracy=1.000\ttest accuracy=0.938\n",
      "epoch=398\ttrain loss=0.000077\ttrain accuracy=1.000\ttest accuracy=0.938\n",
      "epoch=399\ttrain loss=0.004570\ttrain accuracy=1.000\ttest accuracy=0.938\n",
      "epoch=400\ttrain loss=0.001031\ttrain accuracy=1.000\ttest accuracy=0.938\n",
      "epoch=401\ttrain loss=0.000076\ttrain accuracy=1.000\ttest accuracy=0.938\n",
      "epoch=402\ttrain loss=0.000177\ttrain accuracy=1.000\ttest accuracy=0.938\n",
      "epoch=403\ttrain loss=0.004638\ttrain accuracy=1.000\ttest accuracy=0.938\n",
      "epoch=404\ttrain loss=0.000140\ttrain accuracy=1.000\ttest accuracy=0.938\n",
      "epoch=405\ttrain loss=0.000376\ttrain accuracy=1.000\ttest accuracy=0.938\n",
      "epoch=406\ttrain loss=0.000273\ttrain accuracy=1.000\ttest accuracy=0.938\n",
      "epoch=407\ttrain loss=0.000067\ttrain accuracy=1.000\ttest accuracy=0.938\n",
      "epoch=408\ttrain loss=0.001150\ttrain accuracy=1.000\ttest accuracy=0.938\n",
      "epoch=409\ttrain loss=0.001176\ttrain accuracy=1.000\ttest accuracy=0.938\n",
      "epoch=410\ttrain loss=0.000048\ttrain accuracy=1.000\ttest accuracy=0.938\n",
      "epoch=411\ttrain loss=0.000263\ttrain accuracy=1.000\ttest accuracy=0.938\n",
      "epoch=412\ttrain loss=0.000035\ttrain accuracy=1.000\ttest accuracy=0.938\n",
      "epoch=413\ttrain loss=0.000317\ttrain accuracy=1.000\ttest accuracy=0.938\n",
      "epoch=414\ttrain loss=0.000056\ttrain accuracy=1.000\ttest accuracy=0.938\n",
      "epoch=415\ttrain loss=0.000027\ttrain accuracy=1.000\ttest accuracy=0.938\n",
      "epoch=416\ttrain loss=0.000108\ttrain accuracy=1.000\ttest accuracy=0.938\n",
      "epoch=417\ttrain loss=0.001079\ttrain accuracy=1.000\ttest accuracy=0.938\n",
      "epoch=418\ttrain loss=0.000106\ttrain accuracy=1.000\ttest accuracy=0.938\n",
      "epoch=419\ttrain loss=0.000111\ttrain accuracy=1.000\ttest accuracy=0.938\n",
      "epoch=420\ttrain loss=0.001172\ttrain accuracy=1.000\ttest accuracy=0.938\n",
      "epoch=421\ttrain loss=0.000055\ttrain accuracy=1.000\ttest accuracy=0.938\n",
      "epoch=422\ttrain loss=0.001539\ttrain accuracy=1.000\ttest accuracy=0.938\n",
      "epoch=423\ttrain loss=0.000313\ttrain accuracy=1.000\ttest accuracy=0.938\n",
      "epoch=424\ttrain loss=0.000218\ttrain accuracy=1.000\ttest accuracy=0.938\n",
      "epoch=425\ttrain loss=0.004839\ttrain accuracy=1.000\ttest accuracy=0.938\n",
      "epoch=426\ttrain loss=0.000657\ttrain accuracy=1.000\ttest accuracy=0.938\n",
      "epoch=427\ttrain loss=0.002022\ttrain accuracy=1.000\ttest accuracy=0.938\n",
      "epoch=428\ttrain loss=0.000227\ttrain accuracy=1.000\ttest accuracy=0.938\n",
      "epoch=429\ttrain loss=0.000294\ttrain accuracy=1.000\ttest accuracy=0.938\n",
      "epoch=430\ttrain loss=0.000547\ttrain accuracy=1.000\ttest accuracy=0.938\n",
      "epoch=431\ttrain loss=0.000647\ttrain accuracy=1.000\ttest accuracy=0.938\n",
      "epoch=432\ttrain loss=0.000078\ttrain accuracy=1.000\ttest accuracy=0.938\n",
      "epoch=433\ttrain loss=0.000416\ttrain accuracy=1.000\ttest accuracy=0.938\n",
      "epoch=434\ttrain loss=0.000177\ttrain accuracy=1.000\ttest accuracy=0.938\n",
      "epoch=435\ttrain loss=0.000224\ttrain accuracy=1.000\ttest accuracy=0.938\n",
      "epoch=436\ttrain loss=0.000251\ttrain accuracy=1.000\ttest accuracy=0.938\n",
      "epoch=437\ttrain loss=0.000363\ttrain accuracy=1.000\ttest accuracy=0.938\n",
      "epoch=438\ttrain loss=0.000367\ttrain accuracy=1.000\ttest accuracy=0.938\n",
      "epoch=439\ttrain loss=0.000045\ttrain accuracy=1.000\ttest accuracy=0.938\n",
      "epoch=440\ttrain loss=0.000071\ttrain accuracy=1.000\ttest accuracy=0.938\n",
      "epoch=441\ttrain loss=0.000056\ttrain accuracy=1.000\ttest accuracy=0.938\n",
      "epoch=442\ttrain loss=0.000689\ttrain accuracy=1.000\ttest accuracy=0.938\n",
      "epoch=443\ttrain loss=0.000038\ttrain accuracy=1.000\ttest accuracy=0.938\n",
      "epoch=444\ttrain loss=0.000076\ttrain accuracy=1.000\ttest accuracy=0.938\n",
      "epoch=445\ttrain loss=0.000041\ttrain accuracy=1.000\ttest accuracy=0.938\n",
      "epoch=446\ttrain loss=0.000162\ttrain accuracy=1.000\ttest accuracy=0.938\n",
      "epoch=447\ttrain loss=0.000029\ttrain accuracy=1.000\ttest accuracy=0.938\n",
      "epoch=448\ttrain loss=0.000075\ttrain accuracy=1.000\ttest accuracy=0.938\n",
      "epoch=449\ttrain loss=0.000054\ttrain accuracy=1.000\ttest accuracy=0.938\n",
      "epoch=450\ttrain loss=0.002342\ttrain accuracy=1.000\ttest accuracy=0.938\n",
      "epoch=451\ttrain loss=0.001748\ttrain accuracy=1.000\ttest accuracy=0.938\n",
      "epoch=452\ttrain loss=0.000079\ttrain accuracy=1.000\ttest accuracy=0.938\n",
      "epoch=453\ttrain loss=0.000078\ttrain accuracy=1.000\ttest accuracy=0.938\n",
      "epoch=454\ttrain loss=0.001433\ttrain accuracy=1.000\ttest accuracy=0.938\n",
      "epoch=455\ttrain loss=0.000419\ttrain accuracy=1.000\ttest accuracy=0.938\n",
      "epoch=456\ttrain loss=0.000111\ttrain accuracy=1.000\ttest accuracy=0.938\n",
      "epoch=457\ttrain loss=0.000507\ttrain accuracy=1.000\ttest accuracy=0.938\n",
      "epoch=458\ttrain loss=0.000095\ttrain accuracy=1.000\ttest accuracy=0.938\n",
      "epoch=459\ttrain loss=0.000082\ttrain accuracy=1.000\ttest accuracy=0.938\n",
      "epoch=460\ttrain loss=0.000627\ttrain accuracy=1.000\ttest accuracy=0.938\n",
      "epoch=461\ttrain loss=0.000084\ttrain accuracy=1.000\ttest accuracy=0.938\n",
      "epoch=462\ttrain loss=0.000289\ttrain accuracy=1.000\ttest accuracy=0.938\n",
      "epoch=463\ttrain loss=0.000065\ttrain accuracy=1.000\ttest accuracy=0.938\n",
      "epoch=464\ttrain loss=0.000122\ttrain accuracy=1.000\ttest accuracy=0.938\n",
      "epoch=465\ttrain loss=0.000305\ttrain accuracy=1.000\ttest accuracy=0.938\n",
      "epoch=466\ttrain loss=0.000036\ttrain accuracy=1.000\ttest accuracy=0.938\n",
      "epoch=467\ttrain loss=0.000100\ttrain accuracy=1.000\ttest accuracy=0.938\n",
      "epoch=468\ttrain loss=0.000080\ttrain accuracy=1.000\ttest accuracy=0.938\n",
      "epoch=469\ttrain loss=0.000017\ttrain accuracy=1.000\ttest accuracy=0.938\n",
      "epoch=470\ttrain loss=0.000106\ttrain accuracy=1.000\ttest accuracy=0.938\n",
      "epoch=471\ttrain loss=0.000067\ttrain accuracy=1.000\ttest accuracy=0.938\n",
      "epoch=472\ttrain loss=0.000473\ttrain accuracy=1.000\ttest accuracy=0.938\n",
      "epoch=473\ttrain loss=0.001907\ttrain accuracy=1.000\ttest accuracy=0.938\n",
      "epoch=474\ttrain loss=0.000811\ttrain accuracy=1.000\ttest accuracy=0.938\n",
      "epoch=475\ttrain loss=0.001781\ttrain accuracy=1.000\ttest accuracy=0.938\n",
      "epoch=476\ttrain loss=0.000228\ttrain accuracy=1.000\ttest accuracy=0.938\n",
      "epoch=477\ttrain loss=0.055905\ttrain accuracy=0.984\ttest accuracy=0.938\n",
      "epoch=478\ttrain loss=0.072176\ttrain accuracy=0.968\ttest accuracy=0.812\n",
      "epoch=479\ttrain loss=0.013812\ttrain accuracy=1.000\ttest accuracy=0.875\n",
      "epoch=480\ttrain loss=0.008397\ttrain accuracy=1.000\ttest accuracy=0.875\n",
      "epoch=481\ttrain loss=0.011192\ttrain accuracy=1.000\ttest accuracy=0.875\n",
      "epoch=482\ttrain loss=0.003564\ttrain accuracy=1.000\ttest accuracy=0.938\n",
      "epoch=483\ttrain loss=0.002807\ttrain accuracy=1.000\ttest accuracy=0.938\n",
      "epoch=484\ttrain loss=0.001871\ttrain accuracy=1.000\ttest accuracy=0.938\n",
      "epoch=485\ttrain loss=0.001803\ttrain accuracy=1.000\ttest accuracy=0.938\n",
      "epoch=486\ttrain loss=0.121308\ttrain accuracy=0.984\ttest accuracy=0.938\n",
      "epoch=487\ttrain loss=0.003931\ttrain accuracy=1.000\ttest accuracy=0.938\n",
      "epoch=488\ttrain loss=0.012112\ttrain accuracy=1.000\ttest accuracy=0.938\n",
      "epoch=489\ttrain loss=0.004166\ttrain accuracy=1.000\ttest accuracy=0.938\n",
      "epoch=490\ttrain loss=0.038027\ttrain accuracy=0.984\ttest accuracy=0.938\n",
      "epoch=491\ttrain loss=0.013934\ttrain accuracy=1.000\ttest accuracy=0.938\n",
      "epoch=492\ttrain loss=0.013503\ttrain accuracy=1.000\ttest accuracy=0.938\n",
      "epoch=493\ttrain loss=0.004893\ttrain accuracy=1.000\ttest accuracy=0.938\n",
      "epoch=494\ttrain loss=0.001250\ttrain accuracy=1.000\ttest accuracy=0.938\n",
      "epoch=495\ttrain loss=0.009822\ttrain accuracy=1.000\ttest accuracy=0.938\n",
      "epoch=496\ttrain loss=0.001044\ttrain accuracy=1.000\ttest accuracy=0.938\n",
      "epoch=497\ttrain loss=0.002844\ttrain accuracy=1.000\ttest accuracy=0.938\n",
      "epoch=498\ttrain loss=0.016958\ttrain accuracy=0.984\ttest accuracy=0.938\n",
      "epoch=499\ttrain loss=0.005141\ttrain accuracy=1.000\ttest accuracy=0.938\n"
     ]
    }
   ],
   "source": [
    "best_accuracy = 0\n",
    "for epoch in range(500):\n",
    "    running_loss = 0.0\n",
    "    train_acc = 0.0\n",
    "    for step, (batch_image, batch_label) in enumerate(train_loader):\n",
    "        model.train()\n",
    "        # if torch.cuda.is_available():\n",
    "        #     batch_image, batch_label = batch_image.cuda(), batch_label.cuda()\n",
    "        batch_output = model(batch_image)\n",
    "        batch_loss = loss_func(batch_output, batch_label)\n",
    "\n",
    "        optimizer.zero_grad()\n",
    "        batch_loss.backward()\n",
    "        optimizer.step()\n",
    "\n",
    "        running_loss += batch_loss.item()\n",
    "\n",
    "        # train accuracy\n",
    "        _, train_predicted = torch.max(batch_output.data, 1)\n",
    "        train_acc += (train_predicted == batch_label).sum().item()\n",
    "\n",
    "    train_acc /= train_size\n",
    "    running_loss /= (step+1)\n",
    "\n",
    "    # ----------test----------\n",
    "    model.eval()\n",
    "    test_acc = 0.0\n",
    "    for test_image, test_label in test_loader:\n",
    "        test_output = model(test_image)\n",
    "        _, predicted = torch.max(test_output.data, 1)\n",
    "        test_acc += (predicted == test_label).sum().item()\n",
    "    test_acc /= test_size\n",
    "\n",
    "    print('epoch={:d}\\ttrain loss={:.6f}\\ttrain accuracy={:.3f}\\ttest accuracy={:.3f}'.format(\n",
    "        epoch, running_loss, train_acc, test_acc))\n",
    "\n",
    "    if test_acc >= best_accuracy:\n",
    "        torch.save(model.state_dict(), './trained_models/FCNN_model.pkl')\n",
    "        best_accuracy = test_acc\n"
   ]
  },
  {
   "cell_type": "code",
   "execution_count": null,
   "id": "9809dd57-d620-49db-8b3d-07cb78987917",
   "metadata": {
    "pycharm": {
     "name": "#%%\n"
    }
   },
   "outputs": [],
   "source": []
  },
  {
   "cell_type": "code",
   "execution_count": null,
   "id": "feda5d9f",
   "metadata": {
    "collapsed": false,
    "jupyter": {
     "outputs_hidden": false
    },
    "pycharm": {
     "name": "#%%\n"
    }
   },
   "outputs": [],
   "source": []
  },
  {
   "cell_type": "code",
   "execution_count": null,
   "id": "652d51f5",
   "metadata": {
    "collapsed": false,
    "jupyter": {
     "outputs_hidden": false
    },
    "pycharm": {
     "name": "#%%\n"
    }
   },
   "outputs": [],
   "source": []
  },
  {
   "cell_type": "code",
   "execution_count": null,
   "id": "76baeba6",
   "metadata": {
    "collapsed": false,
    "jupyter": {
     "outputs_hidden": false
    },
    "pycharm": {
     "name": "#%%\n"
    }
   },
   "outputs": [],
   "source": []
  },
  {
   "cell_type": "code",
   "execution_count": null,
   "id": "2868fa3d-f15c-49c4-994a-80e1fae7e0d9",
   "metadata": {
    "pycharm": {
     "name": "#%%\n"
    }
   },
   "outputs": [],
   "source": []
  },
  {
   "cell_type": "code",
   "execution_count": null,
   "id": "bb606fb4-6cb8-4f43-8ea6-96604096ecb8",
   "metadata": {
    "pycharm": {
     "name": "#%%\n"
    }
   },
   "outputs": [],
   "source": []
  },
  {
   "cell_type": "code",
   "execution_count": null,
   "id": "053390f7-c366-4c72-b87d-5266f42832b7",
   "metadata": {
    "pycharm": {
     "name": "#%%\n"
    }
   },
   "outputs": [],
   "source": []
  }
 ],
 "metadata": {
  "kernelspec": {
   "display_name": "Python 3 (ipykernel)",
   "language": "python",
   "name": "python3"
  },
  "language_info": {
   "codemirror_mode": {
    "name": "ipython",
    "version": 3
   },
   "file_extension": ".py",
   "mimetype": "text/x-python",
   "name": "python",
   "nbconvert_exporter": "python",
   "pygments_lexer": "ipython3",
   "version": "3.7.8"
  }
 },
 "nbformat": 4,
 "nbformat_minor": 5
}
