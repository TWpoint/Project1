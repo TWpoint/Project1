{
 "cells": [
  {
   "cell_type": "markdown",
   "id": "88bf6bd0-3dd2-4711-9cce-b6dbb463e05d",
   "metadata": {
    "pycharm": {
     "name": "#%% md\n"
    }
   },
   "source": [
    "# Task 1: Understand body language by gesture recognition with fully connected neural network"
   ]
  },
  {
   "cell_type": "markdown",
   "id": "bdebc998-13f5-4195-a67b-df152735d5b9",
   "metadata": {
    "pycharm": {
     "name": "#%% md\n"
    }
   },
   "source": [
    "## 1. Do literature search on gesture recognition and its application in Human-Robot Interaction. Summarize what you have learned."
   ]
  },
  {
   "cell_type": "markdown",
   "id": "c75d7314-8adc-4e9e-878f-1cf6b6d98a2d",
   "metadata": {
    "pycharm": {
     "name": "#%% md\n"
    }
   },
   "source": [
    "## 2. Referring to the previous example about building a neural network based classifier, use what you have learned to read the code for gesture classification below and design your own network architecture using fully connected layers."
   ]
  },
  {
   "cell_type": "markdown",
   "id": "7337f2e1-9947-4985-a97b-c807c311e28f",
   "metadata": {
    "pycharm": {
     "name": "#%% md\n"
    }
   },
   "source": [
    "## 3. Run the model. Analyse and comment on the performance of your model based on fully connected layers."
   ]
  },
  {
   "cell_type": "code",
   "execution_count": 122,
   "id": "188f9266-fc0b-4001-84ba-73e7804606e6",
   "metadata": {
    "pycharm": {
     "name": "#%%\n"
    }
   },
   "outputs": [],
   "source": [
    "import cv2\n",
    "import numpy as np\n",
    "import os\n",
    "import torch\n",
    "import itertools\n",
    "import torch.utils.data as utils_data\n",
    "import torch.nn as nn\n",
    "from torch. utils.tensorboard import SummaryWriter\n",
    "writer = SummaryWriter()\n"
   ]
  },
  {
   "cell_type": "markdown",
   "id": "e9d0830f-0431-4d27-aed5-5fa3156d6091",
   "metadata": {
    "pycharm": {
     "name": "#%% md\n"
    }
   },
   "source": [
    "## 1) data preprocessing"
   ]
  },
  {
   "cell_type": "markdown",
   "id": "926df832-9898-4e91-8beb-d0790da1bf0c",
   "metadata": {
    "pycharm": {
     "name": "#%% md\n"
    }
   },
   "source": [
    "Define a function to preprocess the images including resizing and binaryzation"
   ]
  },
  {
   "cell_type": "code",
   "execution_count": 123,
   "id": "dd1d99d8-da0f-4305-8fbd-1e346abc560b",
   "metadata": {
    "pycharm": {
     "name": "#%%\n"
    }
   },
   "outputs": [],
   "source": [
    "def processSkinImage(filePath, resize_HW=48):\n",
    "    # step 1\n",
    "    # read the image\n",
    "    original = cv2.imread(filename=filePath)\n",
    "\n",
    "    # step 2\n",
    "    # resize the image to\n",
    "    image_resized = cv2.resize(original, (resize_HW, resize_HW))\n",
    "\n",
    "    # step 3\n",
    "    # convert the image from rgb to YCbCr\n",
    "    image_ycbcr = cv2.cvtColor(image_resized, cv2.COLOR_BGR2YCR_CB)\n",
    "\n",
    "    # step 4\n",
    "    # get the central color of the image\n",
    "    # expected the hand to be in the central of the image\n",
    "    Cb_center_color = image_ycbcr[int(resize_HW/2), int(resize_HW/2), 1]\n",
    "    Cr_center_color = image_ycbcr[int(resize_HW/2), int(resize_HW/2), 2]\n",
    "    # set the range\n",
    "    Cb_Difference = 15\n",
    "    Cr_Difference = 10\n",
    "\n",
    "    # step 5\n",
    "    # detect skin pixels\n",
    "    Cb = image_ycbcr[:, :, 1]\n",
    "    Cr = image_ycbcr[:, :, 2]\n",
    "    index = np.where((Cb >= Cb_center_color-Cb_Difference) & (Cb <= Cb_center_color+Cb_Difference)\n",
    "                     & (Cr >= Cr_center_color-Cr_Difference) & (Cr <= Cr_center_color+Cr_Difference))\n",
    "\n",
    "    # Mark detected pixels and output\n",
    "    image_output = np.zeros((resize_HW, resize_HW))\n",
    "    image_output[index] = 255\n",
    "\n",
    "    # show image\n",
    "    # cv2.imshow(\"\", image_output)\n",
    "    # cv2.waitKey(0)\n",
    "    return image_output"
   ]
  },
  {
   "cell_type": "markdown",
   "id": "bcf454b1-4248-4a3e-9bf8-9304d64131c4",
   "metadata": {
    "pycharm": {
     "name": "#%% md\n"
    }
   },
   "source": [
    "Deal with all the images using the function defined above.\n",
    "The processed data is stored in a new folder 'dataset_processed'.\n",
    "\n",
    "Generate labels for each class. (class 0, 1, ..., num_classes)\n"
   ]
  },
  {
   "cell_type": "code",
   "execution_count": 124,
   "id": "a67e88cb-3dc7-4bfe-935f-5cba75a782d3",
   "metadata": {
    "pycharm": {
     "name": "#%%\n"
    }
   },
   "outputs": [],
   "source": [
    "path = './dataset/dataset/images'\n",
    "path_processed = './dataset_processed/images'\n",
    "\n",
    "# -------------------images processing--------------\n",
    "for mainDir, subDir, fileList in os.walk(path):\n",
    "    for file in fileList:\n",
    "        currentPath = os.path.join(mainDir, file)\n",
    "        processedImage = processSkinImage(currentPath)\n",
    "\n",
    "        new_mainDir = path_processed + mainDir.split(path)[-1]\n",
    "        if not os.path.exists(new_mainDir):\n",
    "            os.makedirs(new_mainDir)\n",
    "        cv2.imwrite(os.path.join(new_mainDir, file), processedImage)\n",
    "\n",
    "# -----------------label generation----------------\n",
    "label_path = './dataset_processed/labels'\n",
    "if not os.path.exists(label_path):\n",
    "    os.makedirs(label_path)\n",
    "\n",
    "files = os.listdir(path)\n",
    "for i, file in enumerate(files):\n",
    "    subclass_label_path = os.path.join(label_path, file+'.txt')\n",
    "    with open(subclass_label_path, 'w') as f:\n",
    "        f.write('#label\\n')\n",
    "    for _ in range(len(os.listdir(os.path.join(path_processed, file)))):\n",
    "        with open(subclass_label_path, 'a') as f:\n",
    "            f.write('{:d}\\n'.format(i))\n",
    "    f.close()"
   ]
  },
  {
   "cell_type": "markdown",
   "id": "5fac1d92-e269-4297-8b52-6be08c37e503",
   "metadata": {
    "pycharm": {
     "name": "#%% md\n"
    }
   },
   "source": [
    "## 2) load data"
   ]
  },
  {
   "cell_type": "code",
   "execution_count": 125,
   "id": "6e44415d-726c-401c-9a78-5dcd2c140ae2",
   "metadata": {
    "pycharm": {
     "name": "#%%\n"
    }
   },
   "outputs": [],
   "source": [
    "Image = []\n",
    "path_images = './dataset_processed/images'\n",
    "for mainDir, subDir, fileList in os.walk(path_images):\n",
    "    for file in fileList:\n",
    "        currentPath = os.path.join(mainDir, file)\n",
    "        Image.append(cv2.imread(currentPath)[:, :, 0])\n",
    "Image = np.array(Image)\n",
    "dataset_size, H, W = Image.shape\n",
    "# for FCNN model, the image need to be stretched into one dimension: (b, h, w)->(b, h*w)\n",
    "Image = Image.reshape(dataset_size, -1)\n",
    "\n",
    "\n",
    "Label = []\n",
    "path_labels = './dataset_processed/labels'\n",
    "for file in os.listdir(path_labels):\n",
    "    Label.append(np.loadtxt(os.path.join(path_labels, file)))\n",
    "Label = np.array(list(itertools.chain.from_iterable(Label)))\n",
    "num_classes = int(np.max(Label))+1"
   ]
  },
  {
   "cell_type": "markdown",
   "id": "03e71e6c-b618-4a68-90da-64ab0720edab",
   "metadata": {
    "pycharm": {
     "name": "#%% md\n"
    }
   },
   "source": [
    "## 3) build your own neural network based on fully connected layers."
   ]
  },
  {
   "cell_type": "markdown",
   "id": "d9c77568-a973-444d-95c8-b9fb70190a6f",
   "metadata": {
    "pycharm": {
     "name": "#%% md\n"
    }
   },
   "source": [
    "Design the neural network architecture"
   ]
  },
  {
   "cell_type": "code",
   "execution_count": 126,
   "id": "dbbd1a27-4d24-4511-8577-1737a8238616",
   "metadata": {
    "pycharm": {
     "name": "#%%\n"
    }
   },
   "outputs": [],
   "source": [
    "class FCNNModel(nn.Module):\n",
    "    def __init__(self, input_layer_size, hidden_layer_size, num_classes):\n",
    "        super(FCNNModel, self).__init__()\n",
    "        self.fc1 = nn.Sequential(\n",
    "            nn.Linear(input_layer_size, hidden_layer_size),\n",
    "            nn.BatchNorm1d(hidden_layer_size),\n",
    "            nn.ReLU(),\n",
    "        )\n",
    "        self.fc2 = nn.Sequential(\n",
    "            nn.Linear(hidden_layer_size, num_classes),\n",
    "        )\n",
    "    \n",
    "    def forward(self, x):\n",
    "        x = self.fc1(x)\n",
    "        out = self.fc2(x)\n",
    "        return out"
   ]
  },
  {
   "cell_type": "markdown",
   "id": "0662eb3b-c72d-4331-8c4f-8190805692c0",
   "metadata": {
    "pycharm": {
     "name": "#%% md\n"
    }
   },
   "source": [
    "instantiate your model, set a optimizer and define a loss function."
   ]
  },
  {
   "cell_type": "code",
   "execution_count": 127,
   "id": "c1354717-c8e5-4160-a15a-cba6d2669912",
   "metadata": {
    "pycharm": {
     "name": "#%%\n"
    }
   },
   "outputs": [],
   "source": [
    "model = FCNNModel(input_layer_size=H*W, hidden_layer_size=int(H*W/2), num_classes=num_classes)\n",
    "# if torch.cuda.is_available():\n",
    "#     model = model.cuda()\n",
    "optimizer = torch.optim.Adam(model.parameters(), lr=0.001, weight_decay=0.0001)\n",
    "loss_func = nn.CrossEntropyLoss()"
   ]
  },
  {
   "cell_type": "markdown",
   "id": "44fd1f77-bf0f-43be-bbfd-dfc3dfca6d57",
   "metadata": {
    "pycharm": {
     "name": "#%% md\n"
    }
   },
   "source": [
    "## 4) train and test"
   ]
  },
  {
   "cell_type": "markdown",
   "id": "8f57afac-7916-4851-89be-3e6f54c4e34d",
   "metadata": {
    "pycharm": {
     "name": "#%% md\n"
    }
   },
   "source": [
    "Encapsulate data"
   ]
  },
  {
   "cell_type": "code",
   "execution_count": 128,
   "id": "637ac95d-107a-4f69-b570-2d38352d3cfc",
   "metadata": {
    "pycharm": {
     "name": "#%%\n"
    }
   },
   "outputs": [
    {
     "name": "stdout",
     "output_type": "stream",
     "text": [
      "Data is ready!\n"
     ]
    }
   ],
   "source": [
    "dataset = utils_data.TensorDataset(torch.Tensor(Image), torch.LongTensor(Label))\n",
    "split_ratio = 0.8\n",
    "train_size = int(split_ratio * dataset_size)\n",
    "test_size = dataset_size - train_size\n",
    "train_set, test_set = utils_data.random_split(dataset, [train_size, test_size])\n",
    "train_loader = utils_data.DataLoader(dataset=train_set, batch_size=8, shuffle=True)\n",
    "test_loader = utils_data.DataLoader(dataset=test_set, batch_size=8, shuffle=True)\n",
    "print('Data is ready!')"
   ]
  },
  {
   "cell_type": "markdown",
   "id": "0dea0608-ff4d-4da7-94b1-c1d62061d87b",
   "metadata": {
    "pycharm": {
     "name": "#%% md\n"
    }
   },
   "source": [
    "The following is the training and testing process in detail."
   ]
  },
  {
   "cell_type": "code",
   "execution_count": 130,
   "id": "4b32aa71-a1cc-4398-8d37-e17acd424534",
   "metadata": {
    "pycharm": {
     "name": "#%%\n"
    }
   },
   "outputs": [
    {
     "name": "stdout",
     "output_type": "stream",
     "text": [
      "epoch=0\ttrain loss=0.000453\ttrain accuracy=1.000\ttest accuracy=0.938\n",
      "epoch=1\ttrain loss=0.003128\ttrain accuracy=1.000\ttest accuracy=0.938\n",
      "epoch=2\ttrain loss=0.000590\ttrain accuracy=1.000\ttest accuracy=0.938\n",
      "epoch=3\ttrain loss=0.000423\ttrain accuracy=1.000\ttest accuracy=0.938\n",
      "epoch=4\ttrain loss=0.000129\ttrain accuracy=1.000\ttest accuracy=0.938\n",
      "epoch=5\ttrain loss=0.001122\ttrain accuracy=1.000\ttest accuracy=0.938\n",
      "epoch=6\ttrain loss=0.002150\ttrain accuracy=1.000\ttest accuracy=0.938\n",
      "epoch=7\ttrain loss=0.001927\ttrain accuracy=1.000\ttest accuracy=0.938\n",
      "epoch=8\ttrain loss=0.000876\ttrain accuracy=1.000\ttest accuracy=0.938\n",
      "epoch=9\ttrain loss=0.000187\ttrain accuracy=1.000\ttest accuracy=0.938\n",
      "epoch=10\ttrain loss=0.000277\ttrain accuracy=1.000\ttest accuracy=0.938\n",
      "epoch=11\ttrain loss=0.000346\ttrain accuracy=1.000\ttest accuracy=0.938\n",
      "epoch=12\ttrain loss=0.000259\ttrain accuracy=1.000\ttest accuracy=0.938\n",
      "epoch=13\ttrain loss=0.000366\ttrain accuracy=1.000\ttest accuracy=0.938\n",
      "epoch=14\ttrain loss=0.001791\ttrain accuracy=1.000\ttest accuracy=0.938\n",
      "epoch=15\ttrain loss=0.006192\ttrain accuracy=1.000\ttest accuracy=0.938\n",
      "epoch=16\ttrain loss=0.000916\ttrain accuracy=1.000\ttest accuracy=0.938\n",
      "epoch=17\ttrain loss=0.001163\ttrain accuracy=1.000\ttest accuracy=0.938\n",
      "epoch=18\ttrain loss=0.000489\ttrain accuracy=1.000\ttest accuracy=0.938\n",
      "epoch=19\ttrain loss=0.000631\ttrain accuracy=1.000\ttest accuracy=0.938\n",
      "epoch=20\ttrain loss=0.000541\ttrain accuracy=1.000\ttest accuracy=0.938\n",
      "epoch=21\ttrain loss=0.002701\ttrain accuracy=1.000\ttest accuracy=0.938\n",
      "epoch=22\ttrain loss=0.000618\ttrain accuracy=1.000\ttest accuracy=0.938\n",
      "epoch=23\ttrain loss=0.000545\ttrain accuracy=1.000\ttest accuracy=0.938\n",
      "epoch=24\ttrain loss=0.000331\ttrain accuracy=1.000\ttest accuracy=0.938\n",
      "epoch=25\ttrain loss=0.007856\ttrain accuracy=1.000\ttest accuracy=0.938\n",
      "epoch=26\ttrain loss=0.000350\ttrain accuracy=1.000\ttest accuracy=0.938\n",
      "epoch=27\ttrain loss=0.000429\ttrain accuracy=1.000\ttest accuracy=0.938\n",
      "epoch=28\ttrain loss=0.000148\ttrain accuracy=1.000\ttest accuracy=0.938\n",
      "epoch=29\ttrain loss=0.000298\ttrain accuracy=1.000\ttest accuracy=0.938\n",
      "epoch=30\ttrain loss=0.000652\ttrain accuracy=1.000\ttest accuracy=0.938\n",
      "epoch=31\ttrain loss=0.000406\ttrain accuracy=1.000\ttest accuracy=0.938\n",
      "epoch=32\ttrain loss=0.000787\ttrain accuracy=1.000\ttest accuracy=0.938\n",
      "epoch=33\ttrain loss=0.000403\ttrain accuracy=1.000\ttest accuracy=0.938\n",
      "epoch=34\ttrain loss=0.002550\ttrain accuracy=1.000\ttest accuracy=0.938\n",
      "epoch=35\ttrain loss=0.000349\ttrain accuracy=1.000\ttest accuracy=0.938\n",
      "epoch=36\ttrain loss=0.000383\ttrain accuracy=1.000\ttest accuracy=0.938\n",
      "epoch=37\ttrain loss=0.000150\ttrain accuracy=1.000\ttest accuracy=0.938\n",
      "epoch=38\ttrain loss=0.000290\ttrain accuracy=1.000\ttest accuracy=0.938\n",
      "epoch=39\ttrain loss=0.000726\ttrain accuracy=1.000\ttest accuracy=0.938\n",
      "epoch=40\ttrain loss=0.001085\ttrain accuracy=1.000\ttest accuracy=0.938\n",
      "epoch=41\ttrain loss=0.001267\ttrain accuracy=1.000\ttest accuracy=0.938\n",
      "epoch=42\ttrain loss=0.000344\ttrain accuracy=1.000\ttest accuracy=0.938\n",
      "epoch=43\ttrain loss=0.000643\ttrain accuracy=1.000\ttest accuracy=0.938\n",
      "epoch=44\ttrain loss=0.001945\ttrain accuracy=1.000\ttest accuracy=0.938\n",
      "epoch=45\ttrain loss=0.000779\ttrain accuracy=1.000\ttest accuracy=0.938\n",
      "epoch=46\ttrain loss=0.000406\ttrain accuracy=1.000\ttest accuracy=0.938\n",
      "epoch=47\ttrain loss=0.000728\ttrain accuracy=1.000\ttest accuracy=0.938\n",
      "epoch=48\ttrain loss=0.000784\ttrain accuracy=1.000\ttest accuracy=0.938\n",
      "epoch=49\ttrain loss=0.000227\ttrain accuracy=1.000\ttest accuracy=0.938\n",
      "epoch=50\ttrain loss=0.000416\ttrain accuracy=1.000\ttest accuracy=0.938\n",
      "epoch=51\ttrain loss=0.000550\ttrain accuracy=1.000\ttest accuracy=0.938\n",
      "epoch=52\ttrain loss=0.001765\ttrain accuracy=1.000\ttest accuracy=0.938\n",
      "epoch=53\ttrain loss=0.000355\ttrain accuracy=1.000\ttest accuracy=0.938\n",
      "epoch=54\ttrain loss=0.000362\ttrain accuracy=1.000\ttest accuracy=0.938\n",
      "epoch=55\ttrain loss=0.000159\ttrain accuracy=1.000\ttest accuracy=1.000\n",
      "epoch=56\ttrain loss=0.000172\ttrain accuracy=1.000\ttest accuracy=0.938\n",
      "epoch=57\ttrain loss=0.000193\ttrain accuracy=1.000\ttest accuracy=1.000\n",
      "epoch=58\ttrain loss=0.000481\ttrain accuracy=1.000\ttest accuracy=1.000\n",
      "epoch=59\ttrain loss=0.000535\ttrain accuracy=1.000\ttest accuracy=1.000\n",
      "epoch=60\ttrain loss=0.000444\ttrain accuracy=1.000\ttest accuracy=1.000\n",
      "epoch=61\ttrain loss=0.000317\ttrain accuracy=1.000\ttest accuracy=1.000\n",
      "epoch=62\ttrain loss=0.000261\ttrain accuracy=1.000\ttest accuracy=1.000\n",
      "epoch=63\ttrain loss=0.000098\ttrain accuracy=1.000\ttest accuracy=1.000\n",
      "epoch=64\ttrain loss=0.000374\ttrain accuracy=1.000\ttest accuracy=0.938\n",
      "epoch=65\ttrain loss=0.000219\ttrain accuracy=1.000\ttest accuracy=1.000\n",
      "epoch=66\ttrain loss=0.000189\ttrain accuracy=1.000\ttest accuracy=1.000\n",
      "epoch=67\ttrain loss=0.000073\ttrain accuracy=1.000\ttest accuracy=1.000\n",
      "epoch=68\ttrain loss=0.000863\ttrain accuracy=1.000\ttest accuracy=1.000\n",
      "epoch=69\ttrain loss=0.001798\ttrain accuracy=1.000\ttest accuracy=1.000\n",
      "epoch=70\ttrain loss=0.000454\ttrain accuracy=1.000\ttest accuracy=0.938\n",
      "epoch=71\ttrain loss=0.000910\ttrain accuracy=1.000\ttest accuracy=0.938\n",
      "epoch=72\ttrain loss=0.002120\ttrain accuracy=1.000\ttest accuracy=0.938\n",
      "epoch=73\ttrain loss=0.000806\ttrain accuracy=1.000\ttest accuracy=1.000\n",
      "epoch=74\ttrain loss=0.009406\ttrain accuracy=1.000\ttest accuracy=1.000\n",
      "epoch=75\ttrain loss=0.001712\ttrain accuracy=1.000\ttest accuracy=0.875\n",
      "epoch=76\ttrain loss=0.038853\ttrain accuracy=0.984\ttest accuracy=0.938\n",
      "epoch=77\ttrain loss=0.066816\ttrain accuracy=0.984\ttest accuracy=0.938\n",
      "epoch=78\ttrain loss=0.011403\ttrain accuracy=1.000\ttest accuracy=0.938\n",
      "epoch=79\ttrain loss=0.026244\ttrain accuracy=0.984\ttest accuracy=0.938\n",
      "epoch=80\ttrain loss=0.010170\ttrain accuracy=1.000\ttest accuracy=1.000\n",
      "epoch=81\ttrain loss=0.088439\ttrain accuracy=0.984\ttest accuracy=1.000\n",
      "epoch=82\ttrain loss=0.015041\ttrain accuracy=1.000\ttest accuracy=0.938\n",
      "epoch=83\ttrain loss=0.015586\ttrain accuracy=1.000\ttest accuracy=0.938\n",
      "epoch=84\ttrain loss=0.001276\ttrain accuracy=1.000\ttest accuracy=0.938\n",
      "epoch=85\ttrain loss=0.011401\ttrain accuracy=1.000\ttest accuracy=0.938\n",
      "epoch=86\ttrain loss=0.003333\ttrain accuracy=1.000\ttest accuracy=0.938\n",
      "epoch=87\ttrain loss=0.000636\ttrain accuracy=1.000\ttest accuracy=0.938\n",
      "epoch=88\ttrain loss=0.003469\ttrain accuracy=1.000\ttest accuracy=0.938\n",
      "epoch=89\ttrain loss=0.000150\ttrain accuracy=1.000\ttest accuracy=0.938\n",
      "epoch=90\ttrain loss=0.001156\ttrain accuracy=1.000\ttest accuracy=0.938\n",
      "epoch=91\ttrain loss=0.001260\ttrain accuracy=1.000\ttest accuracy=0.938\n",
      "epoch=92\ttrain loss=0.000395\ttrain accuracy=1.000\ttest accuracy=0.938\n",
      "epoch=93\ttrain loss=0.001156\ttrain accuracy=1.000\ttest accuracy=0.938\n",
      "epoch=94\ttrain loss=0.000467\ttrain accuracy=1.000\ttest accuracy=0.938\n",
      "epoch=95\ttrain loss=0.000435\ttrain accuracy=1.000\ttest accuracy=0.938\n",
      "epoch=96\ttrain loss=0.010169\ttrain accuracy=1.000\ttest accuracy=0.938\n",
      "epoch=97\ttrain loss=0.002875\ttrain accuracy=1.000\ttest accuracy=0.938\n",
      "epoch=98\ttrain loss=0.001536\ttrain accuracy=1.000\ttest accuracy=0.938\n",
      "epoch=99\ttrain loss=0.000232\ttrain accuracy=1.000\ttest accuracy=1.000\n",
      "epoch=100\ttrain loss=0.001322\ttrain accuracy=1.000\ttest accuracy=1.000\n",
      "epoch=101\ttrain loss=0.001719\ttrain accuracy=1.000\ttest accuracy=1.000\n",
      "epoch=102\ttrain loss=0.065608\ttrain accuracy=0.968\ttest accuracy=1.000\n",
      "epoch=103\ttrain loss=0.002764\ttrain accuracy=1.000\ttest accuracy=1.000\n",
      "epoch=104\ttrain loss=0.013213\ttrain accuracy=1.000\ttest accuracy=0.938\n",
      "epoch=105\ttrain loss=0.064654\ttrain accuracy=0.984\ttest accuracy=1.000\n",
      "epoch=106\ttrain loss=0.000741\ttrain accuracy=1.000\ttest accuracy=1.000\n",
      "epoch=107\ttrain loss=0.000938\ttrain accuracy=1.000\ttest accuracy=1.000\n",
      "epoch=108\ttrain loss=0.050623\ttrain accuracy=0.968\ttest accuracy=0.938\n",
      "epoch=109\ttrain loss=0.019940\ttrain accuracy=1.000\ttest accuracy=1.000\n",
      "epoch=110\ttrain loss=0.032036\ttrain accuracy=0.984\ttest accuracy=0.938\n",
      "epoch=111\ttrain loss=0.089085\ttrain accuracy=0.968\ttest accuracy=0.938\n",
      "epoch=112\ttrain loss=0.015544\ttrain accuracy=0.984\ttest accuracy=0.938\n",
      "epoch=113\ttrain loss=0.129973\ttrain accuracy=0.984\ttest accuracy=1.000\n",
      "epoch=114\ttrain loss=0.028741\ttrain accuracy=0.984\ttest accuracy=1.000\n",
      "epoch=115\ttrain loss=0.024175\ttrain accuracy=0.984\ttest accuracy=1.000\n",
      "epoch=116\ttrain loss=0.002036\ttrain accuracy=1.000\ttest accuracy=1.000\n",
      "epoch=117\ttrain loss=0.010040\ttrain accuracy=1.000\ttest accuracy=1.000\n",
      "epoch=118\ttrain loss=0.001440\ttrain accuracy=1.000\ttest accuracy=1.000\n",
      "epoch=119\ttrain loss=0.002946\ttrain accuracy=1.000\ttest accuracy=1.000\n",
      "epoch=120\ttrain loss=0.006197\ttrain accuracy=1.000\ttest accuracy=1.000\n",
      "epoch=121\ttrain loss=0.000953\ttrain accuracy=1.000\ttest accuracy=1.000\n",
      "epoch=122\ttrain loss=0.003212\ttrain accuracy=1.000\ttest accuracy=1.000\n",
      "epoch=123\ttrain loss=0.002332\ttrain accuracy=1.000\ttest accuracy=1.000\n",
      "epoch=124\ttrain loss=0.005680\ttrain accuracy=1.000\ttest accuracy=1.000\n",
      "epoch=125\ttrain loss=0.019275\ttrain accuracy=0.984\ttest accuracy=1.000\n",
      "epoch=126\ttrain loss=0.000501\ttrain accuracy=1.000\ttest accuracy=1.000\n",
      "epoch=127\ttrain loss=0.001325\ttrain accuracy=1.000\ttest accuracy=1.000\n",
      "epoch=128\ttrain loss=0.000236\ttrain accuracy=1.000\ttest accuracy=1.000\n",
      "epoch=129\ttrain loss=0.000547\ttrain accuracy=1.000\ttest accuracy=1.000\n",
      "epoch=130\ttrain loss=0.045210\ttrain accuracy=0.968\ttest accuracy=1.000\n",
      "epoch=131\ttrain loss=0.003462\ttrain accuracy=1.000\ttest accuracy=1.000\n",
      "epoch=132\ttrain loss=0.005129\ttrain accuracy=1.000\ttest accuracy=0.938\n",
      "epoch=133\ttrain loss=0.001627\ttrain accuracy=1.000\ttest accuracy=0.938\n",
      "epoch=134\ttrain loss=0.000520\ttrain accuracy=1.000\ttest accuracy=0.938\n",
      "epoch=135\ttrain loss=0.014919\ttrain accuracy=1.000\ttest accuracy=0.938\n",
      "epoch=136\ttrain loss=0.007153\ttrain accuracy=1.000\ttest accuracy=0.938\n",
      "epoch=137\ttrain loss=0.008545\ttrain accuracy=1.000\ttest accuracy=0.938\n",
      "epoch=138\ttrain loss=0.001392\ttrain accuracy=1.000\ttest accuracy=0.938\n",
      "epoch=139\ttrain loss=0.006884\ttrain accuracy=1.000\ttest accuracy=0.938\n",
      "epoch=140\ttrain loss=0.000198\ttrain accuracy=1.000\ttest accuracy=1.000\n",
      "epoch=141\ttrain loss=0.000798\ttrain accuracy=1.000\ttest accuracy=0.938\n",
      "epoch=142\ttrain loss=0.001788\ttrain accuracy=1.000\ttest accuracy=1.000\n",
      "epoch=143\ttrain loss=0.000692\ttrain accuracy=1.000\ttest accuracy=1.000\n",
      "epoch=144\ttrain loss=0.000994\ttrain accuracy=1.000\ttest accuracy=1.000\n",
      "epoch=145\ttrain loss=0.009944\ttrain accuracy=1.000\ttest accuracy=0.938\n",
      "epoch=146\ttrain loss=0.000410\ttrain accuracy=1.000\ttest accuracy=1.000\n",
      "epoch=147\ttrain loss=0.002312\ttrain accuracy=1.000\ttest accuracy=1.000\n",
      "epoch=148\ttrain loss=0.007928\ttrain accuracy=1.000\ttest accuracy=1.000\n",
      "epoch=149\ttrain loss=0.001992\ttrain accuracy=1.000\ttest accuracy=1.000\n",
      "epoch=150\ttrain loss=0.001054\ttrain accuracy=1.000\ttest accuracy=1.000\n",
      "epoch=151\ttrain loss=0.000565\ttrain accuracy=1.000\ttest accuracy=1.000\n",
      "epoch=152\ttrain loss=0.000432\ttrain accuracy=1.000\ttest accuracy=1.000\n",
      "epoch=153\ttrain loss=0.008823\ttrain accuracy=1.000\ttest accuracy=1.000\n",
      "epoch=154\ttrain loss=0.000805\ttrain accuracy=1.000\ttest accuracy=1.000\n",
      "epoch=155\ttrain loss=0.002188\ttrain accuracy=1.000\ttest accuracy=1.000\n",
      "epoch=156\ttrain loss=0.000581\ttrain accuracy=1.000\ttest accuracy=1.000\n",
      "epoch=157\ttrain loss=0.000137\ttrain accuracy=1.000\ttest accuracy=1.000\n",
      "epoch=158\ttrain loss=0.001156\ttrain accuracy=1.000\ttest accuracy=1.000\n",
      "epoch=159\ttrain loss=0.000707\ttrain accuracy=1.000\ttest accuracy=1.000\n",
      "epoch=160\ttrain loss=0.000129\ttrain accuracy=1.000\ttest accuracy=1.000\n",
      "epoch=161\ttrain loss=0.000215\ttrain accuracy=1.000\ttest accuracy=1.000\n",
      "epoch=162\ttrain loss=0.000079\ttrain accuracy=1.000\ttest accuracy=1.000\n",
      "epoch=163\ttrain loss=0.000345\ttrain accuracy=1.000\ttest accuracy=1.000\n",
      "epoch=164\ttrain loss=0.000271\ttrain accuracy=1.000\ttest accuracy=1.000\n",
      "epoch=165\ttrain loss=0.000333\ttrain accuracy=1.000\ttest accuracy=1.000\n",
      "epoch=166\ttrain loss=0.000101\ttrain accuracy=1.000\ttest accuracy=1.000\n",
      "epoch=167\ttrain loss=0.000252\ttrain accuracy=1.000\ttest accuracy=1.000\n",
      "epoch=168\ttrain loss=0.000157\ttrain accuracy=1.000\ttest accuracy=1.000\n",
      "epoch=169\ttrain loss=0.000156\ttrain accuracy=1.000\ttest accuracy=1.000\n",
      "epoch=170\ttrain loss=0.000143\ttrain accuracy=1.000\ttest accuracy=1.000\n",
      "epoch=171\ttrain loss=0.002797\ttrain accuracy=1.000\ttest accuracy=1.000\n",
      "epoch=172\ttrain loss=0.000145\ttrain accuracy=1.000\ttest accuracy=1.000\n",
      "epoch=173\ttrain loss=0.000162\ttrain accuracy=1.000\ttest accuracy=1.000\n",
      "epoch=174\ttrain loss=0.000622\ttrain accuracy=1.000\ttest accuracy=1.000\n",
      "epoch=175\ttrain loss=0.000135\ttrain accuracy=1.000\ttest accuracy=1.000\n",
      "epoch=176\ttrain loss=0.000140\ttrain accuracy=1.000\ttest accuracy=1.000\n",
      "epoch=177\ttrain loss=0.000183\ttrain accuracy=1.000\ttest accuracy=1.000\n",
      "epoch=178\ttrain loss=0.000071\ttrain accuracy=1.000\ttest accuracy=1.000\n",
      "epoch=179\ttrain loss=0.001008\ttrain accuracy=1.000\ttest accuracy=1.000\n",
      "epoch=180\ttrain loss=0.000306\ttrain accuracy=1.000\ttest accuracy=1.000\n",
      "epoch=181\ttrain loss=0.000173\ttrain accuracy=1.000\ttest accuracy=1.000\n",
      "epoch=182\ttrain loss=0.000779\ttrain accuracy=1.000\ttest accuracy=1.000\n",
      "epoch=183\ttrain loss=0.000160\ttrain accuracy=1.000\ttest accuracy=0.938\n",
      "epoch=184\ttrain loss=0.000180\ttrain accuracy=1.000\ttest accuracy=0.938\n",
      "epoch=185\ttrain loss=0.000250\ttrain accuracy=1.000\ttest accuracy=0.938\n",
      "epoch=186\ttrain loss=0.000587\ttrain accuracy=1.000\ttest accuracy=0.938\n",
      "epoch=187\ttrain loss=0.005658\ttrain accuracy=1.000\ttest accuracy=0.938\n",
      "epoch=188\ttrain loss=0.000311\ttrain accuracy=1.000\ttest accuracy=0.938\n",
      "epoch=189\ttrain loss=0.001602\ttrain accuracy=1.000\ttest accuracy=1.000\n",
      "epoch=190\ttrain loss=0.005525\ttrain accuracy=1.000\ttest accuracy=0.938\n",
      "epoch=191\ttrain loss=0.012570\ttrain accuracy=1.000\ttest accuracy=0.938\n",
      "epoch=192\ttrain loss=0.002254\ttrain accuracy=1.000\ttest accuracy=1.000\n",
      "epoch=193\ttrain loss=0.003787\ttrain accuracy=1.000\ttest accuracy=0.938\n",
      "epoch=194\ttrain loss=0.007179\ttrain accuracy=1.000\ttest accuracy=0.938\n",
      "epoch=195\ttrain loss=0.005358\ttrain accuracy=1.000\ttest accuracy=1.000\n",
      "epoch=196\ttrain loss=0.004126\ttrain accuracy=1.000\ttest accuracy=1.000\n",
      "epoch=197\ttrain loss=0.008995\ttrain accuracy=1.000\ttest accuracy=1.000\n",
      "epoch=198\ttrain loss=0.000608\ttrain accuracy=1.000\ttest accuracy=0.938\n",
      "epoch=199\ttrain loss=0.000163\ttrain accuracy=1.000\ttest accuracy=0.938\n",
      "epoch=200\ttrain loss=0.000486\ttrain accuracy=1.000\ttest accuracy=0.938\n",
      "epoch=201\ttrain loss=0.000319\ttrain accuracy=1.000\ttest accuracy=0.938\n",
      "epoch=202\ttrain loss=0.008872\ttrain accuracy=1.000\ttest accuracy=0.938\n",
      "epoch=203\ttrain loss=0.000209\ttrain accuracy=1.000\ttest accuracy=0.938\n",
      "epoch=204\ttrain loss=0.001137\ttrain accuracy=1.000\ttest accuracy=1.000\n",
      "epoch=205\ttrain loss=0.001486\ttrain accuracy=1.000\ttest accuracy=0.938\n",
      "epoch=206\ttrain loss=0.013083\ttrain accuracy=1.000\ttest accuracy=0.938\n",
      "epoch=207\ttrain loss=0.000379\ttrain accuracy=1.000\ttest accuracy=0.938\n",
      "epoch=208\ttrain loss=0.000790\ttrain accuracy=1.000\ttest accuracy=0.938\n",
      "epoch=209\ttrain loss=0.001255\ttrain accuracy=1.000\ttest accuracy=1.000\n",
      "epoch=210\ttrain loss=0.000584\ttrain accuracy=1.000\ttest accuracy=1.000\n",
      "epoch=211\ttrain loss=0.000546\ttrain accuracy=1.000\ttest accuracy=1.000\n",
      "epoch=212\ttrain loss=0.000453\ttrain accuracy=1.000\ttest accuracy=1.000\n",
      "epoch=213\ttrain loss=0.003022\ttrain accuracy=1.000\ttest accuracy=1.000\n",
      "epoch=214\ttrain loss=0.001988\ttrain accuracy=1.000\ttest accuracy=1.000\n",
      "epoch=215\ttrain loss=0.002989\ttrain accuracy=1.000\ttest accuracy=1.000\n",
      "epoch=216\ttrain loss=0.001286\ttrain accuracy=1.000\ttest accuracy=1.000\n",
      "epoch=217\ttrain loss=0.000077\ttrain accuracy=1.000\ttest accuracy=1.000\n",
      "epoch=218\ttrain loss=0.001473\ttrain accuracy=1.000\ttest accuracy=1.000\n",
      "epoch=219\ttrain loss=0.000371\ttrain accuracy=1.000\ttest accuracy=1.000\n",
      "epoch=220\ttrain loss=0.000110\ttrain accuracy=1.000\ttest accuracy=1.000\n",
      "epoch=221\ttrain loss=0.000173\ttrain accuracy=1.000\ttest accuracy=1.000\n",
      "epoch=222\ttrain loss=0.001034\ttrain accuracy=1.000\ttest accuracy=1.000\n",
      "epoch=223\ttrain loss=0.000926\ttrain accuracy=1.000\ttest accuracy=1.000\n",
      "epoch=224\ttrain loss=0.000374\ttrain accuracy=1.000\ttest accuracy=1.000\n",
      "epoch=225\ttrain loss=0.000054\ttrain accuracy=1.000\ttest accuracy=1.000\n",
      "epoch=226\ttrain loss=0.000277\ttrain accuracy=1.000\ttest accuracy=1.000\n",
      "epoch=227\ttrain loss=0.002777\ttrain accuracy=1.000\ttest accuracy=1.000\n",
      "epoch=228\ttrain loss=0.000076\ttrain accuracy=1.000\ttest accuracy=1.000\n",
      "epoch=229\ttrain loss=0.000975\ttrain accuracy=1.000\ttest accuracy=1.000\n",
      "epoch=230\ttrain loss=0.000806\ttrain accuracy=1.000\ttest accuracy=1.000\n",
      "epoch=231\ttrain loss=0.000214\ttrain accuracy=1.000\ttest accuracy=1.000\n",
      "epoch=232\ttrain loss=0.000122\ttrain accuracy=1.000\ttest accuracy=1.000\n",
      "epoch=233\ttrain loss=0.000109\ttrain accuracy=1.000\ttest accuracy=1.000\n",
      "epoch=234\ttrain loss=0.000285\ttrain accuracy=1.000\ttest accuracy=1.000\n",
      "epoch=235\ttrain loss=0.000056\ttrain accuracy=1.000\ttest accuracy=1.000\n",
      "epoch=236\ttrain loss=0.000285\ttrain accuracy=1.000\ttest accuracy=1.000\n",
      "epoch=237\ttrain loss=0.000116\ttrain accuracy=1.000\ttest accuracy=1.000\n",
      "epoch=238\ttrain loss=0.000109\ttrain accuracy=1.000\ttest accuracy=1.000\n",
      "epoch=239\ttrain loss=0.000065\ttrain accuracy=1.000\ttest accuracy=1.000\n",
      "epoch=240\ttrain loss=0.000262\ttrain accuracy=1.000\ttest accuracy=1.000\n",
      "epoch=241\ttrain loss=0.000808\ttrain accuracy=1.000\ttest accuracy=1.000\n",
      "epoch=242\ttrain loss=0.000552\ttrain accuracy=1.000\ttest accuracy=1.000\n",
      "epoch=243\ttrain loss=0.000055\ttrain accuracy=1.000\ttest accuracy=1.000\n",
      "epoch=244\ttrain loss=0.000118\ttrain accuracy=1.000\ttest accuracy=1.000\n",
      "epoch=245\ttrain loss=0.000104\ttrain accuracy=1.000\ttest accuracy=1.000\n",
      "epoch=246\ttrain loss=0.000161\ttrain accuracy=1.000\ttest accuracy=1.000\n",
      "epoch=247\ttrain loss=0.000404\ttrain accuracy=1.000\ttest accuracy=1.000\n",
      "epoch=248\ttrain loss=0.000220\ttrain accuracy=1.000\ttest accuracy=1.000\n",
      "epoch=249\ttrain loss=0.000079\ttrain accuracy=1.000\ttest accuracy=1.000\n",
      "epoch=250\ttrain loss=0.000646\ttrain accuracy=1.000\ttest accuracy=1.000\n",
      "epoch=251\ttrain loss=0.000070\ttrain accuracy=1.000\ttest accuracy=1.000\n",
      "epoch=252\ttrain loss=0.000068\ttrain accuracy=1.000\ttest accuracy=1.000\n",
      "epoch=253\ttrain loss=0.000180\ttrain accuracy=1.000\ttest accuracy=1.000\n",
      "epoch=254\ttrain loss=0.000211\ttrain accuracy=1.000\ttest accuracy=1.000\n",
      "epoch=255\ttrain loss=0.003263\ttrain accuracy=1.000\ttest accuracy=0.938\n",
      "epoch=256\ttrain loss=0.002116\ttrain accuracy=1.000\ttest accuracy=1.000\n",
      "epoch=257\ttrain loss=0.000293\ttrain accuracy=1.000\ttest accuracy=1.000\n",
      "epoch=258\ttrain loss=0.000512\ttrain accuracy=1.000\ttest accuracy=1.000\n",
      "epoch=259\ttrain loss=0.001804\ttrain accuracy=1.000\ttest accuracy=1.000\n",
      "epoch=260\ttrain loss=0.000337\ttrain accuracy=1.000\ttest accuracy=1.000\n",
      "epoch=261\ttrain loss=0.000397\ttrain accuracy=1.000\ttest accuracy=1.000\n",
      "epoch=262\ttrain loss=0.000412\ttrain accuracy=1.000\ttest accuracy=1.000\n",
      "epoch=263\ttrain loss=0.000504\ttrain accuracy=1.000\ttest accuracy=1.000\n",
      "epoch=264\ttrain loss=0.000134\ttrain accuracy=1.000\ttest accuracy=1.000\n",
      "epoch=265\ttrain loss=0.000151\ttrain accuracy=1.000\ttest accuracy=1.000\n",
      "epoch=266\ttrain loss=0.000168\ttrain accuracy=1.000\ttest accuracy=1.000\n",
      "epoch=267\ttrain loss=0.000332\ttrain accuracy=1.000\ttest accuracy=1.000\n",
      "epoch=268\ttrain loss=0.000163\ttrain accuracy=1.000\ttest accuracy=1.000\n",
      "epoch=269\ttrain loss=0.000052\ttrain accuracy=1.000\ttest accuracy=1.000\n",
      "epoch=270\ttrain loss=0.000072\ttrain accuracy=1.000\ttest accuracy=1.000\n",
      "epoch=271\ttrain loss=0.000333\ttrain accuracy=1.000\ttest accuracy=1.000\n",
      "epoch=272\ttrain loss=0.000088\ttrain accuracy=1.000\ttest accuracy=1.000\n",
      "epoch=273\ttrain loss=0.000350\ttrain accuracy=1.000\ttest accuracy=1.000\n",
      "epoch=274\ttrain loss=0.000189\ttrain accuracy=1.000\ttest accuracy=1.000\n",
      "epoch=275\ttrain loss=0.000033\ttrain accuracy=1.000\ttest accuracy=1.000\n",
      "epoch=276\ttrain loss=0.000171\ttrain accuracy=1.000\ttest accuracy=1.000\n",
      "epoch=277\ttrain loss=0.000138\ttrain accuracy=1.000\ttest accuracy=1.000\n",
      "epoch=278\ttrain loss=0.000074\ttrain accuracy=1.000\ttest accuracy=1.000\n",
      "epoch=279\ttrain loss=0.000261\ttrain accuracy=1.000\ttest accuracy=1.000\n",
      "epoch=280\ttrain loss=0.000051\ttrain accuracy=1.000\ttest accuracy=1.000\n",
      "epoch=281\ttrain loss=0.000032\ttrain accuracy=1.000\ttest accuracy=1.000\n",
      "epoch=282\ttrain loss=0.000624\ttrain accuracy=1.000\ttest accuracy=1.000\n",
      "epoch=283\ttrain loss=0.000110\ttrain accuracy=1.000\ttest accuracy=1.000\n",
      "epoch=284\ttrain loss=0.003674\ttrain accuracy=1.000\ttest accuracy=1.000\n",
      "epoch=285\ttrain loss=0.000408\ttrain accuracy=1.000\ttest accuracy=0.938\n",
      "epoch=286\ttrain loss=0.000743\ttrain accuracy=1.000\ttest accuracy=0.938\n",
      "epoch=287\ttrain loss=0.000408\ttrain accuracy=1.000\ttest accuracy=0.938\n",
      "epoch=288\ttrain loss=0.001508\ttrain accuracy=1.000\ttest accuracy=0.938\n",
      "epoch=289\ttrain loss=0.000453\ttrain accuracy=1.000\ttest accuracy=1.000\n",
      "epoch=290\ttrain loss=0.000109\ttrain accuracy=1.000\ttest accuracy=1.000\n",
      "epoch=291\ttrain loss=0.000309\ttrain accuracy=1.000\ttest accuracy=1.000\n",
      "epoch=292\ttrain loss=0.000582\ttrain accuracy=1.000\ttest accuracy=0.938\n",
      "epoch=293\ttrain loss=0.000118\ttrain accuracy=1.000\ttest accuracy=1.000\n",
      "epoch=294\ttrain loss=0.000089\ttrain accuracy=1.000\ttest accuracy=1.000\n",
      "epoch=295\ttrain loss=0.000394\ttrain accuracy=1.000\ttest accuracy=1.000\n",
      "epoch=296\ttrain loss=0.000190\ttrain accuracy=1.000\ttest accuracy=1.000\n",
      "epoch=297\ttrain loss=0.000598\ttrain accuracy=1.000\ttest accuracy=1.000\n",
      "epoch=298\ttrain loss=0.000102\ttrain accuracy=1.000\ttest accuracy=1.000\n",
      "epoch=299\ttrain loss=0.001883\ttrain accuracy=1.000\ttest accuracy=1.000\n",
      "epoch=300\ttrain loss=0.001972\ttrain accuracy=1.000\ttest accuracy=0.938\n",
      "epoch=301\ttrain loss=0.045233\ttrain accuracy=0.984\ttest accuracy=0.938\n",
      "epoch=302\ttrain loss=0.070448\ttrain accuracy=0.968\ttest accuracy=0.875\n",
      "epoch=303\ttrain loss=0.085719\ttrain accuracy=0.984\ttest accuracy=1.000\n",
      "epoch=304\ttrain loss=0.043108\ttrain accuracy=0.984\ttest accuracy=1.000\n",
      "epoch=305\ttrain loss=0.015197\ttrain accuracy=1.000\ttest accuracy=0.938\n",
      "epoch=306\ttrain loss=0.081678\ttrain accuracy=0.984\ttest accuracy=0.938\n",
      "epoch=307\ttrain loss=0.023866\ttrain accuracy=1.000\ttest accuracy=0.875\n",
      "epoch=308\ttrain loss=0.120736\ttrain accuracy=0.984\ttest accuracy=0.875\n",
      "epoch=309\ttrain loss=0.020558\ttrain accuracy=0.984\ttest accuracy=1.000\n",
      "epoch=310\ttrain loss=0.127584\ttrain accuracy=0.984\ttest accuracy=1.000\n",
      "epoch=311\ttrain loss=0.006626\ttrain accuracy=1.000\ttest accuracy=0.938\n",
      "epoch=312\ttrain loss=0.014371\ttrain accuracy=1.000\ttest accuracy=0.938\n",
      "epoch=313\ttrain loss=0.003719\ttrain accuracy=1.000\ttest accuracy=0.938\n",
      "epoch=314\ttrain loss=0.014381\ttrain accuracy=1.000\ttest accuracy=0.938\n",
      "epoch=315\ttrain loss=0.003666\ttrain accuracy=1.000\ttest accuracy=0.938\n",
      "epoch=316\ttrain loss=0.009383\ttrain accuracy=1.000\ttest accuracy=0.938\n",
      "epoch=317\ttrain loss=0.014090\ttrain accuracy=1.000\ttest accuracy=0.938\n",
      "epoch=318\ttrain loss=0.002379\ttrain accuracy=1.000\ttest accuracy=0.938\n",
      "epoch=319\ttrain loss=0.001069\ttrain accuracy=1.000\ttest accuracy=0.938\n",
      "epoch=320\ttrain loss=0.005625\ttrain accuracy=1.000\ttest accuracy=0.938\n",
      "epoch=321\ttrain loss=0.002958\ttrain accuracy=1.000\ttest accuracy=0.938\n",
      "epoch=322\ttrain loss=0.000526\ttrain accuracy=1.000\ttest accuracy=0.938\n",
      "epoch=323\ttrain loss=0.000808\ttrain accuracy=1.000\ttest accuracy=0.938\n",
      "epoch=324\ttrain loss=0.000793\ttrain accuracy=1.000\ttest accuracy=0.938\n",
      "epoch=325\ttrain loss=0.000358\ttrain accuracy=1.000\ttest accuracy=0.938\n",
      "epoch=326\ttrain loss=0.002442\ttrain accuracy=1.000\ttest accuracy=0.938\n",
      "epoch=327\ttrain loss=0.001602\ttrain accuracy=1.000\ttest accuracy=0.938\n",
      "epoch=328\ttrain loss=0.000362\ttrain accuracy=1.000\ttest accuracy=1.000\n",
      "epoch=329\ttrain loss=0.002074\ttrain accuracy=1.000\ttest accuracy=1.000\n",
      "epoch=330\ttrain loss=0.000390\ttrain accuracy=1.000\ttest accuracy=1.000\n",
      "epoch=331\ttrain loss=0.000397\ttrain accuracy=1.000\ttest accuracy=1.000\n",
      "epoch=332\ttrain loss=0.000806\ttrain accuracy=1.000\ttest accuracy=1.000\n",
      "epoch=333\ttrain loss=0.103444\ttrain accuracy=0.984\ttest accuracy=1.000\n",
      "epoch=334\ttrain loss=0.027491\ttrain accuracy=0.984\ttest accuracy=1.000\n",
      "epoch=335\ttrain loss=0.006651\ttrain accuracy=1.000\ttest accuracy=0.875\n",
      "epoch=336\ttrain loss=0.340734\ttrain accuracy=0.952\ttest accuracy=0.875\n",
      "epoch=337\ttrain loss=0.012649\ttrain accuracy=1.000\ttest accuracy=0.938\n",
      "epoch=338\ttrain loss=0.026103\ttrain accuracy=1.000\ttest accuracy=0.938\n",
      "epoch=339\ttrain loss=0.013731\ttrain accuracy=1.000\ttest accuracy=0.938\n",
      "epoch=340\ttrain loss=0.001438\ttrain accuracy=1.000\ttest accuracy=0.938\n",
      "epoch=341\ttrain loss=0.008805\ttrain accuracy=1.000\ttest accuracy=0.938\n",
      "epoch=342\ttrain loss=0.009105\ttrain accuracy=1.000\ttest accuracy=0.938\n",
      "epoch=343\ttrain loss=0.000482\ttrain accuracy=1.000\ttest accuracy=0.938\n",
      "epoch=344\ttrain loss=0.003347\ttrain accuracy=1.000\ttest accuracy=0.938\n",
      "epoch=345\ttrain loss=0.001205\ttrain accuracy=1.000\ttest accuracy=0.938\n",
      "epoch=346\ttrain loss=0.001433\ttrain accuracy=1.000\ttest accuracy=0.938\n",
      "epoch=347\ttrain loss=0.053604\ttrain accuracy=0.984\ttest accuracy=0.938\n",
      "epoch=348\ttrain loss=0.000761\ttrain accuracy=1.000\ttest accuracy=0.938\n",
      "epoch=349\ttrain loss=0.013553\ttrain accuracy=1.000\ttest accuracy=0.938\n",
      "epoch=350\ttrain loss=0.006667\ttrain accuracy=1.000\ttest accuracy=0.938\n",
      "epoch=351\ttrain loss=0.023860\ttrain accuracy=0.984\ttest accuracy=0.938\n",
      "epoch=352\ttrain loss=0.001482\ttrain accuracy=1.000\ttest accuracy=1.000\n",
      "epoch=353\ttrain loss=0.010565\ttrain accuracy=1.000\ttest accuracy=1.000\n",
      "epoch=354\ttrain loss=0.002960\ttrain accuracy=1.000\ttest accuracy=1.000\n",
      "epoch=355\ttrain loss=0.002288\ttrain accuracy=1.000\ttest accuracy=1.000\n",
      "epoch=356\ttrain loss=0.000694\ttrain accuracy=1.000\ttest accuracy=1.000\n",
      "epoch=357\ttrain loss=0.002617\ttrain accuracy=1.000\ttest accuracy=1.000\n",
      "epoch=358\ttrain loss=0.012367\ttrain accuracy=1.000\ttest accuracy=1.000\n",
      "epoch=359\ttrain loss=0.001970\ttrain accuracy=1.000\ttest accuracy=1.000\n",
      "epoch=360\ttrain loss=0.001665\ttrain accuracy=1.000\ttest accuracy=1.000\n",
      "epoch=361\ttrain loss=0.000759\ttrain accuracy=1.000\ttest accuracy=1.000\n",
      "epoch=362\ttrain loss=0.000510\ttrain accuracy=1.000\ttest accuracy=1.000\n",
      "epoch=363\ttrain loss=0.000882\ttrain accuracy=1.000\ttest accuracy=1.000\n",
      "epoch=364\ttrain loss=0.003896\ttrain accuracy=1.000\ttest accuracy=1.000\n",
      "epoch=365\ttrain loss=0.003906\ttrain accuracy=1.000\ttest accuracy=1.000\n",
      "epoch=366\ttrain loss=0.011556\ttrain accuracy=1.000\ttest accuracy=1.000\n",
      "epoch=367\ttrain loss=0.000755\ttrain accuracy=1.000\ttest accuracy=1.000\n",
      "epoch=368\ttrain loss=0.001418\ttrain accuracy=1.000\ttest accuracy=1.000\n",
      "epoch=369\ttrain loss=0.002799\ttrain accuracy=1.000\ttest accuracy=1.000\n",
      "epoch=370\ttrain loss=0.007672\ttrain accuracy=1.000\ttest accuracy=0.938\n",
      "epoch=371\ttrain loss=0.000228\ttrain accuracy=1.000\ttest accuracy=0.938\n",
      "epoch=372\ttrain loss=0.000482\ttrain accuracy=1.000\ttest accuracy=0.938\n",
      "epoch=373\ttrain loss=0.004452\ttrain accuracy=1.000\ttest accuracy=0.938\n",
      "epoch=374\ttrain loss=0.000952\ttrain accuracy=1.000\ttest accuracy=0.938\n",
      "epoch=375\ttrain loss=0.000426\ttrain accuracy=1.000\ttest accuracy=0.938\n",
      "epoch=376\ttrain loss=0.000897\ttrain accuracy=1.000\ttest accuracy=0.938\n",
      "epoch=377\ttrain loss=0.000403\ttrain accuracy=1.000\ttest accuracy=0.938\n",
      "epoch=378\ttrain loss=0.003013\ttrain accuracy=1.000\ttest accuracy=0.938\n",
      "epoch=379\ttrain loss=0.002445\ttrain accuracy=1.000\ttest accuracy=0.938\n",
      "epoch=380\ttrain loss=0.000218\ttrain accuracy=1.000\ttest accuracy=0.938\n",
      "epoch=381\ttrain loss=0.000900\ttrain accuracy=1.000\ttest accuracy=0.938\n",
      "epoch=382\ttrain loss=0.000145\ttrain accuracy=1.000\ttest accuracy=0.938\n",
      "epoch=383\ttrain loss=0.000166\ttrain accuracy=1.000\ttest accuracy=0.938\n",
      "epoch=384\ttrain loss=0.001925\ttrain accuracy=1.000\ttest accuracy=1.000\n",
      "epoch=385\ttrain loss=0.000720\ttrain accuracy=1.000\ttest accuracy=0.938\n",
      "epoch=386\ttrain loss=0.000984\ttrain accuracy=1.000\ttest accuracy=0.938\n",
      "epoch=387\ttrain loss=0.000270\ttrain accuracy=1.000\ttest accuracy=0.938\n",
      "epoch=388\ttrain loss=0.003040\ttrain accuracy=1.000\ttest accuracy=0.938\n",
      "epoch=389\ttrain loss=0.000402\ttrain accuracy=1.000\ttest accuracy=1.000\n",
      "epoch=390\ttrain loss=0.000208\ttrain accuracy=1.000\ttest accuracy=1.000\n",
      "epoch=391\ttrain loss=0.000471\ttrain accuracy=1.000\ttest accuracy=1.000\n",
      "epoch=392\ttrain loss=0.000140\ttrain accuracy=1.000\ttest accuracy=1.000\n",
      "epoch=393\ttrain loss=0.000288\ttrain accuracy=1.000\ttest accuracy=1.000\n",
      "epoch=394\ttrain loss=0.000242\ttrain accuracy=1.000\ttest accuracy=1.000\n",
      "epoch=395\ttrain loss=0.055022\ttrain accuracy=0.984\ttest accuracy=1.000\n",
      "epoch=396\ttrain loss=0.000838\ttrain accuracy=1.000\ttest accuracy=1.000\n",
      "epoch=397\ttrain loss=0.002381\ttrain accuracy=1.000\ttest accuracy=1.000\n",
      "epoch=398\ttrain loss=0.001948\ttrain accuracy=1.000\ttest accuracy=0.938\n",
      "epoch=399\ttrain loss=0.000227\ttrain accuracy=1.000\ttest accuracy=0.938\n",
      "epoch=400\ttrain loss=0.006742\ttrain accuracy=1.000\ttest accuracy=0.938\n",
      "epoch=401\ttrain loss=0.000474\ttrain accuracy=1.000\ttest accuracy=0.938\n",
      "epoch=402\ttrain loss=0.000991\ttrain accuracy=1.000\ttest accuracy=0.938\n",
      "epoch=403\ttrain loss=0.004003\ttrain accuracy=1.000\ttest accuracy=0.938\n",
      "epoch=404\ttrain loss=0.003940\ttrain accuracy=1.000\ttest accuracy=0.938\n",
      "epoch=405\ttrain loss=0.000614\ttrain accuracy=1.000\ttest accuracy=0.938\n",
      "epoch=406\ttrain loss=0.001160\ttrain accuracy=1.000\ttest accuracy=0.938\n",
      "epoch=407\ttrain loss=0.002125\ttrain accuracy=1.000\ttest accuracy=0.938\n",
      "epoch=408\ttrain loss=0.010194\ttrain accuracy=1.000\ttest accuracy=0.938\n",
      "epoch=409\ttrain loss=0.000287\ttrain accuracy=1.000\ttest accuracy=0.938\n",
      "epoch=410\ttrain loss=0.000526\ttrain accuracy=1.000\ttest accuracy=0.938\n",
      "epoch=411\ttrain loss=0.001623\ttrain accuracy=1.000\ttest accuracy=0.938\n",
      "epoch=412\ttrain loss=0.000619\ttrain accuracy=1.000\ttest accuracy=0.938\n",
      "epoch=413\ttrain loss=0.000725\ttrain accuracy=1.000\ttest accuracy=0.938\n",
      "epoch=414\ttrain loss=0.000280\ttrain accuracy=1.000\ttest accuracy=0.938\n",
      "epoch=415\ttrain loss=0.000970\ttrain accuracy=1.000\ttest accuracy=0.938\n",
      "epoch=416\ttrain loss=0.000947\ttrain accuracy=1.000\ttest accuracy=0.938\n",
      "epoch=417\ttrain loss=0.001777\ttrain accuracy=1.000\ttest accuracy=0.938\n",
      "epoch=418\ttrain loss=0.000920\ttrain accuracy=1.000\ttest accuracy=0.938\n",
      "epoch=419\ttrain loss=0.004851\ttrain accuracy=1.000\ttest accuracy=0.938\n",
      "epoch=420\ttrain loss=0.004249\ttrain accuracy=1.000\ttest accuracy=0.938\n",
      "epoch=421\ttrain loss=0.000500\ttrain accuracy=1.000\ttest accuracy=0.938\n",
      "epoch=422\ttrain loss=0.000739\ttrain accuracy=1.000\ttest accuracy=0.938\n",
      "epoch=423\ttrain loss=0.000529\ttrain accuracy=1.000\ttest accuracy=0.938\n",
      "epoch=424\ttrain loss=0.004255\ttrain accuracy=1.000\ttest accuracy=0.938\n",
      "epoch=425\ttrain loss=0.000466\ttrain accuracy=1.000\ttest accuracy=0.938\n",
      "epoch=426\ttrain loss=0.000513\ttrain accuracy=1.000\ttest accuracy=0.938\n",
      "epoch=427\ttrain loss=0.000457\ttrain accuracy=1.000\ttest accuracy=0.938\n",
      "epoch=428\ttrain loss=0.000131\ttrain accuracy=1.000\ttest accuracy=0.938\n",
      "epoch=429\ttrain loss=0.001147\ttrain accuracy=1.000\ttest accuracy=0.938\n",
      "epoch=430\ttrain loss=0.000376\ttrain accuracy=1.000\ttest accuracy=0.938\n",
      "epoch=431\ttrain loss=0.000102\ttrain accuracy=1.000\ttest accuracy=0.938\n",
      "epoch=432\ttrain loss=0.000272\ttrain accuracy=1.000\ttest accuracy=0.938\n",
      "epoch=433\ttrain loss=0.000388\ttrain accuracy=1.000\ttest accuracy=0.938\n",
      "epoch=434\ttrain loss=0.000277\ttrain accuracy=1.000\ttest accuracy=0.938\n",
      "epoch=435\ttrain loss=0.002844\ttrain accuracy=1.000\ttest accuracy=0.938\n",
      "epoch=436\ttrain loss=0.000973\ttrain accuracy=1.000\ttest accuracy=0.938\n",
      "epoch=437\ttrain loss=0.000447\ttrain accuracy=1.000\ttest accuracy=1.000\n",
      "epoch=438\ttrain loss=0.000599\ttrain accuracy=1.000\ttest accuracy=1.000\n",
      "epoch=439\ttrain loss=0.001092\ttrain accuracy=1.000\ttest accuracy=1.000\n",
      "epoch=440\ttrain loss=0.000230\ttrain accuracy=1.000\ttest accuracy=0.938\n",
      "epoch=441\ttrain loss=0.000486\ttrain accuracy=1.000\ttest accuracy=0.938\n",
      "epoch=442\ttrain loss=0.000255\ttrain accuracy=1.000\ttest accuracy=0.938\n",
      "epoch=443\ttrain loss=0.000167\ttrain accuracy=1.000\ttest accuracy=0.938\n",
      "epoch=444\ttrain loss=0.000117\ttrain accuracy=1.000\ttest accuracy=1.000\n",
      "epoch=445\ttrain loss=0.000226\ttrain accuracy=1.000\ttest accuracy=1.000\n",
      "epoch=446\ttrain loss=0.000139\ttrain accuracy=1.000\ttest accuracy=0.938\n",
      "epoch=447\ttrain loss=0.000219\ttrain accuracy=1.000\ttest accuracy=0.938\n",
      "epoch=448\ttrain loss=0.000070\ttrain accuracy=1.000\ttest accuracy=0.938\n",
      "epoch=449\ttrain loss=0.000086\ttrain accuracy=1.000\ttest accuracy=1.000\n",
      "epoch=450\ttrain loss=0.000103\ttrain accuracy=1.000\ttest accuracy=1.000\n",
      "epoch=451\ttrain loss=0.000259\ttrain accuracy=1.000\ttest accuracy=1.000\n",
      "epoch=452\ttrain loss=0.000481\ttrain accuracy=1.000\ttest accuracy=0.938\n",
      "epoch=453\ttrain loss=0.000338\ttrain accuracy=1.000\ttest accuracy=1.000\n",
      "epoch=454\ttrain loss=0.000097\ttrain accuracy=1.000\ttest accuracy=1.000\n",
      "epoch=455\ttrain loss=0.000117\ttrain accuracy=1.000\ttest accuracy=1.000\n",
      "epoch=456\ttrain loss=0.000129\ttrain accuracy=1.000\ttest accuracy=1.000\n",
      "epoch=457\ttrain loss=0.000063\ttrain accuracy=1.000\ttest accuracy=1.000\n",
      "epoch=458\ttrain loss=0.000399\ttrain accuracy=1.000\ttest accuracy=1.000\n",
      "epoch=459\ttrain loss=0.000148\ttrain accuracy=1.000\ttest accuracy=1.000\n",
      "epoch=460\ttrain loss=0.003719\ttrain accuracy=1.000\ttest accuracy=1.000\n",
      "epoch=461\ttrain loss=0.000500\ttrain accuracy=1.000\ttest accuracy=1.000\n",
      "epoch=462\ttrain loss=0.000260\ttrain accuracy=1.000\ttest accuracy=1.000\n",
      "epoch=463\ttrain loss=0.000951\ttrain accuracy=1.000\ttest accuracy=1.000\n",
      "epoch=464\ttrain loss=0.000584\ttrain accuracy=1.000\ttest accuracy=1.000\n",
      "epoch=465\ttrain loss=0.000386\ttrain accuracy=1.000\ttest accuracy=1.000\n",
      "epoch=466\ttrain loss=0.001730\ttrain accuracy=1.000\ttest accuracy=1.000\n",
      "epoch=467\ttrain loss=0.000612\ttrain accuracy=1.000\ttest accuracy=1.000\n",
      "epoch=468\ttrain loss=0.000615\ttrain accuracy=1.000\ttest accuracy=1.000\n",
      "epoch=469\ttrain loss=0.000557\ttrain accuracy=1.000\ttest accuracy=1.000\n",
      "epoch=470\ttrain loss=0.000870\ttrain accuracy=1.000\ttest accuracy=1.000\n",
      "epoch=471\ttrain loss=0.014817\ttrain accuracy=1.000\ttest accuracy=1.000\n",
      "epoch=472\ttrain loss=0.008253\ttrain accuracy=1.000\ttest accuracy=1.000\n",
      "epoch=473\ttrain loss=0.008007\ttrain accuracy=1.000\ttest accuracy=1.000\n",
      "epoch=474\ttrain loss=0.011213\ttrain accuracy=1.000\ttest accuracy=1.000\n",
      "epoch=475\ttrain loss=0.002608\ttrain accuracy=1.000\ttest accuracy=0.938\n",
      "epoch=476\ttrain loss=0.025802\ttrain accuracy=0.984\ttest accuracy=0.938\n",
      "epoch=477\ttrain loss=0.001549\ttrain accuracy=1.000\ttest accuracy=1.000\n",
      "epoch=478\ttrain loss=0.002381\ttrain accuracy=1.000\ttest accuracy=1.000\n",
      "epoch=479\ttrain loss=0.012909\ttrain accuracy=1.000\ttest accuracy=1.000\n",
      "epoch=480\ttrain loss=0.001241\ttrain accuracy=1.000\ttest accuracy=1.000\n",
      "epoch=481\ttrain loss=0.004028\ttrain accuracy=1.000\ttest accuracy=1.000\n",
      "epoch=482\ttrain loss=0.005853\ttrain accuracy=1.000\ttest accuracy=1.000\n",
      "epoch=483\ttrain loss=0.001533\ttrain accuracy=1.000\ttest accuracy=1.000\n",
      "epoch=484\ttrain loss=0.002398\ttrain accuracy=1.000\ttest accuracy=1.000\n",
      "epoch=485\ttrain loss=0.046257\ttrain accuracy=0.984\ttest accuracy=1.000\n",
      "epoch=486\ttrain loss=0.011532\ttrain accuracy=1.000\ttest accuracy=0.938\n",
      "epoch=487\ttrain loss=0.004768\ttrain accuracy=1.000\ttest accuracy=0.938\n",
      "epoch=488\ttrain loss=0.014002\ttrain accuracy=1.000\ttest accuracy=0.938\n",
      "epoch=489\ttrain loss=0.005357\ttrain accuracy=1.000\ttest accuracy=0.938\n",
      "epoch=490\ttrain loss=0.015851\ttrain accuracy=1.000\ttest accuracy=0.938\n",
      "epoch=491\ttrain loss=0.001358\ttrain accuracy=1.000\ttest accuracy=0.938\n",
      "epoch=492\ttrain loss=0.000451\ttrain accuracy=1.000\ttest accuracy=0.938\n",
      "epoch=493\ttrain loss=0.003836\ttrain accuracy=1.000\ttest accuracy=0.938\n",
      "epoch=494\ttrain loss=0.000353\ttrain accuracy=1.000\ttest accuracy=0.938\n",
      "epoch=495\ttrain loss=0.000588\ttrain accuracy=1.000\ttest accuracy=0.938\n",
      "epoch=496\ttrain loss=0.000325\ttrain accuracy=1.000\ttest accuracy=0.938\n",
      "epoch=497\ttrain loss=0.001465\ttrain accuracy=1.000\ttest accuracy=0.938\n",
      "epoch=498\ttrain loss=0.001214\ttrain accuracy=1.000\ttest accuracy=0.938\n",
      "epoch=499\ttrain loss=0.000672\ttrain accuracy=1.000\ttest accuracy=0.938\n"
     ]
    }
   ],
   "source": [
    "best_accuracy = 0\n",
    "for epoch in range(500):\n",
    "    running_loss = 0.0\n",
    "    train_acc = 0.0\n",
    "    for step, (batch_image, batch_label) in enumerate(train_loader):\n",
    "        model.train()\n",
    "        # if torch.cuda.is_available():\n",
    "        #     batch_image, batch_label = batch_image.cuda(), batch_label.cuda()\n",
    "        batch_output = model(batch_image)\n",
    "        batch_loss = loss_func(batch_output, batch_label)\n",
    "\n",
    "        optimizer.zero_grad()\n",
    "        batch_loss.backward()\n",
    "        optimizer.step()\n",
    "\n",
    "        running_loss += batch_loss.item()\n",
    "\n",
    "        # train accuracy\n",
    "        _, train_predicted = torch.max(batch_output.data, 1)\n",
    "        train_acc += (train_predicted == batch_label).sum().item()\n",
    "\n",
    "    train_acc /= train_size\n",
    "    running_loss /= (step+1)\n",
    "\n",
    "    # ----------test----------\n",
    "    model.eval()\n",
    "    test_acc = 0.0\n",
    "    for test_image, test_label in test_loader:\n",
    "        test_output = model(test_image)\n",
    "        _, predicted = torch.max(test_output.data, 1)\n",
    "        test_acc += (predicted == test_label).sum().item()\n",
    "    test_acc /= test_size\n",
    "\n",
    "    print('epoch={:d}\\ttrain loss={:.6f}\\ttrain accuracy={:.3f}\\ttest accuracy={:.3f}'.format(\n",
    "        epoch, running_loss, train_acc, test_acc))\n",
    "\n",
    "    if test_acc >= best_accuracy:\n",
    "        torch.save(model.state_dict(), './trained_models/FCNN_model.pkl')\n",
    "        best_accuracy = test_acc\n",
    "\n",
    "\n",
    "    # plot graph in Tensorboard\n",
    "    writer.add_scalar(\"test_acc\", test_acc, epoch)\n",
    "    writer.add_scalar(\"train_acc\", train_acc, epoch)\n",
    "    writer.flush()\n",
    "\n",
    "writer.close()\n",
    "\n",
    "\n"
   ]
  },
  {
   "cell_type": "code",
   "execution_count": 129,
   "outputs": [],
   "source": [],
   "metadata": {
    "collapsed": false,
    "pycharm": {
     "name": "#%%\n"
    }
   }
  },
  {
   "cell_type": "code",
   "execution_count": 129,
   "id": "9809dd57-d620-49db-8b3d-07cb78987917",
   "metadata": {
    "pycharm": {
     "name": "#%%\n"
    }
   },
   "outputs": [],
   "source": []
  }
 ],
 "metadata": {
  "kernelspec": {
   "display_name": "Python 3 (ipykernel)",
   "language": "python",
   "name": "python3"
  },
  "language_info": {
   "codemirror_mode": {
    "name": "ipython",
    "version": 3
   },
   "file_extension": ".py",
   "mimetype": "text/x-python",
   "name": "python",
   "nbconvert_exporter": "python",
   "pygments_lexer": "ipython3",
   "version": "3.7.8"
  }
 },
 "nbformat": 4,
 "nbformat_minor": 5
}