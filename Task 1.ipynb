{
 "cells": [
  {
   "cell_type": "markdown",
   "id": "88bf6bd0-3dd2-4711-9cce-b6dbb463e05d",
   "metadata": {
    "pycharm": {
     "name": "#%% md\n"
    }
   },
   "source": [
    "# Task 1: Understand body language by gesture recognition with fully connected neural network"
   ]
  },
  {
   "cell_type": "markdown",
   "id": "bdebc998-13f5-4195-a67b-df152735d5b9",
   "metadata": {
    "pycharm": {
     "name": "#%% md\n"
    }
   },
   "source": [
    "## 1. Do literature search on gesture recognition and its application in Human-Robot Interaction. Summarize what you have learned."
   ]
  },
  {
   "cell_type": "markdown",
   "id": "c75d7314-8adc-4e9e-878f-1cf6b6d98a2d",
   "metadata": {
    "pycharm": {
     "name": "#%% md\n"
    }
   },
   "source": [
    "## 2. Referring to the previous example about building a neural network based classifier, use what you have learned to read the code for gesture classification below and design your own network architecture using fully connected layers."
   ]
  },
  {
   "cell_type": "markdown",
   "id": "7337f2e1-9947-4985-a97b-c807c311e28f",
   "metadata": {
    "pycharm": {
     "name": "#%% md\n"
    }
   },
   "source": [
    "## 3. Run the model. Analyse and comment on the performance of your model based on fully connected layers."
   ]
  },
  {
   "cell_type": "code",
   "execution_count": 1,
   "id": "188f9266-fc0b-4001-84ba-73e7804606e6",
   "metadata": {
    "pycharm": {
     "name": "#%%\n"
    }
   },
   "outputs": [],
   "source": [
    "import cv2\n",
    "import numpy as np\n",
    "import os\n",
    "import itertools\n",
    "import torch.utils.data as utils_data\n",
    "import torch.nn as nn\n",
    "import torch"
   ]
  },
  {
   "cell_type": "markdown",
   "id": "e9d0830f-0431-4d27-aed5-5fa3156d6091",
   "metadata": {
    "pycharm": {
     "name": "#%% md\n"
    }
   },
   "source": [
    "## 1) data preprocessing"
   ]
  },
  {
   "cell_type": "markdown",
   "id": "926df832-9898-4e91-8beb-d0790da1bf0c",
   "metadata": {
    "pycharm": {
     "name": "#%% md\n"
    }
   },
   "source": [
    "Define a function to preprocess the images including resizing and binaryzation"
   ]
  },
  {
   "cell_type": "code",
   "execution_count": 2,
   "id": "dd1d99d8-da0f-4305-8fbd-1e346abc560b",
   "metadata": {
    "pycharm": {
     "name": "#%%\n"
    }
   },
   "outputs": [],
   "source": [
    "def processSkinImage(filePath, resize_HW=48):\n",
    "    import cv2\n",
    "    # step 1\n",
    "    # read the image\n",
    "    original = cv2.imread(filename=filePath)\n",
    "\n",
    "    # step 2\n",
    "    # resize the image to\n",
    "    image_resized = cv2.resize(original, (resize_HW, resize_HW))\n",
    "\n",
    "    # step 3\n",
    "    # convert the image from rgb to YCbCr\n",
    "    image_ycbcr = cv2.cvtColor(image_resized, cv2.COLOR_BGR2YCR_CB)\n",
    "\n",
    "    # step 4\n",
    "    # get the central color of the image\n",
    "    # expected the hand to be in the central of the image\n",
    "    Cb_center_color = image_ycbcr[int(resize_HW / 2), int(resize_HW / 2), 1]\n",
    "    Cr_center_color = image_ycbcr[int(resize_HW / 2), int(resize_HW / 2), 2]\n",
    "    # set the range\n",
    "    Cb_Difference = 15\n",
    "    Cr_Difference = 10\n",
    "\n",
    "    # step 5\n",
    "    # detect skin pixels\n",
    "    Cb = image_ycbcr[:, :, 1]\n",
    "    Cr = image_ycbcr[:, :, 2]\n",
    "    index = np.where((Cb >= Cb_center_color - Cb_Difference) & (Cb <= Cb_center_color + Cb_Difference)\n",
    "                     & (Cr >= Cr_center_color - Cr_Difference) & (Cr <= Cr_center_color + Cr_Difference))\n",
    "\n",
    "    # Mark detected pixels and output\n",
    "    image_output = np.zeros((resize_HW, resize_HW))\n",
    "    image_output[index] = 255\n",
    "\n",
    "    # show image\n",
    "    # cv2.imshow(\"\", image_output)\n",
    "    # cv2.waitKey(0)\n",
    "    return image_output"
   ]
  },
  {
   "cell_type": "markdown",
   "id": "bcf454b1-4248-4a3e-9bf8-9304d64131c4",
   "metadata": {
    "pycharm": {
     "name": "#%% md\n"
    }
   },
   "source": [
    "Deal with all the images using the function defined above.\n",
    "The processed data is stored in a new folder 'dataset_processed'.\n",
    "\n",
    "Generate labels for each class. (class 0, 1, ..., num_classes)\n"
   ]
  },
  {
   "cell_type": "code",
   "execution_count": 3,
   "id": "a67e88cb-3dc7-4bfe-935f-5cba75a782d3",
   "metadata": {
    "pycharm": {
     "name": "#%%\n"
    }
   },
   "outputs": [],
   "source": [
    "path = './dataset/images'\n",
    "path_processed = './dataset_processed/images'\n",
    "\n",
    "a = cv2.imread(path)\n",
    "\n",
    "# -------------------images processing--------------\n",
    "for mainDir, subDir, fileList in os.walk(path):\n",
    "    for file in fileList:\n",
    "        currentPath = os.path.join(mainDir, file)\n",
    "        if file != '.DS_Store':\n",
    "            processedImage = processSkinImage(currentPath)\n",
    "\n",
    "            new_mainDir = path_processed + mainDir.split(path)[-1]\n",
    "            if not os.path.exists(new_mainDir):\n",
    "                os.makedirs(new_mainDir)\n",
    "            cv2.imwrite(os.path.join(new_mainDir, file), processedImage)\n",
    "\n",
    "# -----------------label generation----------------\n",
    "label_path = './dataset_processed/labels'\n",
    "if not os.path.exists(label_path):\n",
    "    os.makedirs(label_path)\n",
    "\n",
    "files = os.listdir(path)\n",
    "index = 0\n",
    "for i, file in enumerate(files):\n",
    "    if file != '.DS_Store':\n",
    "        subclass_label_path = os.path.join(label_path, file + '.txt')\n",
    "        with open(subclass_label_path, 'w') as f:\n",
    "            f.write('#label\\n')\n",
    "        for _ in range(len(os.listdir(os.path.join(path_processed, file)))):\n",
    "            with open(subclass_label_path, 'a') as f:\n",
    "                f.write('{:d}\\n'.format(index))\n",
    "        index = index + 1\n",
    "    f.close()"
   ]
  },
  {
   "cell_type": "markdown",
   "id": "5fac1d92-e269-4297-8b52-6be08c37e503",
   "metadata": {
    "pycharm": {
     "name": "#%% md\n"
    }
   },
   "source": [
    "## 2) load data"
   ]
  },
  {
   "cell_type": "code",
   "execution_count": 4,
   "id": "6e44415d-726c-401c-9a78-5dcd2c140ae2",
   "metadata": {
    "pycharm": {
     "name": "#%%\n"
    }
   },
   "outputs": [
    {
     "name": "stdout",
     "output_type": "stream",
     "text": [
      "(78, 48, 48)\n"
     ]
    }
   ],
   "source": [
    "Image = []\n",
    "path_images = './dataset_processed/images'\n",
    "for mainDir, subDir, fileList in os.walk(path_images):\n",
    "    for file in fileList:\n",
    "        currentPath = os.path.join(mainDir, file)\n",
    "        Image.append(cv2.imread(currentPath)[:, :, 0])\n",
    "Image = np.array(Image)\n",
    "dataset_size, H, W = Image.shape\n",
    "print(Image.shape)\n",
    "# for FCNN model, the image need to be stretched into one dimension: (b, h, w)->(b, h*w)\n",
    "Image = Image.reshape(dataset_size, -1)\n",
    "\n",
    "Label = []\n",
    "path_labels = './dataset_processed/labels'\n",
    "for file in os.listdir(path_labels):\n",
    "    Label.append(np.loadtxt(os.path.join(path_labels, file)))\n",
    "Label = np.array(list(itertools.chain.from_iterable(Label)))\n",
    "num_classes = int(np.max(Label)) + 1"
   ]
  },
  {
   "cell_type": "markdown",
   "id": "03e71e6c-b618-4a68-90da-64ab0720edab",
   "metadata": {
    "pycharm": {
     "name": "#%% md\n"
    }
   },
   "source": [
    "## 3) build your own neural network based on fully connected layers."
   ]
  },
  {
   "cell_type": "markdown",
   "id": "d9c77568-a973-444d-95c8-b9fb70190a6f",
   "metadata": {
    "pycharm": {
     "name": "#%% md\n"
    }
   },
   "source": [
    "Design the neural network architecture"
   ]
  },
  {
   "cell_type": "code",
   "execution_count": 5,
   "id": "dbbd1a27-4d24-4511-8577-1737a8238616",
   "metadata": {
    "pycharm": {
     "name": "#%%\n"
    }
   },
   "outputs": [],
   "source": [
    "class FCNNModel(nn.Module):\n",
    "    def __init__(self, input_layer_size, hidden_layer_size, num_classes):\n",
    "        super(FCNNModel, self).__init__()\n",
    "        self.layer1 = nn.Sequential(nn.Linear(input_layer_size, hidden_layer_size), nn.BatchNorm1d(hidden_layer_size),\n",
    "                                    nn.ReLU(True))\n",
    "        self.layer2 = nn.Sequential(nn.Linear(hidden_layer_size, hidden_layer_size), nn.BatchNorm1d(hidden_layer_size),\n",
    "                                    nn.ReLU(True))\n",
    "        self.layer3 = nn.Sequential(nn.Linear(hidden_layer_size, num_classes))\n",
    "\n",
    "        # code by yourself\n",
    "\n",
    "    def forward(self, x):\n",
    "        x = self.layer1(x)\n",
    "        x = self.layer2(x)\n",
    "        out = self.layer3(x)\n",
    "        return out\n",
    "        # code by yourself"
   ]
  },
  {
   "cell_type": "markdown",
   "id": "0662eb3b-c72d-4331-8c4f-8190805692c0",
   "metadata": {
    "pycharm": {
     "name": "#%% md\n"
    }
   },
   "source": [
    "instantiate your model, set a optimizer and define a loss function."
   ]
  },
  {
   "cell_type": "code",
   "execution_count": 6,
   "id": "c1354717-c8e5-4160-a15a-cba6d2669912",
   "metadata": {
    "pycharm": {
     "name": "#%%\n"
    }
   },
   "outputs": [],
   "source": [
    "model = FCNNModel(input_layer_size=H * W, hidden_layer_size=int(H * W / 2), num_classes=num_classes)\n",
    "# if torch.cuda.is_available():\n",
    "#     model = model.cuda()\n",
    "optimizer = torch.optim.Adam(model.parameters(), lr=0.001, weight_decay=0.0001)\n",
    "loss_func = nn.CrossEntropyLoss()"
   ]
  },
  {
   "cell_type": "markdown",
   "id": "44fd1f77-bf0f-43be-bbfd-dfc3dfca6d57",
   "metadata": {
    "pycharm": {
     "name": "#%% md\n"
    }
   },
   "source": [
    "## 4) train and test"
   ]
  },
  {
   "cell_type": "markdown",
   "id": "8f57afac-7916-4851-89be-3e6f54c4e34d",
   "metadata": {
    "pycharm": {
     "name": "#%% md\n"
    }
   },
   "source": [
    "Encapsulate data"
   ]
  },
  {
   "cell_type": "code",
   "execution_count": 7,
   "id": "637ac95d-107a-4f69-b570-2d38352d3cfc",
   "metadata": {
    "pycharm": {
     "name": "#%%\n"
    }
   },
   "outputs": [
    {
     "name": "stdout",
     "output_type": "stream",
     "text": [
      "Data is ready!\n"
     ]
    }
   ],
   "source": [
    "dataset = utils_data.TensorDataset(torch.Tensor(Image), torch.LongTensor(Label))\n",
    "split_ratio = 0.8\n",
    "train_size = int(split_ratio * dataset_size)\n",
    "test_size = dataset_size - train_size\n",
    "train_set, test_set = utils_data.random_split(dataset, [train_size, test_size])\n",
    "train_loader = utils_data.DataLoader(dataset=train_set, batch_size=8, shuffle=True)\n",
    "test_loader = utils_data.DataLoader(dataset=test_set, batch_size=8, shuffle=True)\n",
    "print('Data is ready!')"
   ]
  },
  {
   "cell_type": "markdown",
   "id": "0dea0608-ff4d-4da7-94b1-c1d62061d87b",
   "metadata": {
    "pycharm": {
     "name": "#%% md\n"
    }
   },
   "source": [
    "The following is the training and testing process in detail."
   ]
  },
  {
   "cell_type": "code",
   "execution_count": 8,
   "outputs": [
    {
     "name": "stdout",
     "output_type": "stream",
     "text": [
      "epoch=0\ttrain loss=1.260729\ttrain accuracy=0.484\ttest accuracy=0.688\n",
      "epoch=1\ttrain loss=0.554520\ttrain accuracy=0.823\ttest accuracy=0.750\n",
      "epoch=2\ttrain loss=0.273715\ttrain accuracy=0.887\ttest accuracy=0.812\n",
      "epoch=3\ttrain loss=0.358651\ttrain accuracy=0.871\ttest accuracy=0.938\n",
      "epoch=4\ttrain loss=0.286544\ttrain accuracy=0.903\ttest accuracy=0.938\n",
      "epoch=5\ttrain loss=0.261508\ttrain accuracy=0.919\ttest accuracy=0.750\n",
      "epoch=6\ttrain loss=0.108279\ttrain accuracy=0.968\ttest accuracy=0.812\n",
      "epoch=7\ttrain loss=0.079133\ttrain accuracy=0.984\ttest accuracy=0.750\n",
      "epoch=8\ttrain loss=0.103049\ttrain accuracy=0.968\ttest accuracy=0.750\n",
      "epoch=9\ttrain loss=0.206406\ttrain accuracy=0.919\ttest accuracy=0.750\n",
      "epoch=10\ttrain loss=0.053704\ttrain accuracy=0.984\ttest accuracy=0.750\n",
      "epoch=11\ttrain loss=0.216869\ttrain accuracy=0.984\ttest accuracy=0.750\n",
      "epoch=12\ttrain loss=0.046819\ttrain accuracy=0.984\ttest accuracy=0.688\n",
      "epoch=13\ttrain loss=0.065958\ttrain accuracy=0.968\ttest accuracy=0.688\n",
      "epoch=14\ttrain loss=0.018565\ttrain accuracy=1.000\ttest accuracy=0.688\n",
      "epoch=15\ttrain loss=0.016150\ttrain accuracy=1.000\ttest accuracy=0.750\n",
      "epoch=16\ttrain loss=0.121466\ttrain accuracy=0.968\ttest accuracy=0.688\n",
      "epoch=17\ttrain loss=0.042959\ttrain accuracy=0.984\ttest accuracy=0.688\n",
      "epoch=18\ttrain loss=0.087856\ttrain accuracy=0.968\ttest accuracy=0.688\n",
      "epoch=19\ttrain loss=0.107334\ttrain accuracy=0.952\ttest accuracy=0.750\n",
      "epoch=20\ttrain loss=0.137134\ttrain accuracy=0.952\ttest accuracy=0.812\n",
      "epoch=21\ttrain loss=0.172910\ttrain accuracy=0.968\ttest accuracy=0.688\n",
      "epoch=22\ttrain loss=0.196228\ttrain accuracy=0.919\ttest accuracy=0.688\n",
      "epoch=23\ttrain loss=0.082840\ttrain accuracy=0.968\ttest accuracy=0.688\n",
      "epoch=24\ttrain loss=0.069428\ttrain accuracy=0.968\ttest accuracy=0.812\n",
      "epoch=25\ttrain loss=0.020939\ttrain accuracy=1.000\ttest accuracy=0.750\n",
      "epoch=26\ttrain loss=0.033397\ttrain accuracy=1.000\ttest accuracy=0.812\n",
      "epoch=27\ttrain loss=0.031875\ttrain accuracy=0.984\ttest accuracy=0.750\n",
      "epoch=28\ttrain loss=0.068490\ttrain accuracy=0.968\ttest accuracy=0.750\n",
      "epoch=29\ttrain loss=0.162400\ttrain accuracy=0.935\ttest accuracy=0.625\n",
      "epoch=30\ttrain loss=0.257278\ttrain accuracy=0.919\ttest accuracy=0.625\n",
      "epoch=31\ttrain loss=0.165592\ttrain accuracy=0.935\ttest accuracy=0.625\n",
      "epoch=32\ttrain loss=0.107527\ttrain accuracy=0.952\ttest accuracy=0.688\n",
      "epoch=33\ttrain loss=0.088093\ttrain accuracy=0.952\ttest accuracy=0.625\n",
      "epoch=34\ttrain loss=0.048516\ttrain accuracy=0.984\ttest accuracy=0.750\n",
      "epoch=35\ttrain loss=0.075416\ttrain accuracy=0.968\ttest accuracy=0.750\n",
      "epoch=36\ttrain loss=0.108302\ttrain accuracy=0.968\ttest accuracy=0.688\n",
      "epoch=37\ttrain loss=0.028001\ttrain accuracy=1.000\ttest accuracy=0.688\n",
      "epoch=38\ttrain loss=0.018514\ttrain accuracy=1.000\ttest accuracy=0.688\n",
      "epoch=39\ttrain loss=0.008402\ttrain accuracy=1.000\ttest accuracy=0.750\n",
      "epoch=40\ttrain loss=0.010040\ttrain accuracy=1.000\ttest accuracy=0.750\n",
      "epoch=41\ttrain loss=0.013176\ttrain accuracy=1.000\ttest accuracy=0.750\n",
      "epoch=42\ttrain loss=0.012393\ttrain accuracy=1.000\ttest accuracy=0.688\n",
      "epoch=43\ttrain loss=0.018328\ttrain accuracy=0.984\ttest accuracy=0.750\n",
      "epoch=44\ttrain loss=0.002015\ttrain accuracy=1.000\ttest accuracy=0.750\n",
      "epoch=45\ttrain loss=0.016958\ttrain accuracy=1.000\ttest accuracy=0.812\n",
      "epoch=46\ttrain loss=0.048856\ttrain accuracy=0.984\ttest accuracy=0.688\n",
      "epoch=47\ttrain loss=0.022061\ttrain accuracy=0.984\ttest accuracy=0.750\n",
      "epoch=48\ttrain loss=0.002263\ttrain accuracy=1.000\ttest accuracy=0.750\n",
      "epoch=49\ttrain loss=0.029411\ttrain accuracy=0.984\ttest accuracy=0.750\n",
      "epoch=50\ttrain loss=0.022390\ttrain accuracy=1.000\ttest accuracy=0.812\n",
      "epoch=51\ttrain loss=0.005338\ttrain accuracy=1.000\ttest accuracy=0.812\n",
      "epoch=52\ttrain loss=0.003377\ttrain accuracy=1.000\ttest accuracy=0.750\n",
      "epoch=53\ttrain loss=0.007389\ttrain accuracy=1.000\ttest accuracy=0.750\n",
      "epoch=54\ttrain loss=0.004057\ttrain accuracy=1.000\ttest accuracy=0.812\n",
      "epoch=55\ttrain loss=0.002524\ttrain accuracy=1.000\ttest accuracy=0.750\n",
      "epoch=56\ttrain loss=0.015760\ttrain accuracy=1.000\ttest accuracy=0.750\n",
      "epoch=57\ttrain loss=0.001601\ttrain accuracy=1.000\ttest accuracy=0.750\n",
      "epoch=58\ttrain loss=0.007250\ttrain accuracy=1.000\ttest accuracy=0.688\n",
      "epoch=59\ttrain loss=0.010001\ttrain accuracy=1.000\ttest accuracy=0.688\n",
      "epoch=60\ttrain loss=0.003252\ttrain accuracy=1.000\ttest accuracy=0.688\n",
      "epoch=61\ttrain loss=0.005290\ttrain accuracy=1.000\ttest accuracy=0.688\n",
      "epoch=62\ttrain loss=0.009621\ttrain accuracy=1.000\ttest accuracy=0.625\n",
      "epoch=63\ttrain loss=0.003036\ttrain accuracy=1.000\ttest accuracy=0.625\n",
      "epoch=64\ttrain loss=0.005187\ttrain accuracy=1.000\ttest accuracy=0.625\n",
      "epoch=65\ttrain loss=0.015084\ttrain accuracy=1.000\ttest accuracy=0.625\n",
      "epoch=66\ttrain loss=0.001861\ttrain accuracy=1.000\ttest accuracy=0.688\n",
      "epoch=67\ttrain loss=0.002857\ttrain accuracy=1.000\ttest accuracy=0.750\n",
      "epoch=68\ttrain loss=0.014288\ttrain accuracy=1.000\ttest accuracy=0.750\n",
      "epoch=69\ttrain loss=0.002789\ttrain accuracy=1.000\ttest accuracy=0.750\n",
      "epoch=70\ttrain loss=0.009553\ttrain accuracy=1.000\ttest accuracy=0.688\n",
      "epoch=71\ttrain loss=0.004588\ttrain accuracy=1.000\ttest accuracy=0.750\n",
      "epoch=72\ttrain loss=0.008674\ttrain accuracy=1.000\ttest accuracy=0.750\n",
      "epoch=73\ttrain loss=0.020351\ttrain accuracy=0.984\ttest accuracy=0.750\n",
      "epoch=74\ttrain loss=0.044658\ttrain accuracy=0.984\ttest accuracy=0.750\n",
      "epoch=75\ttrain loss=0.003709\ttrain accuracy=1.000\ttest accuracy=0.875\n",
      "epoch=76\ttrain loss=0.022471\ttrain accuracy=0.984\ttest accuracy=0.812\n",
      "epoch=77\ttrain loss=0.015566\ttrain accuracy=1.000\ttest accuracy=0.812\n",
      "epoch=78\ttrain loss=0.044217\ttrain accuracy=0.984\ttest accuracy=0.812\n",
      "epoch=79\ttrain loss=0.204816\ttrain accuracy=0.952\ttest accuracy=0.750\n",
      "epoch=80\ttrain loss=0.008312\ttrain accuracy=1.000\ttest accuracy=0.812\n",
      "epoch=81\ttrain loss=0.198685\ttrain accuracy=0.952\ttest accuracy=0.812\n",
      "epoch=82\ttrain loss=0.101677\ttrain accuracy=0.984\ttest accuracy=0.625\n",
      "epoch=83\ttrain loss=0.099240\ttrain accuracy=0.968\ttest accuracy=0.625\n",
      "epoch=84\ttrain loss=0.044105\ttrain accuracy=0.984\ttest accuracy=0.750\n",
      "epoch=85\ttrain loss=0.061549\ttrain accuracy=0.968\ttest accuracy=0.750\n",
      "epoch=86\ttrain loss=0.028244\ttrain accuracy=0.984\ttest accuracy=0.688\n",
      "epoch=87\ttrain loss=0.040759\ttrain accuracy=0.984\ttest accuracy=0.750\n",
      "epoch=88\ttrain loss=0.158015\ttrain accuracy=0.984\ttest accuracy=0.750\n",
      "epoch=89\ttrain loss=0.055267\ttrain accuracy=0.968\ttest accuracy=0.812\n",
      "epoch=90\ttrain loss=0.022162\ttrain accuracy=0.984\ttest accuracy=0.812\n",
      "epoch=91\ttrain loss=0.009797\ttrain accuracy=1.000\ttest accuracy=0.812\n",
      "epoch=92\ttrain loss=0.015792\ttrain accuracy=1.000\ttest accuracy=0.750\n",
      "epoch=93\ttrain loss=0.008924\ttrain accuracy=1.000\ttest accuracy=0.750\n",
      "epoch=94\ttrain loss=0.013478\ttrain accuracy=1.000\ttest accuracy=0.688\n",
      "epoch=95\ttrain loss=0.001366\ttrain accuracy=1.000\ttest accuracy=0.688\n",
      "epoch=96\ttrain loss=0.010155\ttrain accuracy=1.000\ttest accuracy=0.688\n",
      "epoch=97\ttrain loss=0.010044\ttrain accuracy=1.000\ttest accuracy=0.750\n",
      "epoch=98\ttrain loss=0.080608\ttrain accuracy=0.968\ttest accuracy=0.750\n",
      "epoch=99\ttrain loss=0.099133\ttrain accuracy=0.984\ttest accuracy=0.750\n",
      "epoch=100\ttrain loss=0.072022\ttrain accuracy=0.968\ttest accuracy=0.812\n",
      "epoch=101\ttrain loss=0.038336\ttrain accuracy=0.984\ttest accuracy=0.688\n",
      "epoch=102\ttrain loss=0.118324\ttrain accuracy=0.952\ttest accuracy=0.812\n",
      "epoch=103\ttrain loss=0.049730\ttrain accuracy=0.984\ttest accuracy=0.812\n",
      "epoch=104\ttrain loss=0.091275\ttrain accuracy=0.968\ttest accuracy=0.750\n",
      "epoch=105\ttrain loss=0.025722\ttrain accuracy=1.000\ttest accuracy=0.750\n",
      "epoch=106\ttrain loss=0.175354\ttrain accuracy=0.952\ttest accuracy=0.750\n",
      "epoch=107\ttrain loss=0.054339\ttrain accuracy=0.984\ttest accuracy=0.750\n",
      "epoch=108\ttrain loss=0.138791\ttrain accuracy=0.968\ttest accuracy=0.750\n",
      "epoch=109\ttrain loss=0.038041\ttrain accuracy=0.984\ttest accuracy=0.750\n",
      "epoch=110\ttrain loss=0.036691\ttrain accuracy=0.984\ttest accuracy=0.812\n",
      "epoch=111\ttrain loss=0.064996\ttrain accuracy=0.984\ttest accuracy=0.812\n",
      "epoch=112\ttrain loss=0.004720\ttrain accuracy=1.000\ttest accuracy=0.812\n",
      "epoch=113\ttrain loss=0.003917\ttrain accuracy=1.000\ttest accuracy=0.812\n",
      "epoch=114\ttrain loss=0.022203\ttrain accuracy=0.984\ttest accuracy=0.750\n",
      "epoch=115\ttrain loss=0.031570\ttrain accuracy=0.984\ttest accuracy=0.812\n",
      "epoch=116\ttrain loss=0.000964\ttrain accuracy=1.000\ttest accuracy=0.812\n",
      "epoch=117\ttrain loss=0.007573\ttrain accuracy=1.000\ttest accuracy=0.812\n",
      "epoch=118\ttrain loss=0.004755\ttrain accuracy=1.000\ttest accuracy=0.750\n",
      "epoch=119\ttrain loss=0.002883\ttrain accuracy=1.000\ttest accuracy=0.750\n",
      "epoch=120\ttrain loss=0.000525\ttrain accuracy=1.000\ttest accuracy=0.750\n",
      "epoch=121\ttrain loss=0.001137\ttrain accuracy=1.000\ttest accuracy=0.750\n",
      "epoch=122\ttrain loss=0.021315\ttrain accuracy=1.000\ttest accuracy=0.750\n",
      "epoch=123\ttrain loss=0.008210\ttrain accuracy=1.000\ttest accuracy=0.750\n",
      "epoch=124\ttrain loss=0.058042\ttrain accuracy=0.984\ttest accuracy=0.688\n",
      "epoch=125\ttrain loss=0.023928\ttrain accuracy=1.000\ttest accuracy=0.750\n",
      "epoch=126\ttrain loss=0.000673\ttrain accuracy=1.000\ttest accuracy=0.812\n",
      "epoch=127\ttrain loss=0.001629\ttrain accuracy=1.000\ttest accuracy=0.812\n",
      "epoch=128\ttrain loss=0.000917\ttrain accuracy=1.000\ttest accuracy=0.750\n",
      "epoch=129\ttrain loss=0.002338\ttrain accuracy=1.000\ttest accuracy=0.812\n",
      "epoch=130\ttrain loss=0.149780\ttrain accuracy=0.952\ttest accuracy=0.812\n",
      "epoch=131\ttrain loss=0.014310\ttrain accuracy=1.000\ttest accuracy=0.812\n",
      "epoch=132\ttrain loss=0.201169\ttrain accuracy=0.935\ttest accuracy=0.750\n",
      "epoch=133\ttrain loss=0.182528\ttrain accuracy=0.984\ttest accuracy=0.750\n",
      "epoch=134\ttrain loss=0.111709\ttrain accuracy=0.952\ttest accuracy=0.812\n",
      "epoch=135\ttrain loss=0.230121\ttrain accuracy=0.952\ttest accuracy=0.812\n",
      "epoch=136\ttrain loss=0.026392\ttrain accuracy=1.000\ttest accuracy=0.750\n",
      "epoch=137\ttrain loss=0.054849\ttrain accuracy=0.984\ttest accuracy=0.812\n",
      "epoch=138\ttrain loss=0.005871\ttrain accuracy=1.000\ttest accuracy=0.812\n",
      "epoch=139\ttrain loss=0.007301\ttrain accuracy=1.000\ttest accuracy=0.812\n",
      "epoch=140\ttrain loss=0.055138\ttrain accuracy=0.984\ttest accuracy=0.812\n",
      "epoch=141\ttrain loss=0.016521\ttrain accuracy=1.000\ttest accuracy=0.812\n",
      "epoch=142\ttrain loss=0.009137\ttrain accuracy=1.000\ttest accuracy=0.812\n",
      "epoch=143\ttrain loss=0.002787\ttrain accuracy=1.000\ttest accuracy=0.812\n",
      "epoch=144\ttrain loss=0.003374\ttrain accuracy=1.000\ttest accuracy=0.812\n",
      "epoch=145\ttrain loss=0.007548\ttrain accuracy=1.000\ttest accuracy=0.812\n",
      "epoch=146\ttrain loss=0.643532\ttrain accuracy=0.919\ttest accuracy=0.812\n",
      "epoch=147\ttrain loss=0.016138\ttrain accuracy=1.000\ttest accuracy=0.688\n",
      "epoch=148\ttrain loss=0.055459\ttrain accuracy=0.984\ttest accuracy=0.688\n",
      "epoch=149\ttrain loss=0.131418\ttrain accuracy=0.984\ttest accuracy=0.688\n",
      "epoch=150\ttrain loss=0.117976\ttrain accuracy=0.968\ttest accuracy=0.750\n",
      "epoch=151\ttrain loss=0.069904\ttrain accuracy=0.968\ttest accuracy=0.812\n",
      "epoch=152\ttrain loss=0.001399\ttrain accuracy=1.000\ttest accuracy=0.812\n",
      "epoch=153\ttrain loss=0.016808\ttrain accuracy=0.984\ttest accuracy=0.688\n",
      "epoch=154\ttrain loss=0.028475\ttrain accuracy=1.000\ttest accuracy=0.750\n",
      "epoch=155\ttrain loss=0.029478\ttrain accuracy=0.984\ttest accuracy=0.812\n",
      "epoch=156\ttrain loss=0.001221\ttrain accuracy=1.000\ttest accuracy=0.812\n",
      "epoch=157\ttrain loss=0.005755\ttrain accuracy=1.000\ttest accuracy=0.875\n",
      "epoch=158\ttrain loss=0.011837\ttrain accuracy=1.000\ttest accuracy=0.750\n",
      "epoch=159\ttrain loss=0.014148\ttrain accuracy=1.000\ttest accuracy=0.688\n",
      "epoch=160\ttrain loss=0.003595\ttrain accuracy=1.000\ttest accuracy=0.688\n",
      "epoch=161\ttrain loss=0.014091\ttrain accuracy=0.984\ttest accuracy=0.688\n",
      "epoch=162\ttrain loss=0.007215\ttrain accuracy=1.000\ttest accuracy=0.688\n",
      "epoch=163\ttrain loss=0.005964\ttrain accuracy=1.000\ttest accuracy=0.688\n",
      "epoch=164\ttrain loss=0.000943\ttrain accuracy=1.000\ttest accuracy=0.688\n",
      "epoch=165\ttrain loss=0.010542\ttrain accuracy=1.000\ttest accuracy=0.688\n",
      "epoch=166\ttrain loss=0.001722\ttrain accuracy=1.000\ttest accuracy=0.688\n",
      "epoch=167\ttrain loss=0.004115\ttrain accuracy=1.000\ttest accuracy=0.688\n",
      "epoch=168\ttrain loss=0.001625\ttrain accuracy=1.000\ttest accuracy=0.688\n",
      "epoch=169\ttrain loss=0.000789\ttrain accuracy=1.000\ttest accuracy=0.688\n",
      "epoch=170\ttrain loss=0.003215\ttrain accuracy=1.000\ttest accuracy=0.688\n",
      "epoch=171\ttrain loss=0.015877\ttrain accuracy=1.000\ttest accuracy=0.688\n",
      "epoch=172\ttrain loss=0.001078\ttrain accuracy=1.000\ttest accuracy=0.625\n",
      "epoch=173\ttrain loss=0.000864\ttrain accuracy=1.000\ttest accuracy=0.625\n",
      "epoch=174\ttrain loss=0.001694\ttrain accuracy=1.000\ttest accuracy=0.688\n",
      "epoch=175\ttrain loss=0.050033\ttrain accuracy=0.984\ttest accuracy=0.688\n",
      "epoch=176\ttrain loss=0.005966\ttrain accuracy=1.000\ttest accuracy=0.688\n",
      "epoch=177\ttrain loss=0.003752\ttrain accuracy=1.000\ttest accuracy=0.688\n",
      "epoch=178\ttrain loss=0.004263\ttrain accuracy=1.000\ttest accuracy=0.688\n",
      "epoch=179\ttrain loss=0.001806\ttrain accuracy=1.000\ttest accuracy=0.688\n",
      "epoch=180\ttrain loss=0.043063\ttrain accuracy=1.000\ttest accuracy=0.750\n",
      "epoch=181\ttrain loss=0.003848\ttrain accuracy=1.000\ttest accuracy=0.812\n",
      "epoch=182\ttrain loss=0.002855\ttrain accuracy=1.000\ttest accuracy=0.812\n",
      "epoch=183\ttrain loss=0.007253\ttrain accuracy=1.000\ttest accuracy=0.750\n",
      "epoch=184\ttrain loss=0.000726\ttrain accuracy=1.000\ttest accuracy=0.750\n",
      "epoch=185\ttrain loss=0.001738\ttrain accuracy=1.000\ttest accuracy=0.688\n",
      "epoch=186\ttrain loss=0.058029\ttrain accuracy=0.968\ttest accuracy=0.688\n",
      "epoch=187\ttrain loss=0.036705\ttrain accuracy=0.984\ttest accuracy=0.688\n",
      "epoch=188\ttrain loss=0.011216\ttrain accuracy=1.000\ttest accuracy=0.750\n",
      "epoch=189\ttrain loss=0.003937\ttrain accuracy=1.000\ttest accuracy=0.750\n",
      "epoch=190\ttrain loss=0.538797\ttrain accuracy=0.903\ttest accuracy=0.750\n",
      "epoch=191\ttrain loss=0.004945\ttrain accuracy=1.000\ttest accuracy=0.625\n",
      "epoch=192\ttrain loss=0.093730\ttrain accuracy=0.968\ttest accuracy=0.750\n",
      "epoch=193\ttrain loss=0.049337\ttrain accuracy=0.968\ttest accuracy=0.750\n",
      "epoch=194\ttrain loss=0.029760\ttrain accuracy=0.984\ttest accuracy=0.812\n",
      "epoch=195\ttrain loss=0.016221\ttrain accuracy=1.000\ttest accuracy=0.812\n",
      "epoch=196\ttrain loss=0.106506\ttrain accuracy=0.984\ttest accuracy=0.812\n",
      "epoch=197\ttrain loss=0.019444\ttrain accuracy=1.000\ttest accuracy=0.812\n",
      "epoch=198\ttrain loss=0.019202\ttrain accuracy=1.000\ttest accuracy=0.812\n",
      "epoch=199\ttrain loss=0.051462\ttrain accuracy=0.984\ttest accuracy=0.750\n",
      "epoch=200\ttrain loss=0.003753\ttrain accuracy=1.000\ttest accuracy=0.625\n",
      "epoch=201\ttrain loss=0.004544\ttrain accuracy=1.000\ttest accuracy=0.625\n",
      "epoch=202\ttrain loss=0.002279\ttrain accuracy=1.000\ttest accuracy=0.625\n",
      "epoch=203\ttrain loss=0.003104\ttrain accuracy=1.000\ttest accuracy=0.625\n",
      "epoch=204\ttrain loss=0.241843\ttrain accuracy=0.968\ttest accuracy=0.625\n",
      "epoch=205\ttrain loss=0.000671\ttrain accuracy=1.000\ttest accuracy=0.688\n",
      "epoch=206\ttrain loss=0.023865\ttrain accuracy=0.984\ttest accuracy=0.750\n",
      "epoch=207\ttrain loss=0.112155\ttrain accuracy=0.968\ttest accuracy=0.750\n",
      "epoch=208\ttrain loss=0.100897\ttrain accuracy=0.968\ttest accuracy=0.750\n",
      "epoch=209\ttrain loss=0.071799\ttrain accuracy=0.952\ttest accuracy=0.625\n",
      "epoch=210\ttrain loss=0.011705\ttrain accuracy=1.000\ttest accuracy=0.562\n",
      "epoch=211\ttrain loss=0.027697\ttrain accuracy=0.984\ttest accuracy=0.562\n",
      "epoch=212\ttrain loss=0.052920\ttrain accuracy=0.984\ttest accuracy=0.625\n",
      "epoch=213\ttrain loss=0.005504\ttrain accuracy=1.000\ttest accuracy=0.625\n",
      "epoch=214\ttrain loss=0.002714\ttrain accuracy=1.000\ttest accuracy=0.625\n",
      "epoch=215\ttrain loss=0.037113\ttrain accuracy=0.984\ttest accuracy=0.750\n",
      "epoch=216\ttrain loss=0.061054\ttrain accuracy=0.968\ttest accuracy=0.750\n",
      "epoch=217\ttrain loss=0.003989\ttrain accuracy=1.000\ttest accuracy=0.625\n",
      "epoch=218\ttrain loss=0.005660\ttrain accuracy=1.000\ttest accuracy=0.625\n",
      "epoch=219\ttrain loss=0.001118\ttrain accuracy=1.000\ttest accuracy=0.625\n",
      "epoch=220\ttrain loss=0.000623\ttrain accuracy=1.000\ttest accuracy=0.625\n",
      "epoch=221\ttrain loss=0.000394\ttrain accuracy=1.000\ttest accuracy=0.625\n",
      "epoch=222\ttrain loss=0.015627\ttrain accuracy=1.000\ttest accuracy=0.625\n",
      "epoch=223\ttrain loss=0.000870\ttrain accuracy=1.000\ttest accuracy=0.688\n",
      "epoch=224\ttrain loss=0.007078\ttrain accuracy=1.000\ttest accuracy=0.688\n",
      "epoch=225\ttrain loss=0.000268\ttrain accuracy=1.000\ttest accuracy=0.688\n",
      "epoch=226\ttrain loss=0.000655\ttrain accuracy=1.000\ttest accuracy=0.750\n",
      "epoch=227\ttrain loss=0.001703\ttrain accuracy=1.000\ttest accuracy=0.750\n",
      "epoch=228\ttrain loss=0.006715\ttrain accuracy=1.000\ttest accuracy=0.688\n",
      "epoch=229\ttrain loss=0.001619\ttrain accuracy=1.000\ttest accuracy=0.688\n",
      "epoch=230\ttrain loss=0.000418\ttrain accuracy=1.000\ttest accuracy=0.625\n",
      "epoch=231\ttrain loss=0.000195\ttrain accuracy=1.000\ttest accuracy=0.625\n",
      "epoch=232\ttrain loss=0.019422\ttrain accuracy=0.984\ttest accuracy=0.688\n",
      "epoch=233\ttrain loss=0.001937\ttrain accuracy=1.000\ttest accuracy=0.625\n",
      "epoch=234\ttrain loss=0.000424\ttrain accuracy=1.000\ttest accuracy=0.688\n",
      "epoch=235\ttrain loss=0.002900\ttrain accuracy=1.000\ttest accuracy=0.625\n",
      "epoch=236\ttrain loss=0.000507\ttrain accuracy=1.000\ttest accuracy=0.688\n",
      "epoch=237\ttrain loss=0.008502\ttrain accuracy=1.000\ttest accuracy=0.625\n",
      "epoch=238\ttrain loss=0.002188\ttrain accuracy=1.000\ttest accuracy=0.625\n",
      "epoch=239\ttrain loss=0.001232\ttrain accuracy=1.000\ttest accuracy=0.625\n",
      "epoch=240\ttrain loss=0.024607\ttrain accuracy=0.984\ttest accuracy=0.625\n",
      "epoch=241\ttrain loss=0.003368\ttrain accuracy=1.000\ttest accuracy=0.625\n",
      "epoch=242\ttrain loss=0.004764\ttrain accuracy=1.000\ttest accuracy=0.562\n",
      "epoch=243\ttrain loss=0.000655\ttrain accuracy=1.000\ttest accuracy=0.625\n",
      "epoch=244\ttrain loss=0.008188\ttrain accuracy=1.000\ttest accuracy=0.688\n",
      "epoch=245\ttrain loss=0.000428\ttrain accuracy=1.000\ttest accuracy=0.625\n",
      "epoch=246\ttrain loss=0.003111\ttrain accuracy=1.000\ttest accuracy=0.688\n",
      "epoch=247\ttrain loss=0.002792\ttrain accuracy=1.000\ttest accuracy=0.625\n",
      "epoch=248\ttrain loss=0.015881\ttrain accuracy=0.984\ttest accuracy=0.625\n",
      "epoch=249\ttrain loss=0.000255\ttrain accuracy=1.000\ttest accuracy=0.688\n",
      "epoch=250\ttrain loss=0.001282\ttrain accuracy=1.000\ttest accuracy=0.625\n",
      "epoch=251\ttrain loss=0.001732\ttrain accuracy=1.000\ttest accuracy=0.625\n",
      "epoch=252\ttrain loss=0.000873\ttrain accuracy=1.000\ttest accuracy=0.625\n",
      "epoch=253\ttrain loss=0.017627\ttrain accuracy=0.984\ttest accuracy=0.625\n",
      "epoch=254\ttrain loss=0.000585\ttrain accuracy=1.000\ttest accuracy=0.625\n",
      "epoch=255\ttrain loss=0.048708\ttrain accuracy=0.984\ttest accuracy=0.625\n",
      "epoch=256\ttrain loss=0.030683\ttrain accuracy=0.984\ttest accuracy=0.625\n",
      "epoch=257\ttrain loss=0.079034\ttrain accuracy=0.984\ttest accuracy=0.562\n",
      "epoch=258\ttrain loss=0.105327\ttrain accuracy=0.984\ttest accuracy=0.625\n",
      "epoch=259\ttrain loss=0.009105\ttrain accuracy=1.000\ttest accuracy=0.625\n",
      "epoch=260\ttrain loss=0.012773\ttrain accuracy=1.000\ttest accuracy=0.625\n",
      "epoch=261\ttrain loss=0.003316\ttrain accuracy=1.000\ttest accuracy=0.688\n",
      "epoch=262\ttrain loss=0.000775\ttrain accuracy=1.000\ttest accuracy=0.688\n",
      "epoch=263\ttrain loss=0.006563\ttrain accuracy=1.000\ttest accuracy=0.688\n",
      "epoch=264\ttrain loss=0.010252\ttrain accuracy=1.000\ttest accuracy=0.750\n",
      "epoch=265\ttrain loss=0.003313\ttrain accuracy=1.000\ttest accuracy=0.688\n",
      "epoch=266\ttrain loss=0.003118\ttrain accuracy=1.000\ttest accuracy=0.750\n",
      "epoch=267\ttrain loss=0.020985\ttrain accuracy=0.984\ttest accuracy=0.688\n",
      "epoch=268\ttrain loss=0.000731\ttrain accuracy=1.000\ttest accuracy=0.688\n",
      "epoch=269\ttrain loss=0.000467\ttrain accuracy=1.000\ttest accuracy=0.688\n",
      "epoch=270\ttrain loss=0.001019\ttrain accuracy=1.000\ttest accuracy=0.688\n",
      "epoch=271\ttrain loss=0.022058\ttrain accuracy=1.000\ttest accuracy=0.688\n",
      "epoch=272\ttrain loss=0.015348\ttrain accuracy=0.984\ttest accuracy=0.812\n",
      "epoch=273\ttrain loss=0.001987\ttrain accuracy=1.000\ttest accuracy=0.750\n",
      "epoch=274\ttrain loss=0.019931\ttrain accuracy=1.000\ttest accuracy=0.750\n",
      "epoch=275\ttrain loss=0.003845\ttrain accuracy=1.000\ttest accuracy=0.750\n",
      "epoch=276\ttrain loss=0.016487\ttrain accuracy=0.984\ttest accuracy=0.750\n",
      "epoch=277\ttrain loss=0.001825\ttrain accuracy=1.000\ttest accuracy=0.750\n",
      "epoch=278\ttrain loss=0.017416\ttrain accuracy=1.000\ttest accuracy=0.750\n",
      "epoch=279\ttrain loss=0.111428\ttrain accuracy=0.968\ttest accuracy=0.688\n",
      "epoch=280\ttrain loss=0.048007\ttrain accuracy=0.968\ttest accuracy=0.688\n",
      "epoch=281\ttrain loss=0.135227\ttrain accuracy=0.968\ttest accuracy=0.750\n",
      "epoch=282\ttrain loss=0.012367\ttrain accuracy=1.000\ttest accuracy=0.688\n",
      "epoch=283\ttrain loss=0.028702\ttrain accuracy=1.000\ttest accuracy=0.688\n",
      "epoch=284\ttrain loss=0.044005\ttrain accuracy=0.984\ttest accuracy=0.625\n",
      "epoch=285\ttrain loss=0.006406\ttrain accuracy=1.000\ttest accuracy=0.750\n",
      "epoch=286\ttrain loss=0.015659\ttrain accuracy=0.984\ttest accuracy=0.688\n",
      "epoch=287\ttrain loss=0.077348\ttrain accuracy=0.984\ttest accuracy=0.625\n",
      "epoch=288\ttrain loss=0.006509\ttrain accuracy=1.000\ttest accuracy=0.688\n",
      "epoch=289\ttrain loss=0.106206\ttrain accuracy=0.952\ttest accuracy=0.688\n",
      "epoch=290\ttrain loss=0.001112\ttrain accuracy=1.000\ttest accuracy=0.625\n",
      "epoch=291\ttrain loss=0.012886\ttrain accuracy=1.000\ttest accuracy=0.625\n",
      "epoch=292\ttrain loss=0.010982\ttrain accuracy=1.000\ttest accuracy=0.625\n",
      "epoch=293\ttrain loss=0.001426\ttrain accuracy=1.000\ttest accuracy=0.625\n",
      "epoch=294\ttrain loss=0.007150\ttrain accuracy=1.000\ttest accuracy=0.625\n",
      "epoch=295\ttrain loss=0.010077\ttrain accuracy=1.000\ttest accuracy=0.688\n",
      "epoch=296\ttrain loss=0.009518\ttrain accuracy=1.000\ttest accuracy=0.750\n",
      "epoch=297\ttrain loss=0.015128\ttrain accuracy=1.000\ttest accuracy=0.688\n",
      "epoch=298\ttrain loss=0.001038\ttrain accuracy=1.000\ttest accuracy=0.688\n",
      "epoch=299\ttrain loss=0.050390\ttrain accuracy=0.984\ttest accuracy=0.688\n",
      "epoch=300\ttrain loss=0.037194\ttrain accuracy=0.984\ttest accuracy=0.688\n",
      "epoch=301\ttrain loss=0.025893\ttrain accuracy=0.984\ttest accuracy=0.688\n",
      "epoch=302\ttrain loss=0.011657\ttrain accuracy=1.000\ttest accuracy=0.750\n",
      "epoch=303\ttrain loss=0.000696\ttrain accuracy=1.000\ttest accuracy=0.750\n",
      "epoch=304\ttrain loss=0.001060\ttrain accuracy=1.000\ttest accuracy=0.688\n",
      "epoch=305\ttrain loss=0.001648\ttrain accuracy=1.000\ttest accuracy=0.625\n",
      "epoch=306\ttrain loss=0.011246\ttrain accuracy=1.000\ttest accuracy=0.688\n",
      "epoch=307\ttrain loss=0.104855\ttrain accuracy=0.968\ttest accuracy=0.688\n",
      "epoch=308\ttrain loss=0.001647\ttrain accuracy=1.000\ttest accuracy=0.688\n",
      "epoch=309\ttrain loss=0.030727\ttrain accuracy=0.984\ttest accuracy=0.812\n",
      "epoch=310\ttrain loss=0.006852\ttrain accuracy=1.000\ttest accuracy=0.750\n",
      "epoch=311\ttrain loss=0.008504\ttrain accuracy=1.000\ttest accuracy=0.750\n",
      "epoch=312\ttrain loss=0.085838\ttrain accuracy=0.968\ttest accuracy=0.750\n",
      "epoch=313\ttrain loss=0.001823\ttrain accuracy=1.000\ttest accuracy=0.688\n",
      "epoch=314\ttrain loss=0.005300\ttrain accuracy=1.000\ttest accuracy=0.688\n",
      "epoch=315\ttrain loss=0.032244\ttrain accuracy=0.984\ttest accuracy=0.688\n",
      "epoch=316\ttrain loss=0.001921\ttrain accuracy=1.000\ttest accuracy=0.688\n",
      "epoch=317\ttrain loss=0.001771\ttrain accuracy=1.000\ttest accuracy=0.688\n",
      "epoch=318\ttrain loss=0.001223\ttrain accuracy=1.000\ttest accuracy=0.750\n",
      "epoch=319\ttrain loss=0.002422\ttrain accuracy=1.000\ttest accuracy=0.688\n",
      "epoch=320\ttrain loss=0.000354\ttrain accuracy=1.000\ttest accuracy=0.688\n",
      "epoch=321\ttrain loss=0.041404\ttrain accuracy=0.984\ttest accuracy=0.688\n",
      "epoch=322\ttrain loss=0.006212\ttrain accuracy=1.000\ttest accuracy=0.625\n",
      "epoch=323\ttrain loss=0.001429\ttrain accuracy=1.000\ttest accuracy=0.688\n",
      "epoch=324\ttrain loss=0.008769\ttrain accuracy=1.000\ttest accuracy=0.688\n",
      "epoch=325\ttrain loss=0.002543\ttrain accuracy=1.000\ttest accuracy=0.688\n",
      "epoch=326\ttrain loss=0.019447\ttrain accuracy=1.000\ttest accuracy=0.688\n",
      "epoch=327\ttrain loss=0.000946\ttrain accuracy=1.000\ttest accuracy=0.688\n",
      "epoch=328\ttrain loss=0.000374\ttrain accuracy=1.000\ttest accuracy=0.688\n",
      "epoch=329\ttrain loss=0.006750\ttrain accuracy=1.000\ttest accuracy=0.688\n",
      "epoch=330\ttrain loss=0.000507\ttrain accuracy=1.000\ttest accuracy=0.625\n",
      "epoch=331\ttrain loss=0.000376\ttrain accuracy=1.000\ttest accuracy=0.688\n",
      "epoch=332\ttrain loss=0.031361\ttrain accuracy=0.984\ttest accuracy=0.688\n",
      "epoch=333\ttrain loss=0.005943\ttrain accuracy=1.000\ttest accuracy=0.688\n",
      "epoch=334\ttrain loss=0.218052\ttrain accuracy=0.984\ttest accuracy=0.688\n",
      "epoch=335\ttrain loss=0.077360\ttrain accuracy=0.984\ttest accuracy=0.750\n",
      "epoch=336\ttrain loss=0.005407\ttrain accuracy=1.000\ttest accuracy=0.750\n",
      "epoch=337\ttrain loss=0.027459\ttrain accuracy=1.000\ttest accuracy=0.688\n",
      "epoch=338\ttrain loss=0.001513\ttrain accuracy=1.000\ttest accuracy=0.750\n",
      "epoch=339\ttrain loss=0.002461\ttrain accuracy=1.000\ttest accuracy=0.750\n",
      "epoch=340\ttrain loss=0.051502\ttrain accuracy=0.968\ttest accuracy=0.750\n",
      "epoch=341\ttrain loss=0.011254\ttrain accuracy=1.000\ttest accuracy=0.750\n",
      "epoch=342\ttrain loss=0.064820\ttrain accuracy=0.984\ttest accuracy=0.812\n",
      "epoch=343\ttrain loss=0.009063\ttrain accuracy=1.000\ttest accuracy=0.688\n",
      "epoch=344\ttrain loss=0.008616\ttrain accuracy=1.000\ttest accuracy=0.688\n",
      "epoch=345\ttrain loss=0.020606\ttrain accuracy=0.984\ttest accuracy=0.750\n",
      "epoch=346\ttrain loss=0.002000\ttrain accuracy=1.000\ttest accuracy=0.750\n",
      "epoch=347\ttrain loss=0.022224\ttrain accuracy=0.984\ttest accuracy=0.750\n",
      "epoch=348\ttrain loss=0.001130\ttrain accuracy=1.000\ttest accuracy=0.750\n",
      "epoch=349\ttrain loss=0.017333\ttrain accuracy=0.984\ttest accuracy=0.688\n",
      "epoch=350\ttrain loss=0.018482\ttrain accuracy=0.984\ttest accuracy=0.688\n",
      "epoch=351\ttrain loss=0.000954\ttrain accuracy=1.000\ttest accuracy=0.625\n",
      "epoch=352\ttrain loss=0.001772\ttrain accuracy=1.000\ttest accuracy=0.625\n",
      "epoch=353\ttrain loss=0.000511\ttrain accuracy=1.000\ttest accuracy=0.625\n",
      "epoch=354\ttrain loss=0.003433\ttrain accuracy=1.000\ttest accuracy=0.625\n",
      "epoch=355\ttrain loss=0.003832\ttrain accuracy=1.000\ttest accuracy=0.625\n",
      "epoch=356\ttrain loss=0.002916\ttrain accuracy=1.000\ttest accuracy=0.625\n",
      "epoch=357\ttrain loss=0.000544\ttrain accuracy=1.000\ttest accuracy=0.625\n",
      "epoch=358\ttrain loss=0.001104\ttrain accuracy=1.000\ttest accuracy=0.625\n",
      "epoch=359\ttrain loss=0.000563\ttrain accuracy=1.000\ttest accuracy=0.625\n",
      "epoch=360\ttrain loss=0.002405\ttrain accuracy=1.000\ttest accuracy=0.625\n",
      "epoch=361\ttrain loss=0.002532\ttrain accuracy=1.000\ttest accuracy=0.625\n",
      "epoch=362\ttrain loss=0.000631\ttrain accuracy=1.000\ttest accuracy=0.625\n",
      "epoch=363\ttrain loss=0.000730\ttrain accuracy=1.000\ttest accuracy=0.625\n",
      "epoch=364\ttrain loss=0.000857\ttrain accuracy=1.000\ttest accuracy=0.625\n",
      "epoch=365\ttrain loss=0.002199\ttrain accuracy=1.000\ttest accuracy=0.688\n",
      "epoch=366\ttrain loss=0.002316\ttrain accuracy=1.000\ttest accuracy=0.625\n",
      "epoch=367\ttrain loss=0.001120\ttrain accuracy=1.000\ttest accuracy=0.625\n",
      "epoch=368\ttrain loss=0.008745\ttrain accuracy=1.000\ttest accuracy=0.625\n",
      "epoch=369\ttrain loss=0.001141\ttrain accuracy=1.000\ttest accuracy=0.625\n",
      "epoch=370\ttrain loss=0.001504\ttrain accuracy=1.000\ttest accuracy=0.625\n",
      "epoch=371\ttrain loss=0.000813\ttrain accuracy=1.000\ttest accuracy=0.688\n",
      "epoch=372\ttrain loss=0.000643\ttrain accuracy=1.000\ttest accuracy=0.688\n",
      "epoch=373\ttrain loss=0.000742\ttrain accuracy=1.000\ttest accuracy=0.688\n",
      "epoch=374\ttrain loss=0.018322\ttrain accuracy=1.000\ttest accuracy=0.750\n",
      "epoch=375\ttrain loss=0.000417\ttrain accuracy=1.000\ttest accuracy=0.688\n",
      "epoch=376\ttrain loss=0.000811\ttrain accuracy=1.000\ttest accuracy=0.625\n",
      "epoch=377\ttrain loss=0.000453\ttrain accuracy=1.000\ttest accuracy=0.625\n",
      "epoch=378\ttrain loss=0.000757\ttrain accuracy=1.000\ttest accuracy=0.625\n",
      "epoch=379\ttrain loss=0.004784\ttrain accuracy=1.000\ttest accuracy=0.625\n",
      "epoch=380\ttrain loss=0.001308\ttrain accuracy=1.000\ttest accuracy=0.625\n",
      "epoch=381\ttrain loss=0.000499\ttrain accuracy=1.000\ttest accuracy=0.625\n",
      "epoch=382\ttrain loss=0.008174\ttrain accuracy=1.000\ttest accuracy=0.625\n",
      "epoch=383\ttrain loss=0.006841\ttrain accuracy=1.000\ttest accuracy=0.688\n",
      "epoch=384\ttrain loss=0.000817\ttrain accuracy=1.000\ttest accuracy=0.688\n",
      "epoch=385\ttrain loss=0.009148\ttrain accuracy=1.000\ttest accuracy=0.688\n",
      "epoch=386\ttrain loss=0.000811\ttrain accuracy=1.000\ttest accuracy=0.688\n",
      "epoch=387\ttrain loss=0.003025\ttrain accuracy=1.000\ttest accuracy=0.750\n",
      "epoch=388\ttrain loss=0.072934\ttrain accuracy=0.968\ttest accuracy=0.750\n",
      "epoch=389\ttrain loss=0.006000\ttrain accuracy=1.000\ttest accuracy=0.688\n",
      "epoch=390\ttrain loss=0.065142\ttrain accuracy=0.984\ttest accuracy=0.750\n",
      "epoch=391\ttrain loss=0.183793\ttrain accuracy=0.984\ttest accuracy=0.750\n",
      "epoch=392\ttrain loss=0.287785\ttrain accuracy=0.968\ttest accuracy=0.688\n",
      "epoch=393\ttrain loss=0.079394\ttrain accuracy=0.984\ttest accuracy=0.750\n",
      "epoch=394\ttrain loss=0.026078\ttrain accuracy=1.000\ttest accuracy=0.688\n",
      "epoch=395\ttrain loss=0.091087\ttrain accuracy=0.952\ttest accuracy=0.750\n",
      "epoch=396\ttrain loss=0.072386\ttrain accuracy=0.984\ttest accuracy=0.688\n",
      "epoch=397\ttrain loss=0.018054\ttrain accuracy=1.000\ttest accuracy=0.688\n",
      "epoch=398\ttrain loss=0.093312\ttrain accuracy=0.984\ttest accuracy=0.750\n",
      "epoch=399\ttrain loss=0.097912\ttrain accuracy=0.968\ttest accuracy=0.750\n",
      "epoch=400\ttrain loss=0.027091\ttrain accuracy=0.984\ttest accuracy=0.625\n",
      "epoch=401\ttrain loss=0.062346\ttrain accuracy=0.984\ttest accuracy=0.625\n",
      "epoch=402\ttrain loss=0.047917\ttrain accuracy=0.968\ttest accuracy=0.688\n",
      "epoch=403\ttrain loss=0.259235\ttrain accuracy=0.968\ttest accuracy=0.688\n",
      "epoch=404\ttrain loss=0.071550\ttrain accuracy=0.968\ttest accuracy=0.688\n",
      "epoch=405\ttrain loss=0.115623\ttrain accuracy=0.968\ttest accuracy=0.688\n",
      "epoch=406\ttrain loss=0.019998\ttrain accuracy=1.000\ttest accuracy=0.750\n",
      "epoch=407\ttrain loss=0.047118\ttrain accuracy=0.968\ttest accuracy=0.688\n",
      "epoch=408\ttrain loss=0.015039\ttrain accuracy=0.984\ttest accuracy=0.688\n",
      "epoch=409\ttrain loss=0.019932\ttrain accuracy=0.984\ttest accuracy=0.812\n",
      "epoch=410\ttrain loss=0.001408\ttrain accuracy=1.000\ttest accuracy=0.812\n",
      "epoch=411\ttrain loss=0.008335\ttrain accuracy=1.000\ttest accuracy=0.812\n",
      "epoch=412\ttrain loss=0.400116\ttrain accuracy=0.968\ttest accuracy=0.812\n",
      "epoch=413\ttrain loss=0.026234\ttrain accuracy=0.984\ttest accuracy=0.750\n",
      "epoch=414\ttrain loss=0.117784\ttrain accuracy=0.968\ttest accuracy=0.750\n",
      "epoch=415\ttrain loss=0.008114\ttrain accuracy=1.000\ttest accuracy=0.625\n",
      "epoch=416\ttrain loss=0.012453\ttrain accuracy=1.000\ttest accuracy=0.688\n",
      "epoch=417\ttrain loss=0.006828\ttrain accuracy=1.000\ttest accuracy=0.688\n",
      "epoch=418\ttrain loss=0.017504\ttrain accuracy=0.984\ttest accuracy=0.688\n",
      "epoch=419\ttrain loss=0.003280\ttrain accuracy=1.000\ttest accuracy=0.688\n",
      "epoch=420\ttrain loss=0.001866\ttrain accuracy=1.000\ttest accuracy=0.688\n",
      "epoch=421\ttrain loss=0.000920\ttrain accuracy=1.000\ttest accuracy=0.688\n",
      "epoch=422\ttrain loss=0.007344\ttrain accuracy=1.000\ttest accuracy=0.688\n",
      "epoch=423\ttrain loss=0.026509\ttrain accuracy=0.984\ttest accuracy=0.688\n",
      "epoch=424\ttrain loss=0.013435\ttrain accuracy=1.000\ttest accuracy=0.625\n",
      "epoch=425\ttrain loss=0.034119\ttrain accuracy=0.984\ttest accuracy=0.750\n",
      "epoch=426\ttrain loss=0.003947\ttrain accuracy=1.000\ttest accuracy=0.750\n",
      "epoch=427\ttrain loss=0.019367\ttrain accuracy=1.000\ttest accuracy=0.750\n",
      "epoch=428\ttrain loss=0.025876\ttrain accuracy=0.984\ttest accuracy=0.750\n",
      "epoch=429\ttrain loss=0.016401\ttrain accuracy=1.000\ttest accuracy=0.625\n",
      "epoch=430\ttrain loss=0.001103\ttrain accuracy=1.000\ttest accuracy=0.688\n",
      "epoch=431\ttrain loss=0.005855\ttrain accuracy=1.000\ttest accuracy=0.625\n",
      "epoch=432\ttrain loss=0.011475\ttrain accuracy=1.000\ttest accuracy=0.625\n",
      "epoch=433\ttrain loss=0.012941\ttrain accuracy=1.000\ttest accuracy=0.625\n",
      "epoch=434\ttrain loss=0.002160\ttrain accuracy=1.000\ttest accuracy=0.625\n",
      "epoch=435\ttrain loss=0.001317\ttrain accuracy=1.000\ttest accuracy=0.625\n",
      "epoch=436\ttrain loss=0.000481\ttrain accuracy=1.000\ttest accuracy=0.625\n",
      "epoch=437\ttrain loss=0.002334\ttrain accuracy=1.000\ttest accuracy=0.625\n",
      "epoch=438\ttrain loss=0.023974\ttrain accuracy=0.984\ttest accuracy=0.688\n",
      "epoch=439\ttrain loss=0.000412\ttrain accuracy=1.000\ttest accuracy=0.625\n",
      "epoch=440\ttrain loss=0.030083\ttrain accuracy=0.984\ttest accuracy=0.625\n",
      "epoch=441\ttrain loss=0.001905\ttrain accuracy=1.000\ttest accuracy=0.688\n",
      "epoch=442\ttrain loss=0.007485\ttrain accuracy=1.000\ttest accuracy=0.688\n",
      "epoch=443\ttrain loss=0.000218\ttrain accuracy=1.000\ttest accuracy=0.750\n",
      "epoch=444\ttrain loss=0.008322\ttrain accuracy=1.000\ttest accuracy=0.750\n",
      "epoch=445\ttrain loss=0.013443\ttrain accuracy=1.000\ttest accuracy=0.688\n",
      "epoch=446\ttrain loss=0.001993\ttrain accuracy=1.000\ttest accuracy=0.625\n",
      "epoch=447\ttrain loss=0.002545\ttrain accuracy=1.000\ttest accuracy=0.625\n",
      "epoch=448\ttrain loss=0.002405\ttrain accuracy=1.000\ttest accuracy=0.750\n",
      "epoch=449\ttrain loss=0.073944\ttrain accuracy=0.984\ttest accuracy=0.688\n",
      "epoch=450\ttrain loss=0.004060\ttrain accuracy=1.000\ttest accuracy=0.812\n",
      "epoch=451\ttrain loss=0.000591\ttrain accuracy=1.000\ttest accuracy=0.750\n",
      "epoch=452\ttrain loss=0.141578\ttrain accuracy=0.984\ttest accuracy=0.688\n",
      "epoch=453\ttrain loss=0.045441\ttrain accuracy=0.968\ttest accuracy=0.625\n",
      "epoch=454\ttrain loss=0.006507\ttrain accuracy=1.000\ttest accuracy=0.688\n",
      "epoch=455\ttrain loss=0.002970\ttrain accuracy=1.000\ttest accuracy=0.750\n",
      "epoch=456\ttrain loss=0.001373\ttrain accuracy=1.000\ttest accuracy=0.750\n",
      "epoch=457\ttrain loss=0.019299\ttrain accuracy=1.000\ttest accuracy=0.750\n",
      "epoch=458\ttrain loss=0.004572\ttrain accuracy=1.000\ttest accuracy=0.750\n",
      "epoch=459\ttrain loss=0.002320\ttrain accuracy=1.000\ttest accuracy=0.750\n",
      "epoch=460\ttrain loss=0.001420\ttrain accuracy=1.000\ttest accuracy=0.750\n",
      "epoch=461\ttrain loss=0.000220\ttrain accuracy=1.000\ttest accuracy=0.750\n",
      "epoch=462\ttrain loss=0.000896\ttrain accuracy=1.000\ttest accuracy=0.750\n",
      "epoch=463\ttrain loss=0.035476\ttrain accuracy=0.984\ttest accuracy=0.688\n",
      "epoch=464\ttrain loss=0.001537\ttrain accuracy=1.000\ttest accuracy=0.688\n",
      "epoch=465\ttrain loss=0.049674\ttrain accuracy=0.984\ttest accuracy=0.625\n",
      "epoch=466\ttrain loss=0.053740\ttrain accuracy=0.984\ttest accuracy=0.688\n",
      "epoch=467\ttrain loss=0.009239\ttrain accuracy=1.000\ttest accuracy=0.625\n",
      "epoch=468\ttrain loss=0.000439\ttrain accuracy=1.000\ttest accuracy=0.625\n",
      "epoch=469\ttrain loss=0.044234\ttrain accuracy=0.984\ttest accuracy=0.625\n",
      "epoch=470\ttrain loss=0.000798\ttrain accuracy=1.000\ttest accuracy=0.625\n",
      "epoch=471\ttrain loss=0.005066\ttrain accuracy=1.000\ttest accuracy=0.562\n",
      "epoch=472\ttrain loss=0.034611\ttrain accuracy=0.984\ttest accuracy=0.625\n",
      "epoch=473\ttrain loss=0.002003\ttrain accuracy=1.000\ttest accuracy=0.625\n",
      "epoch=474\ttrain loss=0.009737\ttrain accuracy=1.000\ttest accuracy=0.625\n",
      "epoch=475\ttrain loss=0.060781\ttrain accuracy=0.984\ttest accuracy=0.688\n",
      "epoch=476\ttrain loss=0.019909\ttrain accuracy=0.984\ttest accuracy=0.625\n",
      "epoch=477\ttrain loss=0.001020\ttrain accuracy=1.000\ttest accuracy=0.625\n",
      "epoch=478\ttrain loss=0.004465\ttrain accuracy=1.000\ttest accuracy=0.625\n",
      "epoch=479\ttrain loss=0.008311\ttrain accuracy=1.000\ttest accuracy=0.625\n",
      "epoch=480\ttrain loss=0.000894\ttrain accuracy=1.000\ttest accuracy=0.562\n",
      "epoch=481\ttrain loss=0.001318\ttrain accuracy=1.000\ttest accuracy=0.625\n",
      "epoch=482\ttrain loss=0.011059\ttrain accuracy=1.000\ttest accuracy=0.625\n",
      "epoch=483\ttrain loss=0.000970\ttrain accuracy=1.000\ttest accuracy=0.688\n",
      "epoch=484\ttrain loss=0.000669\ttrain accuracy=1.000\ttest accuracy=0.625\n",
      "epoch=485\ttrain loss=0.000410\ttrain accuracy=1.000\ttest accuracy=0.688\n",
      "epoch=486\ttrain loss=0.005989\ttrain accuracy=1.000\ttest accuracy=0.625\n",
      "epoch=487\ttrain loss=0.001218\ttrain accuracy=1.000\ttest accuracy=0.625\n",
      "epoch=488\ttrain loss=0.004123\ttrain accuracy=1.000\ttest accuracy=0.625\n",
      "epoch=489\ttrain loss=0.000609\ttrain accuracy=1.000\ttest accuracy=0.688\n",
      "epoch=490\ttrain loss=0.004329\ttrain accuracy=1.000\ttest accuracy=0.688\n",
      "epoch=491\ttrain loss=0.000478\ttrain accuracy=1.000\ttest accuracy=0.688\n",
      "epoch=492\ttrain loss=0.003143\ttrain accuracy=1.000\ttest accuracy=0.625\n",
      "epoch=493\ttrain loss=0.079241\ttrain accuracy=0.984\ttest accuracy=0.625\n",
      "epoch=494\ttrain loss=0.068900\ttrain accuracy=0.984\ttest accuracy=0.625\n",
      "epoch=495\ttrain loss=0.018885\ttrain accuracy=0.984\ttest accuracy=0.750\n",
      "epoch=496\ttrain loss=0.055681\ttrain accuracy=0.984\ttest accuracy=0.750\n",
      "epoch=497\ttrain loss=0.056329\ttrain accuracy=0.984\ttest accuracy=0.875\n",
      "epoch=498\ttrain loss=0.002413\ttrain accuracy=1.000\ttest accuracy=0.875\n",
      "epoch=499\ttrain loss=0.088682\ttrain accuracy=0.984\ttest accuracy=0.875\n"
     ]
    }
   ],
   "source": [
    "best_accuracy = 0\n",
    "for epoch in range(500):\n",
    "    running_loss = 0.0\n",
    "    train_acc = 0.0\n",
    "    for step, (batch_image, batch_label) in enumerate(train_loader):\n",
    "        model.train()\n",
    "        # if torch.cuda.is_available():\n",
    "        #     batch_image, batch_label = batch_image.cuda(), batch_label.cuda()\n",
    "        batch_output = model(batch_image)\n",
    "        batch_loss = loss_func(batch_output, batch_label)\n",
    "\n",
    "        optimizer.zero_grad()\n",
    "        batch_loss.backward()\n",
    "        optimizer.step()\n",
    "\n",
    "        running_loss += batch_loss.item()\n",
    "\n",
    "        # train accuracy\n",
    "        _, train_predicted = torch.max(batch_output.data, 1)\n",
    "        train_acc += (train_predicted == batch_label).sum().item()\n",
    "\n",
    "    train_acc /= train_size\n",
    "    running_loss /= (step + 1)\n",
    "\n",
    "    # ----------test----------\n",
    "    model.eval()\n",
    "    test_acc = 0.0\n",
    "    for test_image, test_label in test_loader:\n",
    "        test_output = model(test_image)\n",
    "        _, predicted = torch.max(test_output.data, 1)\n",
    "        test_acc += (predicted == test_label).sum().item()\n",
    "    test_acc /= test_size\n",
    "\n",
    "    print('epoch={:d}\\ttrain loss={:.6f}\\ttrain accuracy={:.3f}\\ttest accuracy={:.3f}'.format(\n",
    "        epoch, running_loss, train_acc, test_acc))\n",
    "\n",
    "    if test_acc >= best_accuracy:\n",
    "        torch.save(model.state_dict(), './trained_models/FCNN_model.pkl')\n",
    "        best_accuracy = test_acc"
   ],
   "metadata": {
    "collapsed": false,
    "pycharm": {
     "name": "#%%\n"
    }
   }
  },
  {
   "cell_type": "code",
   "execution_count": null,
   "outputs": [],
   "source": [],
   "metadata": {
    "collapsed": false,
    "pycharm": {
     "name": "#%%\n"
    }
   }
  }
 ],
 "metadata": {
  "kernelspec": {
   "display_name": "Python 3",
   "language": "python",
   "name": "python3"
  },
  "language_info": {
   "codemirror_mode": {
    "name": "ipython",
    "version": 3
   },
   "file_extension": ".py",
   "mimetype": "text/x-python",
   "name": "python",
   "nbconvert_exporter": "python",
   "pygments_lexer": "ipython3",
   "version": "3.6.7"
  }
 },
 "nbformat": 4,
 "nbformat_minor": 5
}